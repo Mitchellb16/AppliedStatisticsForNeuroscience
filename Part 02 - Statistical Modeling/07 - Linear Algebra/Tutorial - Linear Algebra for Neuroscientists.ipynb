{
 "cells": [
  {
   "cell_type": "markdown",
   "metadata": {},
   "source": [
    "<img src=\"./img/HWNI_logo.svg\"/>"
   ]
  },
  {
   "cell_type": "markdown",
   "metadata": {},
   "source": [
    "# Tutorial - Linear Algebra for Neuroscientists"
   ]
  },
  {
   "cell_type": "markdown",
   "metadata": {},
   "source": [
    "In the remainder of this course,\n",
    "we will be working with multidimensional data:\n",
    "one data value is described with a collection of numbers,\n",
    "usually a *vector*,\n",
    "rather than with a single number,\n",
    "also known as a *scalar*.\n",
    "\n",
    "To work with vectors, we need an algebra,\n",
    "or a set of mathematical rules,\n",
    "for manipulating collections of numbers.\n",
    "This algebra is called *linear algebra*"
   ]
  },
  {
   "cell_type": "markdown",
   "metadata": {},
   "source": [
    "![matrixmultneuralcircuit](./img/matrixmultneuralcircuit.png)"
   ]
  },
  {
   "cell_type": "markdown",
   "metadata": {},
   "source": [
    "### The Importance of Linear Algebra\n",
    "\n",
    "Linear algebra\n",
    "is one of the most important workhorses\n",
    "of applied mathematics.\n",
    "Linear algebra is critical in\n",
    "statistics,\n",
    "optimization,\n",
    "geometry,\n",
    "and more.\n",
    "It shows up whenever\n",
    "we need to consider a collection of numbers\n",
    "as a single object,\n",
    "and just one of many such collections,\n",
    "all of the same length.\n",
    "This turns out to be super common:\n",
    "for example,\n",
    "the x, y, and z coordinates of an object\n",
    "in three-dimensional space are such a collection,\n",
    "as are the firing rates of a population of neurons.\n",
    "\n",
    "Linear algebra is just as important for neuroscience\n",
    "as it is for any other scientific field that uses math.\n",
    "Even though neurons and neural circuits\n",
    "have complex, non-linear behavior,\n",
    "we need the tools of linear algebra\n",
    "to describe that behavior.\n",
    "\n",
    "Unfortunately,\n",
    "despite its critical importance,\n",
    "linear algebra\n",
    "[just isn't *sexy*](https://graphicallinearalgebra.net/2015/04/23/makelele-and-linear-algebra/),\n",
    "so it is often taught perfunctorily and\n",
    "by someone who'd rather be teaching something else\n",
    "to students who'd rather be learning something else.\n",
    "The result is that a lot of folks\n",
    "dislike linear algebra\n",
    "and find it more of a confusing stumbling block\n",
    "than a useful tool.\n",
    "\n",
    "This tutorial presents a few core concepts\n",
    "of linear algebra\n",
    "-- vectors,\n",
    "matrices, and\n",
    "dot products --\n",
    "in a manner that I hope neuroscientists will find intuitive,\n",
    "in an effort to clear away some of that confusion.\n",
    "\n",
    "Though these ideas are fundamental,\n",
    "linear algebra is important because\n",
    "of what can be built out of them,\n",
    "so this tutorial is just the barest introduction.\n",
    "My hope is that this will encourage\n",
    "folks to dive deeper into other resources\n",
    "for learning linear algebra,\n",
    "for example in\n",
    "[Khan Academy's online course](https://www.khanacademy.org/math/linear-algebra).\n",
    "\n",
    "One of the best resources for a quick, intuitive overview of the core of linear algebra is\n",
    "[Grant Sanderson's YouTube Lecture Series](https://www.youtube.com/playlist?list=PLZHQObOWTQDPD3MizzM2xVFitgF8hE_ab),\n",
    "which pairs lucid explanations with slick animations and graphics."
   ]
  },
  {
   "cell_type": "markdown",
   "metadata": {},
   "source": [
    "### A Simple Neural Circuit\n",
    "\n",
    "As our neural circuit model,\n",
    "let's take the\n",
    "[parallel fiber and Purkinje cell](http://charlesfrye.github.io/FoundationalNeuroscience/16/)\n",
    "circuit of the cerebellum.\n",
    "In order to get a clean, cartoon picture,\n",
    "we focus on a collection of\n",
    "three parallel fibers\n",
    "(below, in shades of blue,\n",
    "labeled 1, 2, and 3)\n",
    "that are all connected to each of\n",
    "three Purkinje cells\n",
    "(below, in shades of orange,\n",
    "labeled a, b, and c).\n",
    "\n",
    "The dendritic inputs for the parallel fibers\n",
    "enter from the right,\n",
    "while the inputs of the Purkinje cells\n",
    "enter from  left.\n",
    "The axons of the parallel fibers turn\n",
    "and pass over the dendrites of the Purkinje cells,\n",
    "synapsing with each of them in turn\n",
    "(indicated by colored circles)."
   ]
  },
  {
   "cell_type": "markdown",
   "metadata": {},
   "source": [
    "![matrixmultneuralcircuit](./img/matrixmultneuralcircuit.png)"
   ]
  },
  {
   "cell_type": "markdown",
   "metadata": {},
   "source": [
    "We will assume that these neurons form a\n",
    "*linear system*.\n",
    "What this means is that\n",
    "if the input to a neuron is doubled,\n",
    "or multiplied by any number,\n",
    "the output of the neuron doubles,\n",
    "or is multiplied by that same number.\n",
    "Also,\n",
    "if we measure the outputs of a neuron\n",
    "for two inputs separately,\n",
    "then we know the output of the neuron\n",
    "for those two inputs together:\n",
    "it is the sum of the outputs to the separate inputs.\n",
    "\n",
    "The first property is called *scaling*\n",
    "and the second property is called *superposition*.\n",
    "Real neurons don't have either of these properties --\n",
    "as a very rough example,\n",
    "multiplying the input current to a neuron by seven million\n",
    "won't cause the output to be seven million times greater,\n",
    "it'll just fry the neuron --\n",
    "but our cartoon neurons do.\n",
    "This will make it possible for us to write down\n",
    "precisely how our neurons behave."
   ]
  },
  {
   "cell_type": "markdown",
   "metadata": {},
   "source": [
    "### Experiment #1: Measuring the Behavior of a Single Neuron\n",
    "\n",
    "Let's perform some thought experiments on our cartoon neurons.\n",
    "First, let's place our imaginary\n",
    "[recording electrode](http://charlesfrye.github.io/FoundationalNeuroscience/80/)\n",
    "(indicated by two almost-intersecting lines, representing our pipette tip)\n",
    "on Neuron $a$ and shine our imaginary laser\n",
    "(indicated by the green lightning bolts)\n",
    "on Neurons 1, 2, and 3,\n",
    "which we've modified using optogenetics,\n",
    "so that they respond to light by increasing and decreasing their activity.\n",
    "The experiment is depicted below."
   ]
  },
  {
   "cell_type": "markdown",
   "metadata": {},
   "source": [
    "![experiment1](./img/experiment1.png)"
   ]
  },
  {
   "cell_type": "markdown",
   "metadata": {},
   "source": [
    "If we stimulate Neuron 1 to fire some unit amount,\n",
    "we will measure some rate of firing from Neuron $a$.\n",
    "That is,\n",
    "when Neuron 1 is firing at a rate of 1,\n",
    "we measure some firing rate from Neuron $a$.\n",
    "Loosely speaking,\n",
    "we can think of that value as a\n",
    "*synaptic weight*\n",
    "for the synapse between Neuron 1 and Neuron $a$.\n",
    "Our assumption that scaling inputs\n",
    "causes outputs to scale by the same amount\n",
    "(the *scaling* assumption)\n",
    "lets us take that synaptic weight and use\n",
    "it to predict the output rate of Neuron $a$\n",
    "in response to any input rate in Neuron 1.\n",
    "\n",
    "Indicating the output of Neuron $a$ as\n",
    "$\\text{out}_a$, \n",
    "the firing rate of Neuron 1 as\n",
    "$\\text{in}_1$, \n",
    "and the\n",
    "synaptic weight between\n",
    "Neuron 1 and Neuron $a$\n",
    "as\n",
    "$a_1$, \n",
    "we can write a simple equation\n",
    "for the output of Neuron $a$\n",
    "as a function of the input from Neuron 1:"
   ]
  },
  {
   "cell_type": "markdown",
   "metadata": {},
   "source": [
    "$$\n",
    "\\text{out}_a = a_1 \\cdot in_1\n",
    "$$"
   ]
  },
  {
   "cell_type": "markdown",
   "metadata": {},
   "source": [
    "Plugging in a few numbers will verify\n",
    "that this equation is correct:\n",
    "when Neuron 1 is not firing,\n",
    "Neuron $a$ won't fire,\n",
    "and when Neuron 1 is firing at a rate of 1,\n",
    "the firing rate of Neuron $a$ is\n",
    "$a_1$, \n",
    "just as we measured it before.\n",
    "\n",
    "Notice the similarity of this equation\n",
    "to the equation for a line of slope $m$\n",
    "and intercept of 0:\n",
    "\n",
    "$$\n",
    "y = mx\n",
    "$$\n",
    "\n",
    "this is why our neurons are *linear* neurons:\n",
    "if we graph their outputs as a function of their input,\n",
    "we get a line!\n",
    "\n",
    "We can repeat these measurements\n",
    "for Neurons 2 and 3,\n",
    "and we will get three equations\n",
    "that will let us predict\n",
    "the output of Neuron $a$\n",
    "in response to separate\n",
    "stimulation of each input neuron."
   ]
  },
  {
   "cell_type": "markdown",
   "metadata": {},
   "source": [
    "$$\n",
    "\\text{out}_a = a_1 \\cdot \\text{in}_1 \\\\\n",
    "\\text{out}_a = a_2 \\cdot \\text{in}_2 \\\\\n",
    "\\text{out}_a = a_3 \\cdot \\text{in}_3 \\\\\n",
    "$$"
   ]
  },
  {
   "cell_type": "markdown",
   "metadata": {},
   "source": [
    "With these three equations,\n",
    "we can now predict the output\n",
    "of Neuron $a$ in response to any input!\n",
    "We just need to use our other assumption,\n",
    "the *superpositioning* assumption.\n",
    "That assumption told us\n",
    "that the response of a neuron\n",
    "to the combination of two inputs\n",
    "is just the sum of the outputs\n",
    "to the two inputs individually.\n",
    "Written out mathematically,\n",
    "in our case, that means:\n",
    "\n",
    "$$\n",
    "\\text{out}_a = a_1 \\cdot \\text{in}_1 + a_2 \\cdot \\text{in}_2 + a_3 \\cdot \\text{in}_3\n",
    "$$"
   ]
  },
  {
   "cell_type": "markdown",
   "metadata": {},
   "source": [
    "We can shorten this equation substantially by writing"
   ]
  },
  {
   "cell_type": "markdown",
   "metadata": {},
   "source": [
    "$$\n",
    "\\text{out}_a = \\sum_i a_i \\cdot \\text{in}_i\n",
    "$$"
   ]
  },
  {
   "cell_type": "markdown",
   "metadata": {},
   "source": [
    "where $i$ goes from $1$ to $3$.\n",
    "\n",
    "While these ways of writing\n",
    "the behavior of our linear neuron work,\n",
    "they have their flaws:\n",
    "the first is too long,\n",
    "while the second is too short.\n",
    "We'd like a notation\n",
    "that reminds us of which numbers are multiplied\n",
    "with which,\n",
    "but without all the extra $+$'s and $\\cdot$'s.\n",
    "\n",
    "If we write the seven relevant numbers\n",
    "down on our picture of the circuit\n",
    "(as seen below),\n",
    "a neat spatial layout for the equation\n",
    "suggests itself:"
   ]
  },
  {
   "cell_type": "markdown",
   "metadata": {},
   "source": [
    "![vectornotation](./img/vectornotation.png)"
   ]
  },
  {
   "cell_type": "markdown",
   "metadata": {},
   "source": [
    "$$\n",
    "\\left[\\begin{array}{c}\n",
    "a_1 & a_2 & a_3\n",
    "\\end{array}\\right]\n",
    "\\left[\\begin{array}{ccc}\n",
    "\\text{in}_1 \\\\ \\text{in}_2 \\\\ \\text{in}_3\n",
    "\\end{array}\\right] = \\text{out}_a\n",
    "$$"
   ]
  },
  {
   "cell_type": "markdown",
   "metadata": {},
   "source": [
    "To compute the output,\n",
    "we take a pair of elements in turn,\n",
    "one from each of the boxes,\n",
    "and multiply them together.\n",
    "Once that is done,\n",
    "we add the three results up\n",
    "to get our output.\n",
    "The result of each multiplication\n",
    "is the component of the firing rate\n",
    "of Neuron $a$ that is due to the activity\n",
    "of a single neuron,\n",
    "and the superposition principle lets us add them all up.\n",
    "\n",
    "The two boxes are called\n",
    "*vectors*.\n",
    "For obvious reasons,\n",
    "the one on the left is a *row vector*\n",
    "and the one on the right is a *column vector*.\n",
    "We might call them\n",
    "$\\vec{a}$\n",
    "and $\\vec{\\text{in}}$,\n",
    "where the arrow is intended to remind us that,\n",
    "even though we're using only one symbol,\n",
    "we're referring to a collection of multiple numbers.\n",
    "The process of multiplying two vectors together\n",
    "is variously known as\n",
    "\n",
    "- the *dot product*, because it can be written\n",
    "$\\vec{a}\\cdot\\vec{\\text{in}}$\n",
    "(notice the dot)\n",
    "- the *scalar product*, since the result is a single number,\n",
    "also known as a \"scalar\" because multiplying by a number \"scales\" things\n",
    "- a *weighted sum*, since we multiply each element of $\\vec{\\text{in}}$\n",
    "by a value, or weight, from $\\vec{a}$.\n",
    "Note that this has nothing directly to do with \"synaptic weights\";\n",
    "we could also think of the output as a weighted sum of the values from\n",
    "$\\vec{a}$ with weights given by $\\vec{\\text{in}}$.\n",
    "\n",
    "These operations are ubiquitous in mathematics.\n",
    "For example,\n",
    "computing the average of a collection of $N$ numbers\n",
    "is a multiplication of vectors:\n",
    "one vector containing all of the numbers\n",
    "and the other containing $1/N$ in each position\n",
    "(this operation is a good example of a weighted sum).\n",
    "In the greatest generality,\n",
    "even derivatives and integrals are a form of\n",
    "[vector multiplication](https://www.encyclopediaofmath.org/index.php/Linear_operator).\n",
    "\n",
    "Rather than diving deeper into those ideas,\n",
    "we'll return to our neural circuit to see\n",
    "how recording the outputs\n",
    "of more than one neuron at a time\n",
    "leads us to matrices."
   ]
  },
  {
   "cell_type": "markdown",
   "metadata": {},
   "source": [
    "### Experiment #2: Measuring the Behavior of Multiple Neurons\n",
    "\n",
    "In many neuroscience contexts,\n",
    "the behavior of a single neuron is not very informative.\n",
    "Instead, it is the behavior of many neurons together\n",
    "that gives rise to the behavior of the system.\n",
    "This view gave rise to the philosophy of\n",
    "[connectionism](https://plato.stanford.edu/entries/connectionism/)\n",
    "and thereby the\n",
    "[artificial neural networks](http://neuralnetworksanddeeplearning.com/)\n",
    "that have been so successful in solving problems with computers\n",
    "that previously only humans and animals had been able to solve.\n",
    "\n",
    "So let us proceed to measuring the responses of all three of\n",
    "our output neurons,\n",
    "$a$, $b$, and $c$,\n",
    "simultaneously,\n",
    "and see what happens.\n",
    "\n",
    "A cartoon of this experiment appears below,\n",
    "with green lightning bolts indicating\n",
    "optogenetic stimulation\n",
    "and black lines indicating the positions\n",
    "of recording electrodes."
   ]
  },
  {
   "cell_type": "markdown",
   "metadata": {},
   "source": [
    "![experiment2](./img/experiment2.png)"
   ]
  },
  {
   "cell_type": "markdown",
   "metadata": {},
   "source": [
    "Since our output neurons\n",
    "(in orange)\n",
    "are not connected to each other,\n",
    "we can repeat the same stimulation experiment\n",
    "we used on Neuron $a$ above\n",
    "to get the synaptic weights\n",
    "from Neuron 1 to each of our output neurons.\n",
    "\n",
    "That is,\n",
    "we stimulate Neuron 1 to fire at a unit rate\n",
    "and record the output rates of the three neurons.\n",
    "These three rates become the values of our synaptic weights\n",
    "$a_1$, $b_1$, and $c_1$.\n",
    "A diagram of this stage of the experiment appears below."
   ]
  },
  {
   "cell_type": "markdown",
   "metadata": {},
   "source": [
    "![columnvector](./img/columnvector.png)"
   ]
  },
  {
   "cell_type": "markdown",
   "metadata": {},
   "source": [
    "As before,\n",
    "we can now predict the responses of our three output neurons\n",
    "to any input rate from Neuron 1.\n",
    "The three equations appear below."
   ]
  },
  {
   "cell_type": "markdown",
   "metadata": {},
   "source": [
    "$$\n",
    "\\text{out}_a = a_1 \\cdot \\text{in}_1 \\\\\n",
    "\\text{out}_b = b_1 \\cdot \\text{in}_1 \\\\\n",
    "\\text{out}_c = c_1 \\cdot \\text{in}_1 \\\\\n",
    "$$"
   ]
  },
  {
   "cell_type": "markdown",
   "metadata": {},
   "source": [
    "Also as before,\n",
    "we can summarize these equations with a vector equation,\n",
    "which is valid so long as Neuron 1 is the only active input:"
   ]
  },
  {
   "cell_type": "markdown",
   "metadata": {},
   "source": [
    "$$\n",
    "\\text{in}_1 \\cdot\n",
    "\\left[\\begin{array}{ccc}\n",
    "a_1 \\\\ b_1 \\\\ c_1\n",
    "\\end{array}\\right]\n",
    "=\n",
    "\\left[\\begin{array}{ccc}\n",
    "\\text{out}_a \\\\ \\text{out}_b \\\\ \\text{out}_c\n",
    "\\end{array}\\right]\n",
    "$$"
   ]
  },
  {
   "cell_type": "markdown",
   "metadata": {},
   "source": [
    "This equation tells us that firing in Neuron 1\n",
    "is \"broadcast\" into firing in Neurons $a$ - $c$\n",
    "with different weights\n",
    "(but remember,\n",
    "nothing prevents one or more of the weights\n",
    "from being $0$).\n",
    "\n",
    "To complete our study of this neural circuit,\n",
    "we repeat this for input Neurons 2 and 3.\n",
    "The result is that\n",
    "we have recovered all of the synaptic weights\n",
    "and can predict the output of our circuit\n",
    "in reponse to arbitrary input patterns.\n",
    "\n",
    "First, a diagram of the circuit,\n",
    "with the synaptic weights added:"
   ]
  },
  {
   "cell_type": "markdown",
   "metadata": {},
   "source": [
    "![fullmatrix](./img/fullmatrix.png)"
   ]
  },
  {
   "cell_type": "markdown",
   "metadata": {},
   "source": [
    "If we compare this to the diagram\n",
    "we had at the end of our first experiment,\n",
    "the interpretation that jumps out at us\n",
    "is that we have three equations,\n",
    "one for computing the output of each neuron.\n",
    "These equations are:"
   ]
  },
  {
   "cell_type": "markdown",
   "metadata": {},
   "source": [
    "$$\n",
    "\\text{out}_a = \\sum_i a_i \\cdot \\text{in}_i \\\\\n",
    "\\text{out}_b = \\sum_i b_i \\cdot \\text{in}_i \\\\\n",
    "\\text{out}_c = \\sum_i c_i \\cdot \\text{in}_i \\\\\n",
    "$$"
   ]
  },
  {
   "cell_type": "markdown",
   "metadata": {},
   "source": [
    "Once again,\n",
    "the repeated structure of these three equations\n",
    "suggest that we can combine them into a more compact notation,\n",
    "just as we did with the equations that described\n",
    "how to calculate the output of Neuron $a$.\n",
    "\n",
    "For starters,\n",
    "we can use the \"dot product\" notation\n",
    "to emphasize that the weights and inputs are vectors --\n",
    "collections of indexed numbers.\n",
    "This gives us:"
   ]
  },
  {
   "cell_type": "markdown",
   "metadata": {},
   "source": [
    "$$\n",
    "\\text{out}_a = \\vec{a} \\cdot \\vec{\\text{in}} \\\\\n",
    "\\text{out}_b = \\vec{b} \\cdot \\vec{\\text{in}} \\\\\n",
    "\\text{out}_c = \\vec{c} \\cdot \\vec{\\text{in}} \\\\\n",
    "$$"
   ]
  },
  {
   "cell_type": "markdown",
   "metadata": {},
   "source": [
    "But notice the inefficiencies and inadequacies of this representation:\n",
    "the input vector, $\\vec{\\text{in}}$,\n",
    "is repeated three times,\n",
    "and the output,\n",
    "which is a vector,\n",
    "is split into three separate equations.\n",
    "\n",
    "If we look again at the diagram of the circuit above,\n",
    "an  alternative, spatial notation,\n",
    "much like the one that initially inspired us to introduce vectors,\n",
    "suggests itself:\n",
    "we take the three synaptic weight vectors of neurons $a$ - $c$\n",
    "and combine them into a 2-dimensional object\n",
    "by stacking them on top of each other.\n",
    "Then, we calculate the output of each neuron\n",
    "by taking the corresponding row of this 2-d array\n",
    "and multiplying each of its elements by the corresponding\n",
    "input firing rate.\n",
    "\n",
    "We can write this as:"
   ]
  },
  {
   "cell_type": "markdown",
   "metadata": {},
   "source": [
    "$$\n",
    "\\left[\\begin{array}{ccc}\n",
    "a_1 & a_2 & a_3 \\\\\n",
    "b_1 & b_2 & b_3 \\\\\n",
    "c_1 & c_2 & c_3 \\\\\n",
    "\\end{array}\\right]\n",
    "\\left[\\begin{array}{ccc}\n",
    "\\text{in}_1 \\\\ \\text{in}_2 \\\\ \\text{in}_3\n",
    "\\end{array}\\right]\n",
    "=\n",
    "\\left[\\begin{array}{ccc}\n",
    "\\text{out}_a \\\\ \\text{out}_b \\\\ \\text{out}_c\n",
    "\\end{array}\\right]\n",
    "$$"
   ]
  },
  {
   "cell_type": "markdown",
   "metadata": {},
   "source": [
    "The 2-d array of numbers is called a *matrix*.\n",
    "Make sure to look between this equation\n",
    "and the circuit diagram and see what patterns jump out at you!\n",
    "Notice how much more natural and sensible\n",
    "the rules for multiplication are\n",
    "in this context,\n",
    "compared how they are normally taught.\n",
    "\n",
    "Just as we summarized our one-dimensional arrays,\n",
    "our vectors,\n",
    "with a single symbol by placing an arrow\n",
    "over the top of a letter,\n",
    "we can summarize our matrix with a single symbol.\n",
    "The standard is to use a single, Latin capital letter\n",
    "that is not italicized.\n",
    "Sometimes, boldface letters are used.\n",
    "Choosing the symbol $\\textbf{W}$\n",
    "for our matrix of synaptic $\\textbf{W}$eights,\n",
    "we end up with"
   ]
  },
  {
   "cell_type": "markdown",
   "metadata": {},
   "source": [
    "$$\n",
    "\\vec{\\text{out}} = \\textbf{W}\\vec{\\text{in}}\n",
    "$$"
   ]
  },
  {
   "cell_type": "markdown",
   "metadata": {},
   "source": [
    "as our final equation describing the behavior of this circuit.\n",
    "In this form, the similarity to the equation for a line\n",
    "with zero intercept,\n",
    "$y = mx$,\n",
    "is emphasized,\n",
    "as is the fact that the entire behavior\n",
    "of the circuit depends on just the synaptic weights.\n",
    "\n",
    "The preceding discussion focused on our first vector equation,\n",
    "which summarized how to calculate the output of a single linear neuron\n",
    "with multiple inputs.\n",
    "The operative vector was a row vector,\n",
    "the vector of weights of neuron a,\n",
    "and this led us to a view of the weight matrix\n",
    "that was row-centric.\n",
    "\n",
    "We can instead return to our second vector equation,\n",
    "the one from the perspective of Neuron 1,\n",
    "reproduced below:"
   ]
  },
  {
   "cell_type": "markdown",
   "metadata": {},
   "source": [
    "$$\n",
    "\\text{in}_1 \\cdot\n",
    "\\left[\\begin{array}{ccc}\n",
    "a_1 \\\\ b_1 \\\\ c_1\n",
    "\\end{array}\\right]\n",
    "=\n",
    "\\left[\\begin{array}{ccc}\n",
    "\\text{out}_a \\\\ \\text{out}_b \\\\ \\text{out}_c\n",
    "\\end{array}\\right]\n",
    "$$"
   ]
  },
  {
   "cell_type": "markdown",
   "metadata": {},
   "source": [
    "In this equation,\n",
    "the operative vector is a column vector\n",
    "(corresponding to a column of our matrix).\n",
    "Instead of describing what the *output of a single neuron* looks like\n",
    "in response to multiple inputs,\n",
    "this equation describes what happens to *input from a single neuron*\n",
    "as it produce multiple outputs.\n",
    "\n",
    "This gives us a second perspective on our matrix:\n",
    "while the rows correspond to the transformations that output neurons\n",
    "perform on input vectors,\n",
    "the columns correspond to the result of\n",
    "stimulating a single input neuron.\n",
    "\n",
    "This perspective interacts nicely\n",
    "with our two principles for linear systems:\n",
    "superposition and scaling.\n",
    "Any combination of firing rates in the input neurons\n",
    "can be described as a superposition and scaling\n",
    "of single input neurons firing at rate $1$.\n",
    "That is, we can think of an input vector\n",
    "$\\left[ 2,\\ 4,\\ 0 \\right]$,\n",
    "as the superposition of\n",
    "the first input neuron firing alone at rate $1$, scaled by $2$,\n",
    "and the second input neuron firing alone at rate $1$, scaled by $4$,\n",
    "and the third input neuron firing alone at rate $1$, scaled by $0$.\n",
    "\n",
    "Vectors with one element equal to $1$ and all the others equal to $0$\n",
    "are called\n",
    "*canonical basis vectors*:\n",
    "*basis vectors* because superpositions and scalings of those vectors\n",
    "can be equal to any vector of the same length\n",
    "and\n",
    "*canonical* because they are the simplest, most obvious vectors\n",
    "that are a basis.\n",
    "\n",
    "Therefore our second perspective on the weight matrix\n",
    "$\\textbf{W}$\n",
    "is that its columns correspond to\n",
    "the output in response to the canonical basis vectors.\n",
    "Try working through the matrix-vector multiplication\n",
    "yourself for a particular canonical basis vector\n",
    "and this fact should pop out at you."
   ]
  },
  {
   "cell_type": "markdown",
   "metadata": {},
   "source": [
    "### Conclusions"
   ]
  },
  {
   "cell_type": "markdown",
   "metadata": {},
   "source": [
    "![fullmatrix](./img/fullmatrix.png)"
   ]
  },
  {
   "cell_type": "markdown",
   "metadata": {},
   "source": [
    "$$\n",
    "\\left[\\begin{array}{ccc}\n",
    "a_1 & a_2 & a_3 \\\\\n",
    "b_1 & b_2 & b_3 \\\\\n",
    "c_1 & c_2 & c_3 \\\\\n",
    "\\end{array}\\right]\n",
    "\\left[\\begin{array}{ccc}\n",
    "\\text{in}_1 \\\\ \\text{in}_2 \\\\ \\text{in}_3\n",
    "\\end{array}\\right]\n",
    "=\n",
    "\\left[\\begin{array}{ccc}\n",
    "\\text{out}_a \\\\ \\text{out}_b \\\\ \\text{out}_c\n",
    "\\end{array}\\right]\n",
    "$$"
   ]
  },
  {
   "cell_type": "markdown",
   "metadata": {},
   "source": [
    "This tutorial aimed to explicate\n",
    "the somewhat unintuitive matrix equation above,\n",
    "with its seemingly arbitrary rules for who gets multiplied with whom\n",
    "and what gets added where,\n",
    "in terms of a system that neuroscientists might find intuitive:\n",
    "a simple neural circuit.\n",
    "This encouraged us to take two views of this matrix equation,\n",
    "one from the view of our output neurons,\n",
    "which emphasized the rows of our matrix,\n",
    "and one from the view of our input neurons,\n",
    "which emphasized the columns of our matrix.\n",
    "\n",
    "These ideas just begin to scratch the surface of linear algebra.\n",
    "What began, as it did here,\n",
    "as a simple notational convenience\n",
    "has blossomed into an indispensible tool of both\n",
    "applied and pure mathematics.\n",
    "I hope that,\n",
    "armed with the intuition\n",
    "from this neural circuit example,\n",
    "neuroscientists will feel more comfortable\n",
    "chasing those more abstract and complex\n",
    "features of linear algebra.\n",
    "Grant Sanderson's\n",
    "[Essence of Linear Algebra](https://www.youtube.com/playlist?list=PLZHQObOWTQDPD3MizzM2xVFitgF8hE_ab)\n",
    "video lecture series is a great way to start!"
   ]
  },
  {
   "cell_type": "markdown",
   "metadata": {},
   "source": [
    "[matrixmultneuralcircuit]: img/matrixmultneuralcircuit.png\n",
    "[experiment1]: img/experiment1.png\n",
    "[vectornotation]: img/vectornotation.png\n",
    "[experiment2]: {{site.imgurl}}/experiment2.png\n",
    "[columnvector]: {{site.imgurl}}/columnvector.png\n",
    "[fullmatrix]: {{site.imgurl}}/fullmatrix.png"
   ]
  }
 ],
 "metadata": {
  "kernelspec": {
   "display_name": "neur299",
   "language": "python",
   "name": "neur299"
  },
  "language_info": {
   "codemirror_mode": {
    "name": "ipython",
    "version": 3
   },
   "file_extension": ".py",
   "mimetype": "text/x-python",
   "name": "python",
   "nbconvert_exporter": "python",
   "pygments_lexer": "ipython3",
   "version": "3.6.2"
  }
 },
 "nbformat": 4,
 "nbformat_minor": 2
}
