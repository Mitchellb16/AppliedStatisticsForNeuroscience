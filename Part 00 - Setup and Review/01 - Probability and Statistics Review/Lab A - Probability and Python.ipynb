{
 "cells": [
  {
   "cell_type": "markdown",
   "metadata": {},
   "source": [
    "<img src=\"./img/HWNI_logo.svg\"/>"
   ]
  },
  {
   "cell_type": "markdown",
   "metadata": {},
   "source": [
    "# Lab A - Review of Probability and Python Fundamentals\n",
    "\n",
    "We'll begin by going over both key notions from probability and some of the most fundamental descriptive statistics -- means, medians, and so on. We'll also take this opportunity to practice using the technological tools we'll need for this course.\n",
    "\n",
    "In this first (shorter) half of the lab, we'll be reviewing probability and using some of the fundamental tools of Python: lists, dictionaries, and functions.\n",
    "\n",
    "If you've never done any computer programming before, make sure to work through the [Codecademy Python course](https://www.codecademy.com/learn/python) through Lesson 9 as soon as possible. You won't necessarily need it to make it through this lab, but baseline comfort with programming is a key skill for this course and for most of science today."
   ]
  },
  {
   "cell_type": "code",
   "execution_count": null,
   "metadata": {},
   "outputs": [],
   "source": [
    "# makes our plots show up inside Jupyter\n",
    "%matplotlib inline"
   ]
  },
  {
   "cell_type": "code",
   "execution_count": null,
   "metadata": {},
   "outputs": [],
   "source": [
    "import util.utils as utils\n",
    "import util.shared as shared\n",
    "\n",
    "# adjust the fig_scale argument if the figures do not fit your screen well\n",
    "shared.format_plots(fig_scale=5.)"
   ]
  },
  {
   "cell_type": "markdown",
   "metadata": {},
   "source": [
    "## What is Probability?"
   ]
  },
  {
   "cell_type": "markdown",
   "metadata": {},
   "source": [
    "The meaning of a statement like \"the chance that I roll a die and it comes up 6 is 1/6\" is both intuitively obvious and flabbergastingly difficult to pin down. Indeed, the foundations of probability are a topic for [philosophy](https://plato.stanford.edu/entries/probability-interpret/) as much as or more than for mathematics. Four alternative interpretations of that statement appear below: \n",
    "\n",
    "- If I were to prepare a large number of dice identical to this one and roll them all at once, about 1/6 of them would come up 6\n",
    "- If I were to examine all possible universes consistent with my beliefs right now, then 1/6 of them contain me rolling a die that comes up as a 6\n",
    "- If I wish to think logically about the statement \"the die comes up a 6\", then, given my current knowledge, I should assign the truth value 1/6 (where 1 is definitely true and 0 is definitely false)\n",
    "- The mathematical rules that I need to apply to games involving rolling dice in order to avoid being cheated tell me to assign the number 1/6 to the event \"the die comes up a 6\"\n",
    "\n",
    "Which of these interpretations you prefer is, in the end, an aesthetic choice. The lattermost view, due to [de Finetti](https://en.wikipedia.org/wiki/Bruno_de_Finetti), is known as the [\"Dutch Book\"](https://en.wikipedia.org/wiki/Dutch_book) argument and is popular among financial mathematicians and stock traders. The formermost view, the [*frequentist* view](https://en.wikipedia.org/wiki/Frequentist_probability), is most popular among practicing scientists and is the \"traditional\" view among statisticians. The second and third views are two flavors of [*Bayesianism*](http://charlesfrye.github.io/stats/2016/02/04/bayes-rule.html), and are popular among cognitive and computer scientists and the current generation of statisticians. The third is forcefully argued for by [Edwin Jaynes](https://en.wikipedia.org/wiki/Edwin_Thompson_Jaynes) in his posthumous work *Probability Theory: The Logic of Science*.\n",
    "\n",
    "We won't dwell on these questions here, but it's worth considering what your opinion is and why you hold it."
   ]
  },
  {
   "cell_type": "markdown",
   "metadata": {},
   "source": [
    "## What are Probability Distributions?"
   ]
  },
  {
   "cell_type": "markdown",
   "metadata": {},
   "source": [
    "Regardless of what it \"really means\", once we have a mathematical definition of probability, we can start manipulating that mathematical model to understand it better. Armed with a few common sense ideas -- the probability that \"something happens\" is always 1, nothing can have a negative probability, and the probability of either of two things happening is at least as much as one of them happening -- we can define two important notions: the *probability mass function* and the *probability density function*. These are both examples of *probability distributions*."
   ]
  },
  {
   "cell_type": "markdown",
   "metadata": {},
   "source": [
    "### Probability Mass Functions\n",
    "\n",
    "If I roll a die, only one of 6 things might happen -- I'll get a number from 1 to 6. One die might be well-made and fair, and so each number will have the same chance of showing up. Another die might be poorly-made, and so there will be some small variations in those chances. Another die might be intentionally made unfair, and so there will be some big variations.\n",
    "\n",
    "We'd like to be able to describe the differences between these dice with numbers. We do this by defining, for each die, a function that takes in a number between 1 and 6 and spits out the probability that rolling the die will result in that number. We call this the *probability mass function*.\n",
    "\n",
    "Why *mass function*? Remember two of our common sense ideas about probability: nothing can have a negative probability, and the probability of either of two things happening is at least as much as one of them happening. These are the same restrictions that we have when we're talking about the masses of objects: nothing can have a negative mass, and the mass of two things is at least as much as the mass of one of the objects (why is the mass of two objects not the sum of the masses of the individual objects? What happens if our two objects are \"my arm\" and \"my whole body\"?).\n",
    "\n",
    "The closest physical analogue to the probability mass function for a (possibly loaded) die is the mass function for a box of six rocks. For each rock, the mass function tells me how much mass it has, a number which cannot be negative. If I add up the masses of all of the rocks, I get the total mass of the collection of rocks. A fair die, one on which all faces have the same chance of landing up, like the ones we normally use for games of chance, would be like a box with six rocks that all weigh the same.\n",
    "\n",
    "Mathematically, then, probabilities are like masses. We put a lot of \"mass\" on events that are likely to occur and less \"mass\" on events that are unlikely. One big difference between probability and physical mass is that the \"total mass\" for a probability mass function is always one."
   ]
  },
  {
   "cell_type": "markdown",
   "metadata": {},
   "source": [
    "### Probability Mass Functions in Python\n",
    "\n",
    "Here are two good ways to represent probability mass functions in Python: as *lists* and as *dictionaries*. Lists are good when the probability mass functions take in numbers, as in our dice-rolling example, while dictionaries are good when the probability mass functions take in something else, like the suit and rank of a playing card. We could also use *functions*, which are discussed more below.\n",
    "\n",
    "#### Probability Mass Functions with Lists\n",
    "\n",
    "A list is an ordered collection of objects -- everything in Python is an object, so a list can contain numbers, strings, even functions or other lists! Because lists are ordered, we can retrieve items from a list using a number -- the *index*, or how far into the list the item is. Note that the \"first\" item in a list is, in Python, at index `0`.\n",
    "\n",
    "To represent a probability mass function, we want a *list of numbers*. Below, I've written out the probability mass function for a fair die. Add a cell underneath it (`Insert > Insert Cell Below` in the menu), and write the probability mass function (PMF for short) for an unfair die of your choosing.\n",
    "\n",
    "You can copy and paste the provided template or write it yourself, but in either case, make sure the variable is named `unfair_PMF`. The code in the cell after that will plot both mass functions, so you can see what they look like."
   ]
  },
  {
   "cell_type": "code",
   "execution_count": null,
   "metadata": {},
   "outputs": [],
   "source": [
    "# list = [item0,item1,item2, ... ]"
   ]
  },
  {
   "cell_type": "code",
   "execution_count": null,
   "metadata": {},
   "outputs": [],
   "source": [
    "fair_PMF = [0, 1/6, 1/6, 1/6, 1/6, 1/6, 1/6, 0]"
   ]
  },
  {
   "cell_type": "markdown",
   "metadata": {},
   "source": [
    "Template:\n",
    "```python\n",
    "unfair_PMF = [0, ..., 0]\n",
    "```"
   ]
  },
  {
   "cell_type": "code",
   "execution_count": null,
   "metadata": {},
   "outputs": [],
   "source": [
    "utils.plot_PMF(fair_PMF, title='PMF for a Fair Die');\n",
    "utils.plot_PMF(unfair_PMF, title='PMF for an Unfair Die');"
   ]
  },
  {
   "cell_type": "markdown",
   "metadata": {},
   "source": [
    "#### Q1 Why is the first element of the list 0?"
   ]
  },
  {
   "cell_type": "markdown",
   "metadata": {},
   "source": [
    "#### Q2 In a code cell below, calculate the chance of each of the following events for the fair and unfair die.\n",
    "\n",
    "a. 6\n",
    "  \n",
    "b. Greater than 3\n",
    "  \n",
    "c. Either odd or less than 3"
   ]
  },
  {
   "cell_type": "markdown",
   "metadata": {},
   "source": [
    "#### Probability Mass Functions with Dictionaries\n",
    "\n",
    "Now, we ran into a bit of awkwardness up there when we defined our probability mass function because Python list indices start at 0 but dice start at 1. If dice started at 100, we would've been in real trouble! And if we'd been working with playing cards instead of dice, we wouldn't have had any way to proceed.\n",
    "\n",
    "One way out would be to declare that `fairPMF[0]` is the probability that 1 comes up, rather than 0, and so on up until `fairPMF[5]`, the probability that 6 comes up. This is a perfectly acceptable solution, but it requires you to remember that `1` the index is not 1, the number on the die. That's OK in this case, but when you try and extend it to something more complicated, like the deck of cards, the relationship between index and outcome can get hairy.\n",
    "\n",
    "We can avoid this using *dictionaries*, which are like lists that use names as indices, instead of numbers. These names are called *keys*. Like paper dictionaries, when I want to look up an object in a Python dictionary, I use its name. Unlike paper dictionaries, the contents are not sorted, and unlike lists, their order might change.\n",
    "\n",
    "Below, I've defined two probability mass functions with dictionaries, one for a fair die and the other for the grade distribution of a curved class (not this one!). Define your own to make sure you've got the hang of the syntax."
   ]
  },
  {
   "cell_type": "code",
   "execution_count": null,
   "metadata": {},
   "outputs": [],
   "source": [
    "# dictionary = {key0:item0, key1:item1, ... }"
   ]
  },
  {
   "cell_type": "code",
   "execution_count": null,
   "metadata": {},
   "outputs": [],
   "source": [
    "fair_PMF = {1:1/6,\n",
    "           2:1/6,\n",
    "           3:1/6,\n",
    "           4:1/6,\n",
    "           5:1/6,\n",
    "           6:1/6,\n",
    "          }\n",
    "\n",
    "grades_PMF = {'A':0.25,'B':0.4,'C':0.2,'D':0.05,'F':0.1}"
   ]
  },
  {
   "cell_type": "markdown",
   "metadata": {},
   "source": [
    "#### Q3 In a code cell below, calculate the following:\n",
    "\n",
    "a. the chance a fair die comes up even\n",
    "\n",
    "b. the chance a randomly-chosen student passes the class (D or higher)\n",
    "\n",
    "c. the chance of an interesting event based on your PMF."
   ]
  },
  {
   "cell_type": "markdown",
   "metadata": {},
   "source": [
    "### Probability Density Functions\n",
    "\n",
    "Probability mass functions are useful, but there are some situations where they're not enough. For example, say I throw a dart at a circular dartboard and ask where it landed. There are so many possible places that the dart could land that it's impossible to list them all, even with infinite time (this is called an *uncountable infinity*). We need to be able to list something in order to define a probability mass function, so we need something new to handle these cases.\n",
    "\n",
    "We introduce the *probability density function* by analogy to the densities we encounter in the physical world. The density function of an object tells you how its mass is distributed -- where there is more mass per unit volume, the density is higher, and where there is less, the density is lower. We can use density functions to calculate how much mass there is in each and every part of an object.\n",
    "\n",
    "When the density is the same across the whole object, we can just multiply this constant density value by the volume of the part we're interested in to get the mass. For complicated objects, like humans and laptop computers, the density will be very different at different points. If we want to know how approximately much an object weighs, we need to take a whole bunch of small volumes and add up how much mass is in each of them. The smaller the volumes we take, the more accurate our measurement of the mass will be -- the density can't change too much if the volume is small. Using calculus, we can describe mathematically what happens when our volumes are \"infinitely small\" and so the mass we calculate will be exactly correct. You may be familiar with this idea, which is called an *integral*.\n",
    "\n",
    "So, just like the density function is the function we integrate in order to get the mass of any part of an object, a probability density function is the function we integrate in order to get the probability of any group of events out of the possible outcomes. Again, we want the chance that \"something happens\" to be 1, so we say that the integral of a probability density function is 1.\n",
    "\n",
    "Also just like regular density, the probability density at a given point can be higher than the total probability. For example, the density of human bone is roughly 2000 kg/m$^3$, but humans weigh much less than 2000 kilograms. Similarly, the density of probability in one region might be more than 1, even though the total amount of probability is always exactly 1.\n",
    "\n",
    "When we want to speak generally about a collection of probabilities but don't want to specify whether it's a probability mass function or a probability density function, we call it a *probability distribution*."
   ]
  },
  {
   "cell_type": "markdown",
   "metadata": {},
   "source": [
    "#### Probability Density Functions in Python\n",
    "\n",
    "Because we cannot list all of the possible outcomes, we cannot use a list or a dictionary to represent a probability density function. Instead, we need to use a Python *function*. Just like a mathematical function, a Python function takes in an input and returns an output. Python functions can be used to represent mass or density functions.\n",
    "\n",
    "Below, I've defined a Python function that corresponds to a probability density function that is equal to 1 between 0 and 1 and 0 everywhere else. A probability density or mass function that is equal to some constant value for certain numbers and 0 for all others is called a *uniform* density or mass function.\n",
    "\n",
    "Write your own probability density function, with the name `your_PDF`, in a cell below. For simplicity's sake, let's say that only outcomes between 0 and 1 are possible, just like in my `uniform_PDF`. That means `your_PDF` can be any function that integrates to one between 0 and 1. Remember: the integral is equal to the \"area under the curve\". What are some shapes you know the area of?"
   ]
  },
  {
   "cell_type": "markdown",
   "metadata": {},
   "source": [
    "```python\n",
    "def function(input0, input1, ...):\n",
    "    do_stuff(input0)\n",
    "    outputs = do_other_stuff(input1)\n",
    "    return outputs\n",
    "```"
   ]
  },
  {
   "cell_type": "code",
   "execution_count": null,
   "metadata": {},
   "outputs": [],
   "source": [
    "def uniform_PDF(x):\n",
    "    if 0 < x < 1:\n",
    "        return 1\n",
    "    else:\n",
    "        return 0"
   ]
  },
  {
   "cell_type": "markdown",
   "metadata": {},
   "source": [
    "Template:\n",
    "```python\n",
    "def your_PDF(x):\n",
    "    if 0 < x < 1:\n",
    "        return something\n",
    "    else:\n",
    "        return 0\n",
    "```"
   ]
  },
  {
   "cell_type": "code",
   "execution_count": null,
   "metadata": {},
   "outputs": [],
   "source": [
    "utils.plot_PDF(uniform_PDF, title='Uniform PDF')\n",
    "\n",
    "utils.plot_PDF(your_PDF, title='Your PDF')\n",
    "\n",
    "assert utils.integrates_to_one(your_PDF)"
   ]
  },
  {
   "cell_type": "markdown",
   "metadata": {},
   "source": [
    "#### Q4 What was the maximum value of your probability density function? Was it greater than 1? What about for your probability mass function? Why is an output bigger than 1 possible in one case but not the other?"
   ]
  },
  {
   "cell_type": "markdown",
   "metadata": {},
   "source": [
    "### Cumulative Density Functions\n",
    "\n",
    "Instead of asking \"what's the probability density at x?\", it's sometimes more natural to ask \"what's the probability that the value is less than or equal to x?\". For every x, the result is a value that is between 0 and 1 (why?). Since we can put in any x and get out a single answer, we have defined a function! The function that takes in a number and tells you the probability that a random value is less than or equal to that number is called the *cumulative distribution function*, since it tracks how much probability has \"accumulated\" up to a given number. "
   ]
  },
  {
   "cell_type": "markdown",
   "metadata": {},
   "source": [
    "## From Probability to Statistics"
   ]
  },
  {
   "cell_type": "markdown",
   "metadata": {},
   "source": [
    "Probability comprises a set of mathematical tools and concepts that we can use to model and understand events that occur \"randomly\". In science, the events of interest are observations of physical systems, usually organized into experiments. We collect these observations, also called *data*, into datasets, and then we wish to understand those datasets. *Statistics* is the applied mathematical discipline of understanding datasets using probability.\n",
    "\n",
    "In the next (longer) half of the lab, we'll cover some fundamental ideas of statistics and implement them with the Python libraries pandas, numpy, and seaborn."
   ]
  }
 ],
 "metadata": {
  "anaconda-cloud": {},
  "kernelspec": {
   "display_name": "Python 3",
   "language": "python",
   "name": "python3"
  },
  "language_info": {
   "codemirror_mode": {
    "name": "ipython",
    "version": 3
   },
   "file_extension": ".py",
   "mimetype": "text/x-python",
   "name": "python",
   "nbconvert_exporter": "python",
   "pygments_lexer": "ipython3",
   "version": "3.6.7"
  }
 },
 "nbformat": 4,
 "nbformat_minor": 2
}
