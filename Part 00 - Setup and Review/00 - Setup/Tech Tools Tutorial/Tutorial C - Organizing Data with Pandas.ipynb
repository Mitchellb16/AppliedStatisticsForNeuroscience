{
 "cells": [
  {
   "cell_type": "markdown",
   "metadata": {},
   "source": [
    "<img src=\"./img/HWNI_logo.svg\"/>\n",
    "\n",
    "# Organizing Data with Pandas"
   ]
  },
  {
   "cell_type": "markdown",
   "metadata": {},
   "source": [
    "In neuroscience, we often work with complicated datasets. For example, a full \"data point\" from a neuroscience experiment might include several numbers (input stimulus and neural response) along with a host of metadata -- subject ID, brain region, genotype, experiment date, and so on. Trying to manage this with a collection of arrays is an exercise in frustration, and dictionaries hardly improve the situtation.\n",
    "\n",
    "Instead, we can borrow a tool from other data-heavy sciences: the _data frame_. A data frame is like a matrix, in that it contains information in rows and columns, but it is even more like a table, in that the rows and columns have names. We'll dive deeper into this below.\n",
    "\n",
    "The premier package implementing data frames in Python is\n",
    "[pandas](http://pandas.pydata.org/pandas-docs/stable/overview.html).\n",
    "If you've worked with tables in another context, e.g. in the R language,\n",
    "or if you're very comfortable with Python,\n",
    "you can check out the\n",
    "[10 minutes to pandas](http://pandas.pydata.org/pandas-docs/stable/10min.html)\n",
    "mini-tutorial on the pandas website, which covers lots of material at a brisk pace.\n",
    "\n",
    "The following tutorial is indebted to\n",
    "[Brandon Rhodes' PyCon tutorial](https://www.youtube.com/watch?v=5JnMutdy6Fw).\n",
    "That tutorial takes between four and six hours,\n",
    "but it does an excellent job in building a foundation for working with data frames,\n",
    "and Mr. Rhodes is a fabulous teacher,\n",
    "so it's very worth your while if you have the time."
   ]
  },
  {
   "cell_type": "markdown",
   "metadata": {},
   "source": [
    "Let's start by importing pandas."
   ]
  },
  {
   "cell_type": "code",
   "execution_count": 1,
   "metadata": {
    "collapsed": true
   },
   "outputs": [],
   "source": [
    "# pandas - \"DataFrames\" to organize our data\n",
    "import pandas as pd"
   ]
  },
  {
   "cell_type": "markdown",
   "metadata": {},
   "source": [
    "The next cell changes the formatting of the data frames when they're printed to the screen by Jupyter. Comment out these lines and then re-run the notebook to see the default style."
   ]
  },
  {
   "cell_type": "code",
   "execution_count": 2,
   "metadata": {},
   "outputs": [
    {
     "data": {
      "text/html": [
       "<style>/* Originally by Brandon Rhodes, for use with Pandas*/\n",
       "body {\n",
       "    margin: 0;\n",
       "    font-family: Helvetica;\n",
       "}\n",
       "table.dataframe {\n",
       "    border-collapse: collapse;\n",
       "    border: none;\n",
       "}\n",
       "table.dataframe tr {\n",
       "    border: none;\n",
       "}\n",
       "table.dataframe td, table.dataframe th {\n",
       "    margin: 0;\n",
       "    border: 1px solid white;\n",
       "    padding-left: 0.25em;\n",
       "    padding-right: 0.25em;\n",
       "}\n",
       "table.dataframe th:not(:empty) {\n",
       "    background-color: #fec;\n",
       "    text-align: left;\n",
       "    font-weight: normal;\n",
       "}\n",
       "table.dataframe tr:nth-child(2) th:empty {\n",
       "    border-left: none;\n",
       "    border-right: 1px dashed #888;\n",
       "}\n",
       "table.dataframe td {\n",
       "    border: 2px solid #ccf;\n",
       "    background-color: #f4f4ff;\n",
       "}\n",
       "</style>"
      ],
      "text/plain": [
       "<IPython.core.display.HTML object>"
      ]
     },
     "execution_count": 2,
     "metadata": {},
     "output_type": "execute_result"
    }
   ],
   "source": [
    "# this makes our tables easier to read\n",
    "from IPython.core.display import HTML\n",
    "css = open('./css/style-table.css').read()\n",
    "#this line has to be the last in its cell\n",
    "HTML('<style>{}</style>'.format(css)) "
   ]
  },
  {
   "cell_type": "markdown",
   "metadata": {},
   "source": [
    "We'll be using a dataset from [IMDb](http://www.imdb.com/), the Internet Movie Database, `titles.csv`, which contains the title and year of release for almost all movies that had a commerical release. Like all of the data we'll be working with in this course, the data is in the _comma-separated values_ or `.csv` format. That means that the data is stored as a text file, just like the humble `.txt` format, but with the following structure:\n",
    "\n",
    "```\n",
    "column1Name,column2Name\n",
    "row1column1,row1column2\n",
    "row2column1,row2column2\n",
    "```\n",
    "\n",
    "and so on.\n",
    "\n",
    "\n",
    "We load `titles` in below, then use the `.head` method to look at the first few entries."
   ]
  },
  {
   "cell_type": "code",
   "execution_count": 3,
   "metadata": {},
   "outputs": [
    {
     "data": {
      "text/html": [
       "<div>\n",
       "<style>\n",
       "    .dataframe thead tr:only-child th {\n",
       "        text-align: right;\n",
       "    }\n",
       "\n",
       "    .dataframe thead th {\n",
       "        text-align: left;\n",
       "    }\n",
       "\n",
       "    .dataframe tbody tr th {\n",
       "        vertical-align: top;\n",
       "    }\n",
       "</style>\n",
       "<table border=\"1\" class=\"dataframe\">\n",
       "  <thead>\n",
       "    <tr style=\"text-align: right;\">\n",
       "      <th></th>\n",
       "      <th>title</th>\n",
       "      <th>year</th>\n",
       "    </tr>\n",
       "  </thead>\n",
       "  <tbody>\n",
       "    <tr>\n",
       "      <th>0</th>\n",
       "      <td>Lemmy pour les dames</td>\n",
       "      <td>1962</td>\n",
       "    </tr>\n",
       "    <tr>\n",
       "      <th>1</th>\n",
       "      <td>Desperate Moves</td>\n",
       "      <td>1981</td>\n",
       "    </tr>\n",
       "    <tr>\n",
       "      <th>2</th>\n",
       "      <td>Malice: Emergence</td>\n",
       "      <td>2016</td>\n",
       "    </tr>\n",
       "    <tr>\n",
       "      <th>3</th>\n",
       "      <td>Raven's Ridge</td>\n",
       "      <td>1997</td>\n",
       "    </tr>\n",
       "    <tr>\n",
       "      <th>4</th>\n",
       "      <td>Palan ibyeolui geulshi</td>\n",
       "      <td>1968</td>\n",
       "    </tr>\n",
       "  </tbody>\n",
       "</table>\n",
       "</div>"
      ],
      "text/plain": [
       "                    title  year\n",
       "0    Lemmy pour les dames  1962\n",
       "1         Desperate Moves  1981\n",
       "2       Malice: Emergence  2016\n",
       "3           Raven's Ridge  1997\n",
       "4  Palan ibyeolui geulshi  1968"
      ]
     },
     "execution_count": 3,
     "metadata": {},
     "output_type": "execute_result"
    }
   ],
   "source": [
    "titles = pd.DataFrame.from_csv('data/titles.csv',\n",
    "                               index_col = None,\n",
    "                               encoding='utf-8')\n",
    "\n",
    "head = titles.head()\n",
    "head"
   ]
  },
  {
   "cell_type": "markdown",
   "metadata": {},
   "source": [
    "To look at a random collection of entries, we can use the `.sample` method:"
   ]
  },
  {
   "cell_type": "code",
   "execution_count": 4,
   "metadata": {},
   "outputs": [
    {
     "data": {
      "text/html": [
       "<div>\n",
       "<style>\n",
       "    .dataframe thead tr:only-child th {\n",
       "        text-align: right;\n",
       "    }\n",
       "\n",
       "    .dataframe thead th {\n",
       "        text-align: left;\n",
       "    }\n",
       "\n",
       "    .dataframe tbody tr th {\n",
       "        vertical-align: top;\n",
       "    }\n",
       "</style>\n",
       "<table border=\"1\" class=\"dataframe\">\n",
       "  <thead>\n",
       "    <tr style=\"text-align: right;\">\n",
       "      <th></th>\n",
       "      <th>title</th>\n",
       "      <th>year</th>\n",
       "    </tr>\n",
       "  </thead>\n",
       "  <tbody>\n",
       "    <tr>\n",
       "      <th>152799</th>\n",
       "      <td>Yegor Bulychyov i drugiye</td>\n",
       "      <td>1953</td>\n",
       "    </tr>\n",
       "    <tr>\n",
       "      <th>10295</th>\n",
       "      <td>Bu yao rang tai tai zhi dao</td>\n",
       "      <td>1970</td>\n",
       "    </tr>\n",
       "    <tr>\n",
       "      <th>66487</th>\n",
       "      <td>Nae jumeogeul sala</td>\n",
       "      <td>1966</td>\n",
       "    </tr>\n",
       "    <tr>\n",
       "      <th>164973</th>\n",
       "      <td>As Doze Estrelas</td>\n",
       "      <td>2011</td>\n",
       "    </tr>\n",
       "    <tr>\n",
       "      <th>99828</th>\n",
       "      <td>Fabula</td>\n",
       "      <td>2011</td>\n",
       "    </tr>\n",
       "    <tr>\n",
       "      <th>118015</th>\n",
       "      <td>Macumba sexual</td>\n",
       "      <td>1983</td>\n",
       "    </tr>\n",
       "    <tr>\n",
       "      <th>173554</th>\n",
       "      <td>The Fort</td>\n",
       "      <td>2016</td>\n",
       "    </tr>\n",
       "    <tr>\n",
       "      <th>194886</th>\n",
       "      <td>Flat Earth</td>\n",
       "      <td>2014</td>\n",
       "    </tr>\n",
       "    <tr>\n",
       "      <th>197370</th>\n",
       "      <td>All I Want Is Everything</td>\n",
       "      <td>2012</td>\n",
       "    </tr>\n",
       "    <tr>\n",
       "      <th>96180</th>\n",
       "      <td>O misogynis</td>\n",
       "      <td>1958</td>\n",
       "    </tr>\n",
       "  </tbody>\n",
       "</table>\n",
       "</div>"
      ],
      "text/plain": [
       "                              title  year\n",
       "152799    Yegor Bulychyov i drugiye  1953\n",
       "10295   Bu yao rang tai tai zhi dao  1970\n",
       "66487            Nae jumeogeul sala  1966\n",
       "164973             As Doze Estrelas  2011\n",
       "99828                        Fabula  2011\n",
       "118015               Macumba sexual  1983\n",
       "173554                     The Fort  2016\n",
       "194886                   Flat Earth  2014\n",
       "197370     All I Want Is Everything  2012\n",
       "96180                   O misogynis  1958"
      ]
     },
     "execution_count": 4,
     "metadata": {},
     "output_type": "execute_result"
    }
   ],
   "source": [
    "sample = titles.sample(10)\n",
    "\n",
    "sample"
   ]
  },
  {
   "cell_type": "markdown",
   "metadata": {},
   "source": [
    "Note that `sample` and `head` were also data frames."
   ]
  },
  {
   "cell_type": "markdown",
   "metadata": {},
   "source": [
    "## Indexing into Data Frames"
   ]
  },
  {
   "cell_type": "markdown",
   "metadata": {},
   "source": [
    "We can access one column at a time from a data frame in one of two ways. If the name of a column has no spaces, then we can type `dataframe.columnName`. When that doesn't work, for example if the column name has spaces in it, we can use the same syntax we use to access dictionaries: `dataframe[\"column name with spaces\"]`. Note that in the second case, we had to provide the column name as a string.\n",
    "\n",
    "We usually use the `.columnName` syntax when we're directly accessing columns by hand and the `[\"columnName\"]` syntax when we're writing code that accesses columns for us, as below. Can you see why the third example couldn't be rewritten as `sample.column`?"
   ]
  },
  {
   "cell_type": "code",
   "execution_count": 5,
   "metadata": {},
   "outputs": [
    {
     "name": "stdout",
     "output_type": "stream",
     "text": [
      "152799      Yegor Bulychyov i drugiye\n",
      "10295     Bu yao rang tai tai zhi dao\n",
      "66487              Nae jumeogeul sala\n",
      "164973               As Doze Estrelas\n",
      "99828                          Fabula\n",
      "118015                 Macumba sexual\n",
      "173554                       The Fort\n",
      "194886                     Flat Earth\n",
      "197370       All I Want Is Everything\n",
      "96180                     O misogynis\n",
      "Name: title, dtype: object\n",
      "=*==*==*==*==*==*==*==*==*==*==*==*==*==*==*==*==*=\n",
      "152799      Yegor Bulychyov i drugiye\n",
      "10295     Bu yao rang tai tai zhi dao\n",
      "66487              Nae jumeogeul sala\n",
      "164973               As Doze Estrelas\n",
      "99828                          Fabula\n",
      "118015                 Macumba sexual\n",
      "173554                       The Fort\n",
      "194886                     Flat Earth\n",
      "197370       All I Want Is Everything\n",
      "96180                     O misogynis\n",
      "Name: title, dtype: object\n",
      "=*==*==*==*==*==*==*==*==*==*==*==*==*==*==*==*==*=\n",
      "152799      Yegor Bulychyov i drugiye\n",
      "10295     Bu yao rang tai tai zhi dao\n",
      "66487              Nae jumeogeul sala\n",
      "164973               As Doze Estrelas\n",
      "99828                          Fabula\n",
      "118015                 Macumba sexual\n",
      "173554                       The Fort\n",
      "194886                     Flat Earth\n",
      "197370       All I Want Is Everything\n",
      "96180                     O misogynis\n",
      "Name: title, dtype: object\n"
     ]
    }
   ],
   "source": [
    "print(sample.title)\n",
    "\n",
    "# we'll put a separator in between each series so they're easier to read.\n",
    "#    make a string that is =*= repeated 17 times, then print it\n",
    "print(\"=*=\"*17) \n",
    "\n",
    "print(sample[\"title\"])\n",
    "\n",
    "print(\"=*=\"*17)\n",
    "\n",
    "column = \"title\"\n",
    "print(sample[column])"
   ]
  },
  {
   "cell_type": "markdown",
   "metadata": {},
   "source": [
    "The resulting object is called a `Series`. Once we have a `Series`, we can manipulate the data inside very easily. Mathematical operations like adding and logical operations like checking for equality get applied to each element of the `Series`, which gives us a new `Series`. For example, we can floor divide by 10 (divide and throw away the remainder, symbolized by `//`) and then multiply by 10 to figure out the decades of the movies in our sample, and then we can check whether the decade is equal to `2000` to see if any naughty-aughties movies showed up."
   ]
  },
  {
   "cell_type": "code",
   "execution_count": 6,
   "metadata": {},
   "outputs": [
    {
     "name": "stdout",
     "output_type": "stream",
     "text": [
      "152799    1950\n",
      "10295     1970\n",
      "66487     1960\n",
      "164973    2010\n",
      "99828     2010\n",
      "118015    1980\n",
      "173554    2010\n",
      "194886    2010\n",
      "197370    2010\n",
      "96180     1950\n",
      "Name: year, dtype: int64\n",
      "=*==*==*==*==*==*==*==*=\n",
      "152799    False\n",
      "10295     False\n",
      "66487     False\n",
      "164973    False\n",
      "99828     False\n",
      "118015    False\n",
      "173554    False\n",
      "194886    False\n",
      "197370    False\n",
      "96180     False\n",
      "Name: year, dtype: bool\n"
     ]
    }
   ],
   "source": [
    "decades = sample.year // 10 * 10\n",
    "\n",
    "print(decades)\n",
    "print(\"=*=\"*8)\n",
    "\n",
    "isDoubleZeros = (decades == 2000)\n",
    "print(isDoubleZeros)"
   ]
  },
  {
   "cell_type": "markdown",
   "metadata": {},
   "source": [
    "Notice the `dtype` on extra line printed after each `Series`. `dtype` is short for \"**d**ata **type**\". For the decades, the type is `int64`, or \"64-bit integer\". For the series telling us whether each datapoint comes from the 2000s or not, the type is `bool`, or \"boolean\".\n",
    "\n",
    "`Series` of booleans are very important for working with data frames. A boolean is a logical value -- it can be either `True` or `False`, not anything else. They are named after [George Boole](https://en.wikipedia.org/wiki/George_Boole), who wrote down the rules for manipulating logical values that underlie digital logic and thus modern computation. Booleans are also sometimes represented as 0s and 1s -- 0 being `False`, 1 being `True`.\n",
    "\n",
    "`Series` of booleans are important because they can be used to index into, that is, ask for elements from, a data frame. If we use a `Series` of booleans to index into a data frame, we will get out the rows from that data frame corresponding to `True`s in the `Series`. \n",
    "\n",
    "We can use `Series` of booleans to pull out subsets of our data -- for example, perhaps we want to know which movies in our sample came from the 2000s. First, we build a series, like `isDoubleZeros` above, that corresponds to testing whether a row falls into our subset. Then, we use that series to index into the data frame. We index into data frames the same way we index into lists or dictionaries: using square brackets."
   ]
  },
  {
   "cell_type": "code",
   "execution_count": 7,
   "metadata": {},
   "outputs": [
    {
     "data": {
      "text/html": [
       "<div>\n",
       "<style>\n",
       "    .dataframe thead tr:only-child th {\n",
       "        text-align: right;\n",
       "    }\n",
       "\n",
       "    .dataframe thead th {\n",
       "        text-align: left;\n",
       "    }\n",
       "\n",
       "    .dataframe tbody tr th {\n",
       "        vertical-align: top;\n",
       "    }\n",
       "</style>\n",
       "<table border=\"1\" class=\"dataframe\">\n",
       "  <thead>\n",
       "    <tr style=\"text-align: right;\">\n",
       "      <th></th>\n",
       "      <th>title</th>\n",
       "      <th>year</th>\n",
       "    </tr>\n",
       "  </thead>\n",
       "  <tbody>\n",
       "  </tbody>\n",
       "</table>\n",
       "</div>"
      ],
      "text/plain": [
       "Empty DataFrame\n",
       "Columns: [title, year]\n",
       "Index: []"
      ]
     },
     "execution_count": 7,
     "metadata": {},
     "output_type": "execute_result"
    }
   ],
   "source": [
    "sample[isDoubleZeros]"
   ]
  },
  {
   "cell_type": "markdown",
   "metadata": {},
   "source": [
    "We don't have to define the `Series` as a variable. Instead, we can put the logical statement inside the brackets, where we would've put the variable name, and the output `Series` will get used for indexing.\n",
    "\n",
    "Below, we pull out all of the movies from the main `titles` data frame that were made in the 19th century."
   ]
  },
  {
   "cell_type": "code",
   "execution_count": 8,
   "metadata": {},
   "outputs": [
    {
     "data": {
      "text/html": [
       "<div>\n",
       "<style>\n",
       "    .dataframe thead tr:only-child th {\n",
       "        text-align: right;\n",
       "    }\n",
       "\n",
       "    .dataframe thead th {\n",
       "        text-align: left;\n",
       "    }\n",
       "\n",
       "    .dataframe tbody tr th {\n",
       "        vertical-align: top;\n",
       "    }\n",
       "</style>\n",
       "<table border=\"1\" class=\"dataframe\">\n",
       "  <thead>\n",
       "    <tr style=\"text-align: right;\">\n",
       "      <th></th>\n",
       "      <th>title</th>\n",
       "      <th>year</th>\n",
       "    </tr>\n",
       "  </thead>\n",
       "  <tbody>\n",
       "    <tr>\n",
       "      <th>65423</th>\n",
       "      <td>The Startled Lover</td>\n",
       "      <td>1898</td>\n",
       "    </tr>\n",
       "    <tr>\n",
       "      <th>118916</th>\n",
       "      <td>Reproduction of the Corbett and Jeffries Fight</td>\n",
       "      <td>1899</td>\n",
       "    </tr>\n",
       "    <tr>\n",
       "      <th>165917</th>\n",
       "      <td>Miss Jerry</td>\n",
       "      <td>1894</td>\n",
       "    </tr>\n",
       "  </tbody>\n",
       "</table>\n",
       "</div>"
      ],
      "text/plain": [
       "                                                 title  year\n",
       "65423                               The Startled Lover  1898\n",
       "118916  Reproduction of the Corbett and Jeffries Fight  1899\n",
       "165917                                      Miss Jerry  1894"
      ]
     },
     "execution_count": 8,
     "metadata": {},
     "output_type": "execute_result"
    }
   ],
   "source": [
    "titles[titles.year < 1900]"
   ]
  },
  {
   "cell_type": "markdown",
   "metadata": {},
   "source": [
    "We can also check logical statements on strings. The syntax below will let you pull out your [favorite movie](https://en.wikipedia.org/wiki/Rosencrantz_%26_Guildenstern_Are_Dead_%28film%29) from the database. Watch out, though: you need to get the title exactly right (spelling, punctuation, and capitals) or else you'll find nothing."
   ]
  },
  {
   "cell_type": "code",
   "execution_count": 9,
   "metadata": {},
   "outputs": [
    {
     "data": {
      "text/html": [
       "<div>\n",
       "<style>\n",
       "    .dataframe thead tr:only-child th {\n",
       "        text-align: right;\n",
       "    }\n",
       "\n",
       "    .dataframe thead th {\n",
       "        text-align: left;\n",
       "    }\n",
       "\n",
       "    .dataframe tbody tr th {\n",
       "        vertical-align: top;\n",
       "    }\n",
       "</style>\n",
       "<table border=\"1\" class=\"dataframe\">\n",
       "  <thead>\n",
       "    <tr style=\"text-align: right;\">\n",
       "      <th></th>\n",
       "      <th>title</th>\n",
       "      <th>year</th>\n",
       "    </tr>\n",
       "  </thead>\n",
       "  <tbody>\n",
       "    <tr>\n",
       "      <th>52524</th>\n",
       "      <td>Rosencrantz &amp; Guildenstern Are Dead</td>\n",
       "      <td>1990</td>\n",
       "    </tr>\n",
       "  </tbody>\n",
       "</table>\n",
       "</div>"
      ],
      "text/plain": [
       "                                     title  year\n",
       "52524  Rosencrantz & Guildenstern Are Dead  1990"
      ]
     },
     "execution_count": 9,
     "metadata": {},
     "output_type": "execute_result"
    }
   ],
   "source": [
    "favoriteMovieTitle = \"Rosencrantz & Guildenstern Are Dead\" #put your favorite movie's title here\n",
    "\n",
    "titles[titles.title == favoriteMovieTitle]"
   ]
  },
  {
   "cell_type": "markdown",
   "metadata": {},
   "source": [
    "Python comes with a bunch of [string methods](), like `contains` and `lower`, that are useful in this situation. To use them, append `.str` to the name of the column and then `.methodName` to use the method you're interested in. \n",
    "\n",
    "For example, we can find all movies containing the word *rosencrantz*, regardless of capitalization, using the cell below. If you had trouble finding your favorite movie above, try adapting the cell below. You might also be interested in the string method `startswith`."
   ]
  },
  {
   "cell_type": "code",
   "execution_count": 10,
   "metadata": {},
   "outputs": [
    {
     "data": {
      "text/html": [
       "<div>\n",
       "<style>\n",
       "    .dataframe thead tr:only-child th {\n",
       "        text-align: right;\n",
       "    }\n",
       "\n",
       "    .dataframe thead th {\n",
       "        text-align: left;\n",
       "    }\n",
       "\n",
       "    .dataframe tbody tr th {\n",
       "        vertical-align: top;\n",
       "    }\n",
       "</style>\n",
       "<table border=\"1\" class=\"dataframe\">\n",
       "  <thead>\n",
       "    <tr style=\"text-align: right;\">\n",
       "      <th></th>\n",
       "      <th>title</th>\n",
       "      <th>year</th>\n",
       "    </tr>\n",
       "  </thead>\n",
       "  <tbody>\n",
       "    <tr>\n",
       "      <th>52524</th>\n",
       "      <td>Rosencrantz &amp; Guildenstern Are Dead</td>\n",
       "      <td>1990</td>\n",
       "    </tr>\n",
       "    <tr>\n",
       "      <th>175518</th>\n",
       "      <td>Rosencrantz and Guildenstern Are Undead</td>\n",
       "      <td>2009</td>\n",
       "    </tr>\n",
       "  </tbody>\n",
       "</table>\n",
       "</div>"
      ],
      "text/plain": [
       "                                          title  year\n",
       "52524       Rosencrantz & Guildenstern Are Dead  1990\n",
       "175518  Rosencrantz and Guildenstern Are Undead  2009"
      ]
     },
     "execution_count": 10,
     "metadata": {},
     "output_type": "execute_result"
    }
   ],
   "source": [
    "titles[titles.title.str.lower().str.contains(\"rosencrantz\")]"
   ]
  },
  {
   "cell_type": "markdown",
   "metadata": {},
   "source": [
    "## Other Useful Skills"
   ]
  },
  {
   "cell_type": "markdown",
   "metadata": {},
   "source": [
    "This is, of course, just the tiniest bit of what is possible with pandas. \n",
    "\n",
    "As we go through the course, we'll introduce additional pieces as necessary. If you can't wait to get started, you might be interested in [`groupby`](http://pandas.pydata.org/pandas-docs/stable/groupby.html), which lets you break a column into subsets based on the values in another column ([example here](http://chrisalbon.com/python/pandas_apply_operations_to_groups.html)).\n",
    "\n",
    "Even everything we learn in this course will only scratch the surface, and it's likely your data will need some of pandas' advanced capabilities. You can start with\n",
    "[Brandon Rhodes' PyCon tutorial](https://www.youtube.com/watch?v=5JnMutdy6Fw),\n",
    "which provides a solid foundation for learning from the pandas documentation or from\n",
    "intermediate and advanced tutorials and blog posts.\n",
    "\n",
    "The Jupyter notebook [Plotting with Seaborn](./04 - Plotting with Seaborn.ipynb) in this folder covers the `seaborn` plotting package, which uses pandas data frames to simplify statistical plotting. We'll be using seaborn a lot, so make sure to check it out!"
   ]
  }
 ],
 "metadata": {
  "anaconda-cloud": {},
  "kernelspec": {
   "display_name": "neur299",
   "language": "python",
   "name": "neur299"
  },
  "language_info": {
   "codemirror_mode": {
    "name": "ipython",
    "version": 3
   },
   "file_extension": ".py",
   "mimetype": "text/x-python",
   "name": "python",
   "nbconvert_exporter": "python",
   "pygments_lexer": "ipython3",
   "version": "3.6.4"
  }
 },
 "nbformat": 4,
 "nbformat_minor": 2
}
