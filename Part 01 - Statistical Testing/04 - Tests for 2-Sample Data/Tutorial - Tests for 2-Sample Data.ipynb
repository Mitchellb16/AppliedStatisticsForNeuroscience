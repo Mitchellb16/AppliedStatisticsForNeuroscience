{
 "cells": [
  {
   "cell_type": "markdown",
   "metadata": {},
   "source": [
    "<img src=\"./img/HWNI_logo.svg\"/>"
   ]
  },
  {
   "cell_type": "code",
   "execution_count": 1,
   "metadata": {
    "collapsed": true
   },
   "outputs": [],
   "source": [
    "import scipy.special"
   ]
  },
  {
   "cell_type": "markdown",
   "metadata": {},
   "source": [
    "# Tutorial - Tests for 2-Sample Data\n",
    "\n",
    "Though a simple hypothesis test like comparing a single value to a reference distribution, as in the\n",
    "[hypothesis testing lab](../03 - Hypothesis Testing/Lab - Hypothesis Testing.ipynb),\n",
    "is sufficient to explore the core concepts of hypothesis testing,\n",
    "such a test is not sufficient for practical purposes.\n",
    "\n",
    "This tutorial covers a class of tests that's the next step in complexity:\n",
    "*2-sample tests*,\n",
    "where we compare two values of the same statistic,\n",
    "one calculated on a sample from the null distribution\n",
    "and the other calculated on a sample from the experimental distribution."
   ]
  },
  {
   "cell_type": "markdown",
   "metadata": {},
   "source": [
    "## Example Experiment"
   ]
  },
  {
   "cell_type": "markdown",
   "metadata": {},
   "source": [
    "As our example experiment,\n",
    "let's consider the administration of\n",
    "[octopamine](https://en.wikipedia.org/wiki/Octopamine_%28neurotransmitter%29)\n",
    "to flies.\n",
    "Octopamine has been shown to\n",
    "[increase food consumption](http://www.pnas.org/content/80/13/4159.short).\n",
    "We'd like to replicate that experiment.\n",
    "\n",
    "To do so,\n",
    "we need to measure the change in food consumption\n",
    "when flies are given octopamine.\n",
    "One way to do so\n",
    "is to collect a large group of flies,\n",
    "randomly split it into two sub-groups,\n",
    "and then administer octopamine to one of the groups.\n",
    "We then measure the sucrose consumption\n",
    "of all flies in each group.\n",
    "\n",
    "Intuitively, the appropriate test statistic in this case\n",
    "is some measure of the difference between the two groups.\n",
    "For example, we might calculate\n",
    "the difference between the largest values\n",
    "or the difference between two randomly chosen values.\n",
    "While either of those statistics would work,\n",
    "neither of them is particularly good:\n",
    "the former is very sensitive to outliers and\n",
    "the latter doesn't get better when we collect more data.\n",
    "\n",
    "Instead, we use a difference between one of the\n",
    "descriptive statistics\n",
    "that we learned about.\n",
    "The mean and the median are popular choices.\n",
    "The mean is best for symmetric data with no outliers\n",
    "while the median is better in other cases.\n",
    "For now, let's use the difference in means as our test statistic."
   ]
  },
  {
   "cell_type": "markdown",
   "metadata": {},
   "source": [
    "### First Pass: Directly Estimating the Null Distribution"
   ]
  },
  {
   "cell_type": "markdown",
   "metadata": {},
   "source": [
    "As before, we need to get our hands on the distribution of our test statistic\n",
    "under the null hypothesis.\n",
    "\n",
    "In our first foray into hypothesis testing,\n",
    "we used the fact that,\n",
    "under the null hypothesis, \n",
    "our untreated condition would\n",
    "be the same as our treated condition.\n",
    "We therefore measured our statistic in the untreated condition\n",
    "many times and used the measured distribution\n",
    "as an estimate of the null distribution.\n",
    "\n",
    "Now, our hypothesis concerns the difference\n",
    "between our two groups directly,\n",
    "so we'd have to change our strategy.\n",
    "For example,\n",
    "we could measure the difference of statistics between\n",
    "the two groups according to null hypothesis,\n",
    "then compare that to the difference we did measure.\n",
    "\n",
    "More specifically, we could repeatedly gather groups of flies,\n",
    "split them randomly into groups,\n",
    "and then administer octopamine to *neither* group.\n",
    "Since both groups are the same,\n",
    "the distribution of differences we measure\n",
    "will be the null distribution of our test statistic.\n",
    "\n",
    "This works,\n",
    "but it's somewhat inefficient.\n",
    "Measuring the null well enough to get $p$-values\n",
    "with two decimal places takes 100 samples,\n",
    "which means we'll need 1000 flies\n",
    "just to estimate the null distribution\n",
    "for an experiment involving two groups each of size 5."
   ]
  },
  {
   "cell_type": "markdown",
   "metadata": {},
   "source": [
    "### Second Pass: Permutation and Randomization"
   ]
  },
  {
   "cell_type": "markdown",
   "metadata": {},
   "source": [
    "We'll have to come up with a new strategy if we want to make our two-sample tests more efficient.\n",
    "\n",
    "Luckily, there's a general purpose and flexible way to perform two-sample tests\n",
    "that doesn't require us to collect any extra data:\n",
    "*randomization*.\n",
    "\n",
    "Consider:\n",
    "if the null hypothesis is correct,\n",
    "then there are no differences between the two groups of flies,\n",
    "at least so far as our statistic is concerned.\n",
    "Any difference that we appear to uncover is simply due to chance.\n",
    "If this is true, then\n",
    "which group the fly came from has no effect on its feeding behavior.\n",
    "\n",
    "Under the null hypothesis, then, our experiment is no different from one like this:\n",
    "We collect a bunch of flies and randomly label some \"control\" and some \"experimental\",\n",
    "then measure the difference in feeding behaviors.\n",
    "\n",
    "In this experiment, it's clear that re-labeling all of the flies\n",
    "shouldn't, on average, change the value of the test statistic.\n",
    "If, for example,\n",
    "we accidentally mixed around the labels of\n",
    "our two groups\n",
    "\\- flies were inadvertently allowed to move between the two enclosures, \n",
    "or we accidentally randomized the labels while entering them into the computer -\n",
    "and calculated the difference,\n",
    "we shouldn't be able to tell that we messed up from looking at the test statistic.\n",
    "\n",
    "This gives us a way to measure the null distribution of the test statistic\n",
    "without having to collect any more data!\n",
    "We can simply randomly assign the flies\n",
    "to two groups of the same size as the groups we measured,\n",
    "then calculate the test statistic.\n",
    "This gives us one sample from the null distribution of the statistic.\n",
    "We then repeat this process until we have a good estimate of the null distribution.\n",
    "\n",
    "You might notice that there are only a finite number of ways to\n",
    "rearrange the data points we collected into two groups.\n",
    "That means we could get an exact measurement of the null distribution\n",
    "and then use it to calculate the $p$-value.\n",
    "\n",
    "Unfortunately, just because a number is finite doesn't mean\n",
    "it's reasonable.\n",
    "We can calculate the exact number of ways our data could be rearranged\n",
    "by using a function from `scipy` that calculates the\n",
    "[binomial coefficient](https://en.wikipedia.org/wiki/Binomial_coefficient).\n",
    "You may have heard this function called \"choose\", as in\n",
    "\"$n$ choose $k$\" or ${n}\\choose{k}$,\n",
    "where $n$ is the size of the total population\n",
    "and $k$ is the size of the group being selected.\n",
    "If the groups are of unequal size,\n",
    "we can use either and we'll get the same answer.\n",
    "\n",
    "Run the code cell below to see how many rearrangements\n",
    "you'd need to test for a typical experiment in your field.\n",
    "Even with relatively low numbers like a total population of 30\n",
    "and sub-group sizes of 15 apiece,\n",
    "the number of rearrangements to test is aleady over 100 million!"
   ]
  },
  {
   "cell_type": "code",
   "execution_count": 2,
   "metadata": {},
   "outputs": [
    {
     "data": {
      "text/plain": [
       "155117520.0"
      ]
     },
     "execution_count": 2,
     "metadata": {},
     "output_type": "execute_result"
    }
   ],
   "source": [
    "total_population = 30\n",
    "sub_group = 15\n",
    "\n",
    "scipy.special.binom(total_population, sub_group)"
   ]
  },
  {
   "cell_type": "markdown",
   "metadata": {},
   "source": [
    "With the advent of modern computing power,\n",
    "it is in fact possible to perform tests for total populations\n",
    "of a reasonable size -- between 30 and 70,\n",
    "depending on the machine and the operator's patience.\n",
    "These tests are called\n",
    "[Fisher exact tests](https://en.wikipedia.org/wiki/Fisher%27s_exact_test)\n",
    "or *perumtation tests*.\n",
    "\n",
    "However, this isn't often necessary.\n",
    "The estimate of the null distribution given by \n",
    "10,000 or 100,000 or 1,000,000 random samples\n",
    "is usually more than adequate to determine the $p$-value,\n",
    "and any errors caused by slight deviations\n",
    "from the true null distribution are in general swamped\n",
    "by the randomness in the $p$-value caused by randomness in the data."
   ]
  },
  {
   "cell_type": "markdown",
   "metadata": {},
   "source": [
    "### Third Pass: Student's $t$"
   ]
  },
  {
   "cell_type": "markdown",
   "metadata": {},
   "source": [
    "The randomization test described above\n",
    "is applicable in any scenario,\n",
    "even when we know nothing about the data\n",
    "except what we measured.\n",
    "\n",
    "If we do know more about the null distribution of the data,\n",
    "for example if we know its shape,\n",
    "then we can infer facts about the null distribution of the test statistic.\n",
    "We can use that information to design better statistical tests --\n",
    "tests with more power and lower false positive rates\n",
    "using less data.\n",
    "\n",
    "The most common shape assumed for distributions is\n",
    "Gaussian,\n",
    "thanks in part to the Central Limit Theorem,\n",
    "as discussed in the section on Inferential Statistics.\n",
    "\n",
    "If we assume that the data is distributed as a Gaussian, then\n",
    "[it can be shown](https://www.nature.com/nmeth/journal/v11/n3/full/nmeth.2858.html)\n",
    "that the null distribution of the difference of two means is a distribution called the\n",
    "[Student's $t$-distribution](http://www.nature.com/nmeth/journal/v10/n11/full/nmeth.2698.html).\n",
    "This distribution is *almost* a Gaussian --\n",
    "and gets closer and closer to a Gaussian as the size of the samples increases --\n",
    "but has a slightly higher propensity to produce outliers.\n",
    "\n",
    "The Student's $t$ test, in its usual form,\n",
    "assumes that both groups have the same variance.\n",
    "Though it is fairly robust to violations of this assumption --\n",
    "meaning that the power and false positive rate\n",
    "don't rapidly change as the variances become more different --\n",
    "it is important to remember that this assumption is being made."
   ]
  },
  {
   "cell_type": "markdown",
   "metadata": {},
   "source": [
    "## Paired Tests"
   ]
  },
  {
   "cell_type": "markdown",
   "metadata": {},
   "source": [
    "Consider an experiment much like the one described above,\n",
    "but instead of splitting our flies into two groups,\n",
    "one of which receives octopamine treatment\n",
    "and one of which does not,\n",
    "we keep our flies in a single group and\n",
    "measure sucrose consumption before\n",
    "and after administration of octopamine.\n",
    "\n",
    "This is a better experimental design than the one proposed above,\n",
    "because instead of asking the question\n",
    "\"do flies exposed to octopamine consume more sucrose?\"\n",
    "it asks the question\n",
    "\"does exposing a fly to octopamine cause it to consume more sucrose?\",\n",
    "which is much closer to the scientific question we are asking.\n",
    "\n",
    "However, it will require a re-thinking of our statistical tests.\n",
    "Because all of our observations are made as pairs\n",
    "-- one measurement before octopamine and one measurement after  --\n",
    "these new tests will be called *paired* tests."
   ]
  },
  {
   "cell_type": "markdown",
   "metadata": {},
   "source": [
    "Let's walk through this process for the randomization test.\n",
    "\n",
    "In designing our randomization test,\n",
    "we took advantage of the fact that, under the null hypothesis,\n",
    "we could swap measurements between groups.\n",
    "Now, there is a measurement in each group from the same fly,\n",
    "so we can't just swap them willy-nilly.\n",
    "\n",
    "That's because\n",
    "under our new null hypothesis,\n",
    "instead of the group labels of the flies being assigned randomly,\n",
    "which of the two measurements\n",
    "*from the same fly*\n",
    "is labeled as \"control\" and which is labeled \"experiment\"\n",
    "is determined randomly.\n",
    "\n",
    "This gives us a new randomization procedure:\n",
    "instead of randomly re-assigning flies to the two groups\n",
    "and calculating the test statistic,\n",
    "we randomly swap the labels \"control\" and \"experiment\"\n",
    "on the measurements from some of our flies\n",
    "and calculate the test statistic."
   ]
  },
  {
   "cell_type": "markdown",
   "metadata": {},
   "source": [
    "It's helpful to consider what the results of our randomization test\n",
    "would look like in two cases:\n",
    "first, let's imagine that, for every fly,\n",
    "its sucrose consumption is higher in the experimental condition\n",
    "than in the control condition.\n",
    "If we randomly switch around some of the measurements and then recompute\n",
    "the differences, some of them will now be negative instead of positive,\n",
    "and the value of the test statistic will go down.\n",
    "We'll never see a test statistic as extreme as the one we observed,\n",
    "so the $p$ value will be 0!\n",
    "\n",
    "Notice that we only had to assume that *for each fly*,\n",
    "the sucrose consumption was higher in the experimental condition\n",
    "than in the control condition, and we got a $p$ value of 0.\n",
    "If we'd been doing our original randomization test,\n",
    "where we weren't tracking the differences,\n",
    "then we'd only get a $p$ value of 0 if\n",
    "every fly's sucrose consumption was higher in the experimental condition\n",
    "than for any fly in the control condition.\n",
    "This is a much stronger assumption!\n",
    "\n",
    "From this example, we can see the greater power of\n",
    "tests that keep track of differences,\n",
    "also known as *paired* tests,\n",
    "relative to tests that do not,\n",
    "also known as *unpaired* tests.\n",
    "With a paired test,\n",
    "we don't lose some of our power\n",
    "when some flies just have a higher or lower\n",
    "baseline sucrose consumption than other flies.\n",
    "In statistical lingo,\n",
    "the paired design\n",
    "*controls for individual differences*\n",
    "and so lets us observe smaller differences\n",
    "with the same sample size."
   ]
  },
  {
   "cell_type": "markdown",
   "metadata": {},
   "source": [
    "Now, let's imagine that, for half the flies,\n",
    "sucrose consumption is higher in the experimental condition,\n",
    "and vice versa for the other half.\n",
    "Now, when we start randomly swapping labels for flies,\n",
    "sometimes the test statistic will go up,\n",
    "and sometimes the test statistic will go down.\n",
    "Once we've randomly swapped values enough times to get\n",
    "a good estimate of the null distribution,\n",
    "we'll discover that roughly half of the test statistic values are lower,\n",
    "and half are higher,\n",
    "than the value we originally observed.\n",
    "If we were doing a one-tailed test,\n",
    "we'd end up with a $p$-value of around 0.5,\n",
    "whereas a two-tailed test\n",
    "would give us a $p$ value of around 1."
   ]
  },
  {
   "cell_type": "markdown",
   "metadata": {},
   "source": [
    "There is also a paired version of the $t$-test,\n",
    "wherein average of the differences between the two conditions is compared,\n",
    "rather than the difference of the average.\n",
    "Just like the unpaired $t$-test,\n",
    "it's a good choice if we can assume that our data is distributed as a Gaussian."
   ]
  },
  {
   "cell_type": "markdown",
   "metadata": {},
   "source": [
    "## Going Hands-On"
   ]
  },
  {
   "cell_type": "markdown",
   "metadata": {},
   "source": [
    "For more on two-sample tests,\n",
    "including the chance to apply these tests\n",
    "to real data from the experiment described above,\n",
    "check out the lab notebooks in this folder!"
   ]
  }
 ],
 "metadata": {
  "anaconda-cloud": {},
  "kernelspec": {
   "display_name": "neur299",
   "language": "python",
   "name": "neur299"
  },
  "language_info": {
   "codemirror_mode": {
    "name": "ipython",
    "version": 3
   },
   "file_extension": ".py",
   "mimetype": "text/x-python",
   "name": "python",
   "nbconvert_exporter": "python",
   "pygments_lexer": "ipython3",
   "version": "3.6.2"
  }
 },
 "nbformat": 4,
 "nbformat_minor": 1
}
