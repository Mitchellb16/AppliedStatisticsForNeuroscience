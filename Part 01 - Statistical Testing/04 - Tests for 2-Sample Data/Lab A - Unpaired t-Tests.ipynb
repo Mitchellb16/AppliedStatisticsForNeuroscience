{
 "cells": [
  {
   "cell_type": "markdown",
   "metadata": {},
   "source": [
    "<img src=\"./img/HWNI_logo.svg\"/>"
   ]
  },
  {
   "cell_type": "markdown",
   "metadata": {},
   "source": [
    "# Lab A - Unpaired t-Tests"
   ]
  },
  {
   "cell_type": "code",
   "execution_count": null,
   "metadata": {
    "collapsed": true
   },
   "outputs": [],
   "source": [
    "# makes our plots show up inside Jupyter\n",
    "%matplotlib inline\n",
    "\n",
    "import numpy as np\n",
    "import pandas as pd\n",
    "\n",
    "import matplotlib.pyplot as plt\n",
    "import seaborn as sns\n",
    "\n",
    "import scipy.stats\n",
    "\n",
    "import util.utils as utils\n",
    "import util.shared as shared\n",
    "\n",
    "shared.format_plots()\n",
    "shared.format_dataframes()"
   ]
  },
  {
   "cell_type": "markdown",
   "metadata": {},
   "source": [
    "In this lab, we'll look at some more commonly-used and practical hypothesis tests than the simple example used in the\n",
    "[hypothesis testing lab](../03 - Hypothesis Testing/Lab - Hypothesis Testing.ipynb).\n",
    "In these tests, instead of collecting only one data point in our experimental condition, we'll collect multiple data points. All the tests considered in this lab -- paired and unpaired t-tests, non-parametric tests -- arise due to different choices of test statistic.\n",
    "\n",
    "In this half of the lab, we'll be looking at using unpaired t-tests. On the programming side, we'll review some of our plotting skills and learn more about how to load datasets into pandas and how we organize those datasets."
   ]
  },
  {
   "cell_type": "markdown",
   "metadata": {},
   "source": [
    "## Dataset Introduction"
   ]
  },
  {
   "cell_type": "markdown",
   "metadata": {},
   "source": [
    "Octopamine has been implicated in modulating feeding behaviors in both vertebrates and invertebrates. Pargyline has been shown to increase the levels of octopamine in the nervous system. \n",
    "\n",
    "We'll look at data from two experiments on octopamine and feeding behavior.\n",
    "\n",
    "In the first, the effect of pargyline on sucrose consumption was tested in blowflies. Two groups of blowfies were used in this study: one group was injected with parglyine (n=295 flies) while the control group was injected with saline (n = 300 flies). The amount of sucrose consumed was then measured. [adapted from Samuels & Witmer, pg 220. Originally: Long & Murdock, PNAS 1983]"
   ]
  },
  {
   "cell_type": "markdown",
   "metadata": {
    "collapsed": true
   },
   "source": [
    "**Q1** Why is an unpaired test appropriate for this data set?"
   ]
  },
  {
   "cell_type": "markdown",
   "metadata": {},
   "source": []
  },
  {
   "cell_type": "markdown",
   "metadata": {},
   "source": [
    "## Loading Data"
   ]
  },
  {
   "cell_type": "markdown",
   "metadata": {
    "collapsed": true
   },
   "source": [
    "The cell below loads the data into pandas. The functions for loading external data all begin with \"read\", so you can check out your options by typing in `pd.read` and then hitting `Tab`. Other options include Excel files, the clipboard, and `.json` files. You can look at the documentation for each function in the usual way, with the `?` symbol.\n",
    "\n",
    "The most basic format for storing data is the \"comma-separated values\", or `.csv`, format. There's a brief discussion of this format in the course tutorial on pandas. You can also view comma-separated values files in Excel and even save some `.xls` files as `.csv` files."
   ]
  },
  {
   "cell_type": "code",
   "execution_count": null,
   "metadata": {
    "collapsed": true
   },
   "outputs": [],
   "source": [
    "fly_data = pd.read_csv('data/3a.csv', index_col=None)\n",
    "\n",
    "fly_data.sample(10)"
   ]
  },
  {
   "cell_type": "markdown",
   "metadata": {},
   "source": [
    "Following the principles of [\"tidy data\"](http://www.jeannicholashould.com/tidy-data-in-python.html), we've stored each of our observations in a row. An observation includes the raw data (in this case, the amount of sugar consumed), the kind of injection the fly received, and, since we'll be looking at two experiments in this lab, an identifier for the experiment during which this datapoint was measured."
   ]
  },
  {
   "cell_type": "markdown",
   "metadata": {},
   "source": [
    "## Visualizing the Data"
   ]
  },
  {
   "cell_type": "markdown",
   "metadata": {},
   "source": [
    "Begin by plotting the histograms and computing means and standard deviations for both groups of flies in experiment #1. Remember: you'll need to subset your data by experiment index and by injection. Try to avoid hard-coding as much as possible, since you'll need to re-run this code with the data from experiment #2 later.\n",
    "\n",
    "Think about your histogram: should the bins be the same or different for the two groups? Is a rugplot helpful? Be ready to discuss your choices in class."
   ]
  },
  {
   "cell_type": "code",
   "execution_count": null,
   "metadata": {
    "collapsed": true
   },
   "outputs": [],
   "source": [
    "# your code here"
   ]
  },
  {
   "cell_type": "markdown",
   "metadata": {},
   "source": [
    "**Q2** Based off of this visualization and these statistics, do you expect the difference of the means to be statistically significant (at the traditional/obligatory $\\alpha = 0.05$)? Why or why not?"
   ]
  },
  {
   "cell_type": "markdown",
   "metadata": {},
   "source": []
  },
  {
   "cell_type": "markdown",
   "metadata": {
    "collapsed": true
   },
   "source": [
    "Now, visualize the data as a barplot with 95% confidence intervals error bars."
   ]
  },
  {
   "cell_type": "code",
   "execution_count": null,
   "metadata": {
    "collapsed": true
   },
   "outputs": [],
   "source": [
    "# your code here"
   ]
  },
  {
   "cell_type": "markdown",
   "metadata": {},
   "source": [
    "**Q3** Based off of the barplot, what do you expect the result of your t-test to be?"
   ]
  },
  {
   "cell_type": "markdown",
   "metadata": {},
   "source": []
  },
  {
   "cell_type": "markdown",
   "metadata": {},
   "source": [
    "Now, plot the data as a boxplot."
   ]
  },
  {
   "cell_type": "code",
   "execution_count": null,
   "metadata": {
    "collapsed": true
   },
   "outputs": [],
   "source": [
    "# your code here"
   ]
  },
  {
   "cell_type": "markdown",
   "metadata": {},
   "source": [
    "** Q4 ** The boxplot can be used to see whether the assumptions for a $t$-test are met. What pieces of information would you use and what would they tell you?"
   ]
  },
  {
   "cell_type": "markdown",
   "metadata": {},
   "source": []
  },
  {
   "cell_type": "markdown",
   "metadata": {},
   "source": [
    "## Running the Test"
   ]
  },
  {
   "cell_type": "markdown",
   "metadata": {
    "collapsed": true
   },
   "source": [
    "Now, we can use the `scipy` package to run a $t$-test to determine if the difference between the groups is statistically significant. The function `scipy.stats.ttest_ind` \n",
    "([docs](https://docs.scipy.org/doc/scipy/reference/generated/scipy.stats.ttest_ind.html))\n",
    "will run a $t$-test for you.\n",
    "\n",
    "**Q5** What are your results?"
   ]
  },
  {
   "cell_type": "markdown",
   "metadata": {},
   "source": []
  },
  {
   "cell_type": "code",
   "execution_count": null,
   "metadata": {
    "collapsed": true
   },
   "outputs": [],
   "source": [
    "# your code here"
   ]
  },
  {
   "cell_type": "markdown",
   "metadata": {},
   "source": [
    "**Q6** One of the keyword arguments for `ttest_ind` is `equal_var`. This lets us switch from a version of the t-test that assumes both groups have the same variance to one that does not assume this. Which version is more appropriate in this case?"
   ]
  },
  {
   "cell_type": "markdown",
   "metadata": {},
   "source": []
  },
  {
   "cell_type": "markdown",
   "metadata": {},
   "source": [
    "In a follow-up experiment to further confirm octopamine positively modulates feeding behavior, an additional experiment was done with yohimbine (an antagonist of octopamine receptors in insects). One group was injected with parglyine and yohimbine (n = 130) while an additional control group was injected with saline (n = 100). The amount of sucrose consumed was then measured.\n",
    "\n",
    "Repeat all of the above exercises for this experiment. There's no need to write all of your code again in new cells. If you wrote your code with good style, it should all be reusable -- just change which experiment number is used to subset the data all the way up at the top. You also don't need to add new cells for your written answers: simply include responses for both experiments in the cells above."
   ]
  },
  {
   "cell_type": "markdown",
   "metadata": {},
   "source": [
    "## Running Multiple 2-Sample Tests"
   ]
  },
  {
   "cell_type": "markdown",
   "metadata": {},
   "source": [
    "Many, if not most,\n",
    "experiments have more than two groups in them:\n",
    "we might want to compare sucrose consumption\n",
    "in flies exposed to pargyline and five other compounds,\n",
    "or in different genotypes of flies exposed to pargyline.\n",
    "\n",
    "One first guess at how to extend our $t$-test to experiments like this might be:\n",
    "take each pair of samples and compare them to each other using the $t$-test.\n",
    "The section below will work with simulated data to demonstrate that this approach is a bad idea.\n",
    "In the next section, on ANOVA,\n",
    "we will develop a better solution."
   ]
  },
  {
   "cell_type": "code",
   "execution_count": null,
   "metadata": {
    "collapsed": true
   },
   "outputs": [],
   "source": [
    "from itertools import combinations"
   ]
  },
  {
   "cell_type": "code",
   "execution_count": null,
   "metadata": {
    "collapsed": true
   },
   "outputs": [],
   "source": [
    "def simulate_data(N=100, num_groups = 2):\n",
    "    num_rows = N*num_groups\n",
    "    measurements = np.random.standard_normal(size=(num_rows))\n",
    "    group_ids = np.repeat(np.arange(1, num_groups+1), N)\n",
    "    \n",
    "    columns = [measurements, group_ids]\n",
    "    column_labels = [\"measurement\", \"group_id\"]\n",
    "    \n",
    "    data_df = pd.DataFrame.from_dict({column_label: column for column_label, column\n",
    "                                      in zip(column_labels, columns)})\n",
    "    return data_df\n",
    "\n",
    "def multi_ttest(dataframe):\n",
    "    group_ids = dataframe.group_id.unique()\n",
    "    group_combinations = combinations(group_ids, 2)\n",
    "    \n",
    "    p_values = [single_ttest(dataframe, group_combination)\n",
    "                for group_combination in group_combinations]        \n",
    "    \n",
    "    return p_values\n",
    "\n",
    "def single_ttest(dataframe, indices_to_test):\n",
    "    groups = [dataframe.measurement[dataframe.group_id == index_to_test]\n",
    "                 for index_to_test in indices_to_test]\n",
    "    \n",
    "    result = scipy.stats.ttest_ind(*groups)\n",
    "    \n",
    "    return result.pvalue"
   ]
  },
  {
   "cell_type": "markdown",
   "metadata": {},
   "source": [
    "The function `utils.simulate_data` will generate data distributed\n",
    "according to the null hypothesis of the $t$-test:\n",
    "the data from each group is randomly generated according to a Gaussian distribution\n",
    "with the same mean and variance.\n",
    "The number of members in each group is determined by the argument `N`\n",
    "and the number of groups is determined by the argument `num_groups`.\n",
    "\n",
    "The data is returned as a `DataFrame`,\n",
    "with two columns.\n",
    "One, `measurement`, holds the value measured for each subject,\n",
    "and the other, `group_id`, holds the group index for each subject.\n",
    "\n",
    "For our hypothetical fly experiment,\n",
    "`num_groups` is the number of compounds we expose flies to,\n",
    "`N` is the number of flies we test per compound,\n",
    "`group_id` is the identifier for each compound,\n",
    "and `measurement` is the sucrose consumption."
   ]
  },
  {
   "cell_type": "code",
   "execution_count": null,
   "metadata": {
    "collapsed": true
   },
   "outputs": [],
   "source": [
    "simulated_data = simulate_data(N=1000, num_groups=5)\n",
    "simulated_data.sample(5)"
   ]
  },
  {
   "cell_type": "markdown",
   "metadata": {},
   "source": [
    "The function `utils.multi_ttest` will apply a $t$-test\n",
    "to each possible pair of groups and return the $p$-value of each test in a list."
   ]
  },
  {
   "cell_type": "code",
   "execution_count": null,
   "metadata": {
    "collapsed": true
   },
   "outputs": [],
   "source": [
    "test_results = multi_ttest(simulated_data)"
   ]
  },
  {
   "cell_type": "markdown",
   "metadata": {},
   "source": [
    "In the cell below, use the `len` function to calculate the number of tests that were performed."
   ]
  },
  {
   "cell_type": "code",
   "execution_count": null,
   "metadata": {
    "collapsed": true
   },
   "outputs": [],
   "source": [
    "# your code here"
   ]
  },
  {
   "cell_type": "markdown",
   "metadata": {},
   "source": [
    "To determine the fraction of false positives,\n",
    "we need to calculate the fraction of tests that have $p$ less than some critical value.\n",
    "\n",
    "In the cell below, calculate this value. You might use either a `for` loop or the function `np.less`."
   ]
  },
  {
   "cell_type": "code",
   "execution_count": null,
   "metadata": {
    "collapsed": true
   },
   "outputs": [],
   "source": [
    "# your code here"
   ]
  },
  {
   "cell_type": "markdown",
   "metadata": {},
   "source": [
    "To determine the false positive rate,\n",
    "we would need to run the experiment many times and calculate an average.\n",
    "\n",
    "#### Q6 Run the experiment multiple times. Increase `num_groups` to `20` and run the experiment again. Describe the behavior of the fraction of false positives."
   ]
  },
  {
   "cell_type": "markdown",
   "metadata": {},
   "source": []
  },
  {
   "cell_type": "markdown",
   "metadata": {},
   "source": [
    "In addition to the false positive rate,\n",
    "which tells us the chance that,\n",
    "if the null hypothesis is true for a given group,\n",
    "we incorrectly reject the null hypothesis for that group,\n",
    "we might be interested in the chance that we incorrectly\n",
    "reject the overall null hypothesis,\n",
    "which says that all of the group means are the same.\n",
    "This is known as the *familywise error rate*."
   ]
  },
  {
   "cell_type": "markdown",
   "metadata": {},
   "source": [
    "In the cell below, write code that will determine whether there has been a familywise error.\n",
    "You might use either an `if` statement or the function `np.any`."
   ]
  },
  {
   "cell_type": "code",
   "execution_count": null,
   "metadata": {
    "collapsed": true
   },
   "outputs": [],
   "source": [
    "# your code here"
   ]
  },
  {
   "cell_type": "markdown",
   "metadata": {},
   "source": [
    "#### Q7 Run the experiment multiple times with `num_groups=5` and `num_groups=20` and describe you observe regarding familywise errors."
   ]
  },
  {
   "cell_type": "markdown",
   "metadata": {},
   "source": []
  },
  {
   "cell_type": "markdown",
   "metadata": {},
   "source": [
    "#### Q8 Predict what will happen to the behavior of the familywise error and the fraction of false positives if you increase `N`. Test your prediction and describe the results in the cell below."
   ]
  },
  {
   "cell_type": "markdown",
   "metadata": {},
   "source": []
  },
  {
   "cell_type": "markdown",
   "metadata": {},
   "source": [
    "#### Q9 Why does the behavior of the familywise error rate mean the multiple $t$-test approach is a bad choice for testing hypotheses about experiments with more than two samples?"
   ]
  },
  {
   "cell_type": "markdown",
   "metadata": {},
   "source": []
  }
 ],
 "metadata": {
  "anaconda-cloud": {},
  "kernelspec": {
   "display_name": "neur299",
   "language": "python",
   "name": "neur299"
  },
  "language_info": {
   "codemirror_mode": {
    "name": "ipython",
    "version": 3
   },
   "file_extension": ".py",
   "mimetype": "text/x-python",
   "name": "python",
   "nbconvert_exporter": "python",
   "pygments_lexer": "ipython3",
   "version": "3.6.2"
  }
 },
 "nbformat": 4,
 "nbformat_minor": 1
}
