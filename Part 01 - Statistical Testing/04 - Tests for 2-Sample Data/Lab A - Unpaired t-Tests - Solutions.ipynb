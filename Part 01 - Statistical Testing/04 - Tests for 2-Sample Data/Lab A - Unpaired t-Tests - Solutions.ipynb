{
 "cells": [
  {
   "cell_type": "markdown",
   "metadata": {},
   "source": [
    "<img src=\"./img/HWNI_logo.svg\"/>"
   ]
  },
  {
   "cell_type": "markdown",
   "metadata": {},
   "source": [
    "# Lab A - Unpaired t-Tests"
   ]
  },
  {
   "cell_type": "code",
   "execution_count": 1,
   "metadata": {},
   "outputs": [],
   "source": [
    "# makes our plots show up inside Jupyter\n",
    "%matplotlib inline"
   ]
  },
  {
   "cell_type": "code",
   "execution_count": 2,
   "metadata": {},
   "outputs": [
    {
     "data": {
      "text/html": [
       "<style>/* Originally by Brandon Rhodes, for use with Pandas*/\n",
       "body {\n",
       "    margin: 0;\n",
       "    font-family: Helvetica;\n",
       "}\n",
       "table.dataframe {\n",
       "    border-collapse: collapse;\n",
       "    border: none;\n",
       "}\n",
       "table.dataframe tr {\n",
       "    border: none;\n",
       "}\n",
       "table.dataframe td, table.dataframe th {\n",
       "    margin: 0;\n",
       "    border: 1px solid white;\n",
       "    padding-left: 0.25em;\n",
       "    padding-right: 0.25em;\n",
       "}\n",
       "table.dataframe th:not(:empty) {\n",
       "    background-color: #fec;\n",
       "    text-align: left;\n",
       "    font-weight: normal;\n",
       "}\n",
       "table.dataframe tr:nth-child(2) th:empty {\n",
       "    border-left: none;\n",
       "    border-right: 1px dashed #888;\n",
       "}\n",
       "table.dataframe td {\n",
       "    border: 2px solid #ccf;\n",
       "    background-color: #f4f4ff;\n",
       "}\n",
       "</style>"
      ],
      "text/plain": [
       "<IPython.core.display.HTML object>"
      ]
     },
     "execution_count": 2,
     "metadata": {},
     "output_type": "execute_result"
    }
   ],
   "source": [
    "import numpy as np\n",
    "import pandas as pd\n",
    "\n",
    "import matplotlib.pyplot as plt\n",
    "import seaborn as sns\n",
    "\n",
    "import scipy.stats\n",
    "\n",
    "import util.utils as utils\n",
    "import util.shared as shared\n",
    "\n",
    "shared.format_plots()\n",
    "shared.format_dataframes()"
   ]
  },
  {
   "cell_type": "markdown",
   "metadata": {},
   "source": [
    "In this lab, we'll look at some more commonly-used and practical hypothesis tests than the simple example used in the\n",
    "[hypothesis testing lab](../03%20-%20Hypothesis%20Testing/Lab%20-%20Hypothesis%20Testing.ipynb).\n",
    "In these tests, instead of collecting only one data point in our experimental condition, we'll collect multiple data points. All the tests considered in this lab -- paired and unpaired t-tests, non-parametric tests -- arise due to different choices of test statistic.\n",
    "\n",
    "In this half of the lab, we'll be looking at using unpaired t-tests. On the programming side, we'll review some of our plotting skills and learn more about how to load datasets into pandas and how we organize those datasets."
   ]
  },
  {
   "cell_type": "markdown",
   "metadata": {},
   "source": [
    "## Dataset Introduction"
   ]
  },
  {
   "cell_type": "markdown",
   "metadata": {},
   "source": [
    "Octopamine has been implicated in modulating feeding behaviors in both vertebrates and invertebrates. Pargyline has been shown to increase the levels of octopamine in the nervous system. \n",
    "\n",
    "We'll look at data from two experiments on octopamine and feeding behavior.\n",
    "\n",
    "In the first, the effect of pargyline on sucrose consumption was tested in blowflies. Two groups of blowfies were used in this study: one group was injected with parglyine (n=295 flies) while the control group was injected with saline (n = 300 flies). The amount of sucrose consumed was then measured. [adapted from Samuels & Witmer, pg 220. Originally: Long & Murdock, PNAS 1983]"
   ]
  },
  {
   "cell_type": "markdown",
   "metadata": {
    "collapsed": true
   },
   "source": [
    "**Q1** Why is an unpaired test appropriate for this data set?"
   ]
  },
  {
   "cell_type": "markdown",
   "metadata": {},
   "source": [
    "<font color='#1874CD'> **There is no natural way to pair the data points -- they were measured in different flies at different times.**"
   ]
  },
  {
   "cell_type": "markdown",
   "metadata": {},
   "source": [
    "## Loading Data"
   ]
  },
  {
   "cell_type": "markdown",
   "metadata": {
    "collapsed": true
   },
   "source": [
    "The cell below loads the data into pandas. The functions for loading external data all begin with \"read\", so you can check out your options by typing in `pd.read` and then hitting `Tab`. Other options include Excel files, the clipboard, and `.json` files. You can look at the documentation for each function in the usual way, with the `?` symbol.\n",
    "\n",
    "The most basic format for storing data is the \"comma-separated values\", or `.csv`, format. There's a brief discussion of this format in the course tutorial on pandas. You can also view comma-separated values files in Excel and even save some `.xls` files as `.csv` files."
   ]
  },
  {
   "cell_type": "code",
   "execution_count": 3,
   "metadata": {},
   "outputs": [
    {
     "data": {
      "text/html": [
       "<div>\n",
       "<style scoped>\n",
       "    .dataframe tbody tr th:only-of-type {\n",
       "        vertical-align: middle;\n",
       "    }\n",
       "\n",
       "    .dataframe tbody tr th {\n",
       "        vertical-align: top;\n",
       "    }\n",
       "\n",
       "    .dataframe thead th {\n",
       "        text-align: right;\n",
       "    }\n",
       "</style>\n",
       "<table border=\"1\" class=\"dataframe\">\n",
       "  <thead>\n",
       "    <tr style=\"text-align: right;\">\n",
       "      <th></th>\n",
       "      <th>SucrConsump</th>\n",
       "      <th>Injection</th>\n",
       "      <th>Exp_Idx</th>\n",
       "    </tr>\n",
       "  </thead>\n",
       "  <tbody>\n",
       "    <tr>\n",
       "      <th>609</th>\n",
       "      <td>23.2</td>\n",
       "      <td>Saline</td>\n",
       "      <td>2</td>\n",
       "    </tr>\n",
       "    <tr>\n",
       "      <th>738</th>\n",
       "      <td>9.9</td>\n",
       "      <td>PargYomb</td>\n",
       "      <td>2</td>\n",
       "    </tr>\n",
       "    <tr>\n",
       "      <th>251</th>\n",
       "      <td>24.9</td>\n",
       "      <td>Saline</td>\n",
       "      <td>1</td>\n",
       "    </tr>\n",
       "    <tr>\n",
       "      <th>653</th>\n",
       "      <td>8.0</td>\n",
       "      <td>Saline</td>\n",
       "      <td>2</td>\n",
       "    </tr>\n",
       "    <tr>\n",
       "      <th>58</th>\n",
       "      <td>20.6</td>\n",
       "      <td>Saline</td>\n",
       "      <td>1</td>\n",
       "    </tr>\n",
       "    <tr>\n",
       "      <th>77</th>\n",
       "      <td>11.5</td>\n",
       "      <td>Saline</td>\n",
       "      <td>1</td>\n",
       "    </tr>\n",
       "    <tr>\n",
       "      <th>388</th>\n",
       "      <td>41.4</td>\n",
       "      <td>Parg</td>\n",
       "      <td>1</td>\n",
       "    </tr>\n",
       "    <tr>\n",
       "      <th>88</th>\n",
       "      <td>9.5</td>\n",
       "      <td>Saline</td>\n",
       "      <td>1</td>\n",
       "    </tr>\n",
       "    <tr>\n",
       "      <th>262</th>\n",
       "      <td>10.9</td>\n",
       "      <td>Saline</td>\n",
       "      <td>1</td>\n",
       "    </tr>\n",
       "    <tr>\n",
       "      <th>116</th>\n",
       "      <td>14.1</td>\n",
       "      <td>Saline</td>\n",
       "      <td>1</td>\n",
       "    </tr>\n",
       "  </tbody>\n",
       "</table>\n",
       "</div>"
      ],
      "text/plain": [
       "     SucrConsump Injection  Exp_Idx\n",
       "609         23.2    Saline        2\n",
       "738          9.9  PargYomb        2\n",
       "251         24.9    Saline        1\n",
       "653          8.0    Saline        2\n",
       "58          20.6    Saline        1\n",
       "77          11.5    Saline        1\n",
       "388         41.4      Parg        1\n",
       "88           9.5    Saline        1\n",
       "262         10.9    Saline        1\n",
       "116         14.1    Saline        1"
      ]
     },
     "execution_count": 3,
     "metadata": {},
     "output_type": "execute_result"
    }
   ],
   "source": [
    "fly_data = pd.read_csv('data/3a.csv', index_col=None)\n",
    "\n",
    "fly_data.sample(10)"
   ]
  },
  {
   "cell_type": "markdown",
   "metadata": {},
   "source": [
    "Following the principles of [\"tidy data\"](http://www.jeannicholashould.com/tidy-data-in-python.html), we've stored each of our observations in a row. An observation includes the raw data (in this case, the amount of sugar consumed), the kind of injection the fly received, and, since we'll be looking at two experiments in this lab, an identifier for the experiment during which this datapoint was measured."
   ]
  },
  {
   "cell_type": "markdown",
   "metadata": {},
   "source": [
    "## Visualizing the Data"
   ]
  },
  {
   "cell_type": "markdown",
   "metadata": {},
   "source": [
    "Begin by plotting the histograms and computing means and standard deviations for both groups of flies in experiment #1. Remember: you'll need to subset your data by experiment index and by injection. Try to avoid hard-coding as much as possible, since you'll need to re-run this code with the data from experiment #2 later. For example, you'll want to use selection on the experiment index to pull out all of the data for one experiment:\n",
    "```python\n",
    "fly_data[fly_data.Exp_Idx == experiment_index]\n",
    "```\n",
    "\n",
    "Think about your histogram: should the bins be the same or different for the two groups? Is a rugplot helpful? Be ready to discuss your choices in class."
   ]
  },
  {
   "cell_type": "code",
   "execution_count": 4,
   "metadata": {},
   "outputs": [
    {
     "name": "stdout",
     "output_type": "stream",
     "text": [
      "Group Saline:\n",
      "\t Mean 14.96, SD 5.398315109371339\n",
      "Group Parg:\n",
      "\t Mean 46.363389830508474, SD 11.798279681205674\n"
     ]
    },
    {
     "data": {
      "image/png": "[encoded data removed]",
      "text/plain": [
       "<Figure size 720x720 with 1 Axes>"
      ]
     },
     "metadata": {},
     "output_type": "display_data"
    }
   ],
   "source": [
    "# answer\n",
    "experiment_index = 1\n",
    "\n",
    "experiment_data = fly_data[fly_data.Exp_Idx == experiment_index]\n",
    "injections = experiment_data.Injection.unique()\n",
    "\n",
    "for injection in injections:\n",
    "    group_data = experiment_data.SucrConsump[experiment_data.Injection == injection]\n",
    "    \n",
    "    print(\"Group {}:\".format(injection))\n",
    "    print(\"\\t Mean {0}, SD {1}\".format(group_data.mean(),group_data.std()))\n",
    "    \n",
    "    sns.distplot(group_data, kde=False, rug=True, label=injection,\n",
    "                 bins=range(0,100,5),\n",
    "                    hist_kws={'alpha':0.7,\n",
    "                              'edgecolor':'white',\n",
    "                              'linewidth':4,\n",
    "                              'density':True}).legend()"
   ]
  },
  {
   "cell_type": "markdown",
   "metadata": {},
   "source": [
    "**Q2** Based off of this visualization and these statistics, do you expect the difference of the means to be statistically significant (at the traditional/obligatory $\\alpha = 0.05$)? Why or why not?"
   ]
  },
  {
   "cell_type": "markdown",
   "metadata": {},
   "source": [
    "<font color='#1874CD'>  \n",
    "**For the first experiment, the distributions have very little overlap and their means are several standard deviations apart, so I expect a significant finding.**\n",
    "\n",
    "**For the second experiment, the distributions have substantial overlap and their means are closer together, relative to the standard deviation, so I do not expect a significant finding.**"
   ]
  },
  {
   "cell_type": "markdown",
   "metadata": {
    "collapsed": true
   },
   "source": [
    "Now, visualize the data as a barplot with 95% confidence interval error bars."
   ]
  },
  {
   "cell_type": "code",
   "execution_count": 5,
   "metadata": {},
   "outputs": [
    {
     "data": {
      "image/png": "[encoded data removed]",
      "text/plain": [
       "<Figure size 720x720 with 1 Axes>"
      ]
     },
     "metadata": {},
     "output_type": "display_data"
    }
   ],
   "source": [
    "sns.barplot(data=experiment_data, x=\"Injection\", y=\"SucrConsump\", ci=95,\n",
    "            alpha=0.7, edgecolor='white', linewidth=4,);"
   ]
  },
  {
   "cell_type": "markdown",
   "metadata": {},
   "source": [
    "**Q3** Based off of the barplot, what do you expect the result of your t-test to be?"
   ]
  },
  {
   "cell_type": "markdown",
   "metadata": {},
   "source": [
    "<font color='#1874CD'>  \n",
    "\n",
    "**In the first experiment, the 95% CI bars are very far from each other, so we expect an extremely high t-statistic and thus low p-value.**\n",
    "\n",
    "**In the second experiment, the 95% CI bars overlap substantially, so we expect a low t-statistic.**"
   ]
  },
  {
   "cell_type": "markdown",
   "metadata": {},
   "source": [
    "Now, plot the data as a boxplot."
   ]
  },
  {
   "cell_type": "code",
   "execution_count": 6,
   "metadata": {},
   "outputs": [
    {
     "data": {
      "image/png": "[encoded data removed]",
      "text/plain": [
       "<Figure size 720x720 with 1 Axes>"
      ]
     },
     "metadata": {},
     "output_type": "display_data"
    }
   ],
   "source": [
    "sns.boxplot(data=experiment_data, x=\"Injection\", y=\"SucrConsump\",\n",
    "           linewidth=4,\n",
    "            boxprops={'edgecolor':'white','alpha':0.7});"
   ]
  },
  {
   "cell_type": "markdown",
   "metadata": {},
   "source": [
    "**Q4** The boxplot can be used to see whether the assumptions for a $t$-test are met. What pieces of information would you use and what would they tell you?"
   ]
  },
  {
   "cell_type": "markdown",
   "metadata": {},
   "source": [
    "<font color='#1874CD'>\n",
    "\n",
    "**We can see whether the distributions are symmetric, and so possibly Gaussian, or close to it.\n",
    "We can also see whether the variances are equal between the two groups.**"
   ]
  },
  {
   "cell_type": "markdown",
   "metadata": {},
   "source": [
    "## Running the Test"
   ]
  },
  {
   "cell_type": "markdown",
   "metadata": {
    "collapsed": true
   },
   "source": [
    "Now, we can use the `scipy` package to run a $t$-test to determine if the difference between the groups is statistically significant. The function `scipy.stats.ttest_ind` \n",
    "([docs](https://docs.scipy.org/doc/scipy/reference/generated/scipy.stats.ttest_ind.html))\n",
    "will run a $t$-test for you."
   ]
  },
  {
   "cell_type": "markdown",
   "metadata": {},
   "source": [
    "Template:\n",
    "```python\n",
    "scipy.stats.ttest_ind(sample_1, sample_2, equal_var=False)\n",
    "```"
   ]
  },
  {
   "cell_type": "markdown",
   "metadata": {
    "collapsed": true
   },
   "source": [
    "**Q5** What are your results?"
   ]
  },
  {
   "cell_type": "markdown",
   "metadata": {},
   "source": [
    "<font color='#1874CD'>\n",
    "\n",
    "**The results are as expected for both experiments.**"
   ]
  },
  {
   "cell_type": "code",
   "execution_count": 7,
   "metadata": {},
   "outputs": [
    {
     "data": {
      "text/plain": [
       "2.093843051460494e-149"
      ]
     },
     "execution_count": 7,
     "metadata": {},
     "output_type": "execute_result"
    }
   ],
   "source": [
    "groups = [experiment_data.SucrConsump[experiment_data.Injection == injection] \n",
    "              for injection in injections]\n",
    "\n",
    "scipy.stats.ttest_ind(groups[0], groups[1],\n",
    "                      equal_var=False).pvalue"
   ]
  },
  {
   "cell_type": "markdown",
   "metadata": {},
   "source": [
    "**Q6** One of the keyword arguments for `ttest_ind` is `equal_var`. This lets us switch from a version of the t-test that assumes both groups have the same variance to one that does not assume this. Which version is more appropriate in this case?"
   ]
  },
  {
   "cell_type": "markdown",
   "metadata": {},
   "source": [
    "<font color='#1874CD'>\n",
    "\n",
    "**Since we have no reason to assume that the variances are the same, we should use the unequal-variances version of the test.**\n",
    "\n",
    "**Warning: checking the variances and then using the result to decide which $t$-test to run is actually a form of double-dipping that can increase your false positive rate above $\\alpha$!**"
   ]
  },
  {
   "cell_type": "markdown",
   "metadata": {},
   "source": [
    "In a follow-up experiment to further confirm octopamine positively modulates feeding behavior, an additional experiment was done with yohimbine (an antagonist of octopamine receptors in insects). One group was injected with parglyine and yohimbine (n = 130) while an additional control group was injected with saline (n = 100). The amount of sucrose consumed was then measured.\n",
    "\n",
    "Repeat all of the above exercises for this experiment. There's no need to write all of your code again in new cells. If you wrote your code with good style, it should all be reusable -- just change which experiment number is used to subset the data all the way up at the top. You also don't need to add new cells for your written answers: simply include responses for both experiments in the cells above."
   ]
  },
  {
   "cell_type": "markdown",
   "metadata": {},
   "source": [
    "## Running Multiple 2-Sample Tests"
   ]
  },
  {
   "cell_type": "markdown",
   "metadata": {},
   "source": [
    "Many, if not most,\n",
    "experiments have more than two groups in them:\n",
    "we might want to compare sucrose consumption\n",
    "in flies exposed to pargyline and five other compounds,\n",
    "or in different genotypes of flies exposed to pargyline.\n",
    "\n",
    "One first guess at how to extend our $t$-test to experiments like this might be:\n",
    "take each pair of samples and compare them to each other using the $t$-test.\n",
    "The section below will work with simulated data to demonstrate that this approach is a bad idea.\n",
    "In the next section, on ANOVA,\n",
    "we will develop a better solution."
   ]
  },
  {
   "cell_type": "code",
   "execution_count": 8,
   "metadata": {
    "collapsed": true
   },
   "outputs": [],
   "source": [
    "from itertools import combinations"
   ]
  },
  {
   "cell_type": "code",
   "execution_count": 9,
   "metadata": {
    "collapsed": true
   },
   "outputs": [],
   "source": [
    "def simulate_data(N=100, num_groups = 2):\n",
    "    num_rows = N*num_groups\n",
    "    measurements = np.random.standard_normal(size=(num_rows))\n",
    "    group_ids = np.repeat(np.arange(1, num_groups+1), N)\n",
    "    \n",
    "    columns = [measurements, group_ids]\n",
    "    column_labels = [\"measurement\", \"group_id\"]\n",
    "    \n",
    "    data_df = pd.DataFrame.from_dict({column_label: column for column_label, column\n",
    "                                      in zip(column_labels, columns)})\n",
    "    return data_df\n",
    "\n",
    "def multi_ttest(dataframe):\n",
    "    group_ids = dataframe.group_id.unique()\n",
    "    group_combinations = combinations(group_ids, 2)\n",
    "    \n",
    "    p_values = [single_ttest(dataframe, group_combination)\n",
    "                for group_combination in group_combinations]        \n",
    "    \n",
    "    return p_values\n",
    "\n",
    "def single_ttest(dataframe, indices_to_test):\n",
    "    groups = [dataframe.measurement[dataframe.group_id == index_to_test]\n",
    "                 for index_to_test in indices_to_test]\n",
    "    \n",
    "    result = scipy.stats.ttest_ind(*groups)\n",
    "    \n",
    "    return result.pvalue"
   ]
  },
  {
   "cell_type": "markdown",
   "metadata": {},
   "source": [
    "The function `utils.simulate_data` will generate data distributed\n",
    "according to the null hypothesis of the $t$-test:\n",
    "the data from each group is randomly generated according to a Gaussian distribution\n",
    "with the same mean and variance.\n",
    "The number of members in each group is determined by the argument `N`\n",
    "and the number of groups is determined by the argument `num_groups`.\n",
    "\n",
    "The data is returned as a `DataFrame`,\n",
    "with two columns.\n",
    "One, `measurement`, holds the value measured for each subject,\n",
    "and the other, `group_id`, holds the group index for each subject.\n",
    "\n",
    "For our hypothetical fly experiment,\n",
    "`num_groups` is the number of compounds we expose flies to,\n",
    "`N` is the number of flies we test per compound,\n",
    "`group_id` is the identifier for each compound,\n",
    "and `measurement` is the sucrose consumption."
   ]
  },
  {
   "cell_type": "code",
   "execution_count": 10,
   "metadata": {},
   "outputs": [
    {
     "data": {
      "text/html": [
       "<div>\n",
       "<style scoped>\n",
       "    .dataframe tbody tr th:only-of-type {\n",
       "        vertical-align: middle;\n",
       "    }\n",
       "\n",
       "    .dataframe tbody tr th {\n",
       "        vertical-align: top;\n",
       "    }\n",
       "\n",
       "    .dataframe thead th {\n",
       "        text-align: right;\n",
       "    }\n",
       "</style>\n",
       "<table border=\"1\" class=\"dataframe\">\n",
       "  <thead>\n",
       "    <tr style=\"text-align: right;\">\n",
       "      <th></th>\n",
       "      <th>measurement</th>\n",
       "      <th>group_id</th>\n",
       "    </tr>\n",
       "  </thead>\n",
       "  <tbody>\n",
       "    <tr>\n",
       "      <th>1419</th>\n",
       "      <td>-1.213893</td>\n",
       "      <td>2</td>\n",
       "    </tr>\n",
       "    <tr>\n",
       "      <th>1844</th>\n",
       "      <td>-1.121309</td>\n",
       "      <td>2</td>\n",
       "    </tr>\n",
       "    <tr>\n",
       "      <th>3123</th>\n",
       "      <td>0.071813</td>\n",
       "      <td>4</td>\n",
       "    </tr>\n",
       "    <tr>\n",
       "      <th>2778</th>\n",
       "      <td>-0.059082</td>\n",
       "      <td>3</td>\n",
       "    </tr>\n",
       "    <tr>\n",
       "      <th>4759</th>\n",
       "      <td>-0.125157</td>\n",
       "      <td>5</td>\n",
       "    </tr>\n",
       "  </tbody>\n",
       "</table>\n",
       "</div>"
      ],
      "text/plain": [
       "      measurement  group_id\n",
       "1419    -1.213893         2\n",
       "1844    -1.121309         2\n",
       "3123     0.071813         4\n",
       "2778    -0.059082         3\n",
       "4759    -0.125157         5"
      ]
     },
     "execution_count": 10,
     "metadata": {},
     "output_type": "execute_result"
    }
   ],
   "source": [
    "simulated_data = simulate_data(N=1000, num_groups=5)\n",
    "simulated_data.sample(5)"
   ]
  },
  {
   "cell_type": "markdown",
   "metadata": {},
   "source": [
    "The function `utils.multi_ttest` will apply a $t$-test\n",
    "to each possible pair of groups and return the $p$-value of each test in a list."
   ]
  },
  {
   "cell_type": "code",
   "execution_count": 11,
   "metadata": {
    "collapsed": true
   },
   "outputs": [],
   "source": [
    "test_results = multi_ttest(simulated_data)"
   ]
  },
  {
   "cell_type": "markdown",
   "metadata": {},
   "source": [
    "In the cell below, use the `len` (as in `len`gth) function to calculate the number of tests that were performed."
   ]
  },
  {
   "cell_type": "markdown",
   "metadata": {},
   "source": [
    "Template:\n",
    "```python\n",
    "len(?)\n",
    "```"
   ]
  },
  {
   "cell_type": "code",
   "execution_count": 12,
   "metadata": {},
   "outputs": [
    {
     "data": {
      "text/plain": [
       "10"
      ]
     },
     "execution_count": 12,
     "metadata": {},
     "output_type": "execute_result"
    }
   ],
   "source": [
    "# answer\n",
    "len(test_results)"
   ]
  },
  {
   "cell_type": "markdown",
   "metadata": {},
   "source": [
    "To determine the fraction of false positives,\n",
    "we need to calculate the fraction of tests that have $p$ less than some critical value.\n",
    "\n",
    "Calculate this value. You might use either a `for` loop or the function `np.less`, which takes in an array and returns a `1` for each element of the array"
   ]
  },
  {
   "cell_type": "markdown",
   "metadata": {},
   "source": [
    "Template:\n",
    "```python\n",
    "np.mean(np.less(?,?))\n",
    "```"
   ]
  },
  {
   "cell_type": "code",
   "execution_count": 13,
   "metadata": {},
   "outputs": [
    {
     "data": {
      "text/plain": [
       "0.0"
      ]
     },
     "execution_count": 13,
     "metadata": {},
     "output_type": "execute_result"
    }
   ],
   "source": [
    "# answer\n",
    "np.mean(np.less(test_results, 0.05))"
   ]
  },
  {
   "cell_type": "markdown",
   "metadata": {},
   "source": [
    "To determine the false positive rate,\n",
    "we would need to run the experiment many times and calculate an average.\n",
    "\n",
    "#### Q6 Run the experiment multiple times, taking note of the fraction of false positives. Increase `num_groups` to `20` and run the experiment multiple times again. Describe the behavior of the fraction of false positives."
   ]
  },
  {
   "cell_type": "markdown",
   "metadata": {},
   "source": [
    "<font color='#1874CD'> **With `num_groups=5`,\n",
    "the fraction of false positives is very variable,\n",
    "fluctuating between `0` and `0.4`.\n",
    "With `num_groups=20`,\n",
    "the fraction of false positives is more stable,\n",
    "varying between `0.01` and `0.1`.**"
   ]
  },
  {
   "cell_type": "markdown",
   "metadata": {},
   "source": [
    "In addition to the false positive rate,\n",
    "which tells us the chance that,\n",
    "if the null hypothesis is true for a given group,\n",
    "we incorrectly reject the null hypothesis for that group,\n",
    "we might be interested in the chance that we incorrectly\n",
    "reject the overall null hypothesis,\n",
    "which says that all of the group means are the same.\n",
    "This is known as the *familywise error rate*."
   ]
  },
  {
   "cell_type": "markdown",
   "metadata": {},
   "source": [
    "In the cell below, write code that will determine whether there has been a familywise error.\n",
    "You might use either an `if` statement or the function `np.any`."
   ]
  },
  {
   "cell_type": "markdown",
   "metadata": {},
   "source": [
    "Template:\n",
    "```python\n",
    "np.any(?)\n",
    "```"
   ]
  },
  {
   "cell_type": "code",
   "execution_count": 14,
   "metadata": {},
   "outputs": [
    {
     "data": {
      "text/plain": [
       "False"
      ]
     },
     "execution_count": 14,
     "metadata": {},
     "output_type": "execute_result"
    }
   ],
   "source": [
    "np.any(np.less(test_results, 0.05))"
   ]
  },
  {
   "cell_type": "markdown",
   "metadata": {},
   "source": [
    "#### Q7 Run the experiment multiple times with `num_groups=5` and `num_groups=20` and describe you observe regarding familywise errors."
   ]
  },
  {
   "cell_type": "markdown",
   "metadata": {},
   "source": [
    "<font color='#1874CD'> **With `num_groups=5`, there are sometimes familywise errors and sometimes not.\n",
    "With `num_groups=20`,\n",
    "there is almost always a familywise error.**"
   ]
  },
  {
   "cell_type": "markdown",
   "metadata": {},
   "source": [
    "#### Q8 Predict what will happen to the behavior of the familywise error and the fraction of false positives if you increase `N`. Test your prediction and describe the results in the cell below."
   ]
  },
  {
   "cell_type": "markdown",
   "metadata": {},
   "source": [
    "<font color='#1874CD'> **Though one might expect that our problems would go away with increasing `N`, this is not the case. When we increase `N`, we also reduce the threshold value for our test statistic so that the chance of falsely rejecting the null stays at $0.05$. This does nothing to prevent familywise errors.**"
   ]
  },
  {
   "cell_type": "markdown",
   "metadata": {},
   "source": [
    "#### Q9 Why does the behavior of the familywise error rate mean the multiple $t$-test approach is a bad choice for testing hypotheses about experiments with more than two samples?"
   ]
  },
  {
   "cell_type": "markdown",
   "metadata": {},
   "source": [
    "<font color='#1874CD'> **The familywise error rate quickly goes to $1$ as we increase the number of $t$-tests we perform. Therefore, if we use the multiple $t$-test approach, the chance we reject the overall null hypothesis incorrectly when it is true is going to $1$, making it impossible to confidently state that the results of any individual $t$-test are not due to chance.**"
   ]
  }
 ],
 "metadata": {
  "anaconda-cloud": {},
  "kernelspec": {
   "display_name": "Python 3",
   "language": "python",
   "name": "python3"
  },
  "language_info": {
   "codemirror_mode": {
    "name": "ipython",
    "version": 3
   },
   "file_extension": ".py",
   "mimetype": "text/x-python",
   "name": "python",
   "nbconvert_exporter": "python",
   "pygments_lexer": "ipython3",
   "version": "3.6.7"
  }
 },
 "nbformat": 4,
 "nbformat_minor": 1
}
