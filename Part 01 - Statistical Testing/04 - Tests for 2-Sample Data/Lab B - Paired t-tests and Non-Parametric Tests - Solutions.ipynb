{
 "cells": [
  {
   "cell_type": "markdown",
   "metadata": {},
   "source": [
    "<img src=\"./img/HWNI_logo.svg\"/>"
   ]
  },
  {
   "cell_type": "markdown",
   "metadata": {},
   "source": [
    "# Lab B - Paired t-tests and Non-Parametric Tests"
   ]
  },
  {
   "cell_type": "code",
   "execution_count": 1,
   "metadata": {},
   "outputs": [],
   "source": [
    "# makes our plots show up inside Jupyter\n",
    "%matplotlib inline"
   ]
  },
  {
   "cell_type": "code",
   "execution_count": 2,
   "metadata": {},
   "outputs": [
    {
     "data": {
      "text/html": [
       "<style>/* Originally by Brandon Rhodes, for use with Pandas*/\n",
       "body {\n",
       "    margin: 0;\n",
       "    font-family: Helvetica;\n",
       "}\n",
       "table.dataframe {\n",
       "    border-collapse: collapse;\n",
       "    border: none;\n",
       "}\n",
       "table.dataframe tr {\n",
       "    border: none;\n",
       "}\n",
       "table.dataframe td, table.dataframe th {\n",
       "    margin: 0;\n",
       "    border: 1px solid white;\n",
       "    padding-left: 0.25em;\n",
       "    padding-right: 0.25em;\n",
       "}\n",
       "table.dataframe th:not(:empty) {\n",
       "    background-color: #fec;\n",
       "    text-align: left;\n",
       "    font-weight: normal;\n",
       "}\n",
       "table.dataframe tr:nth-child(2) th:empty {\n",
       "    border-left: none;\n",
       "    border-right: 1px dashed #888;\n",
       "}\n",
       "table.dataframe td {\n",
       "    border: 2px solid #ccf;\n",
       "    background-color: #f4f4ff;\n",
       "}\n",
       "</style>"
      ],
      "text/plain": [
       "<IPython.core.display.HTML object>"
      ]
     },
     "execution_count": 2,
     "metadata": {},
     "output_type": "execute_result"
    }
   ],
   "source": [
    "import numpy as np\n",
    "import pandas as pd\n",
    "\n",
    "import matplotlib.pyplot as plt\n",
    "import seaborn as sns\n",
    "\n",
    "import scipy.stats\n",
    "\n",
    "import util.utils as utils\n",
    "import util.shared as shared\n",
    "\n",
    "shared.format_plots()\n",
    "shared.format_dataframes()"
   ]
  },
  {
   "cell_type": "markdown",
   "metadata": {},
   "source": [
    "In this lab, we'll look at some more commonly-used and practical hypothesis tests than the simple example used in the\n",
    "[hypothesis testing lab](../03%20-%20Hypothesis%20Testing/Lab%20-%20Hypothesis%20Testing.ipynb).\n",
    "In these tests, instead of collecting only one data point in our experimental condition, we'll collect multiple data points. All the tests considered in this lab -- paired and unpaired t-tests, non-parametric tests -- arise due to different choices of test statistic.\n",
    "\n",
    "In this half of the lab, we'll be looking at using\n",
    "[paired t-tests](https://en.wikipedia.org/wiki/Student%27s_t-test)\n",
    "and at two non-parametric tests:\n",
    "one is the randomization test described in the\n",
    "[tutorial](Tutorial%20-%20Tests%20for%202-Sample%20Data.ipynb)\n",
    "and the other is called the\n",
    "[*Wilcoxon signed-rank test*](https://en.wikipedia.org/wiki/Wilcoxon_signed-rank_test)"
   ]
  },
  {
   "cell_type": "markdown",
   "metadata": {},
   "source": [
    "## Dataset Introduction\n",
    "\n",
    "Certain types of nerve cells have the ability to regenerate a part of the cell that has been amputated. In an early study of this process, measurements were made on the nerves in the spinal cord of rhesus monkeys. Nerves emanating from the left side of the cord were cut, while nerves from the right side were kept intact. During the regeneration process, the amount of creatine phosphate (CP) was measured in the left and right portions of the spinal cord. You are interested in whether CP levels are different between the cut and control sides of the spinal cord. \n",
    "\n",
    " *adapted from Samuels & Witmer, pg 387. Originally: Bodian (1947)*"
   ]
  },
  {
   "cell_type": "markdown",
   "metadata": {},
   "source": [
    "**Q1** Why is a paired test appropriate for this dataset? What are we assuming about the data when we choose to use a paired t-test in particular?"
   ]
  },
  {
   "cell_type": "markdown",
   "metadata": {},
   "source": [
    "<font color='#1874CD'> **The measurements form natural pairs -- they are from the same organism. We are assuming that the measurements in each pair are drawn from normal distributions with equal (or at least similar) variances but possibly different means.**"
   ]
  },
  {
   "cell_type": "markdown",
   "metadata": {},
   "source": [
    "**Q2** This experiment could've been run by severing both sides of the spinal cord in one set of monkeys and neither side in a control group. What makes the original experimental design likely superior?"
   ]
  },
  {
   "cell_type": "markdown",
   "metadata": {},
   "source": [
    "<font color='#1874CD'> **This design \"controls for\", aka allows us to ignore, individual differences in creatine phosphate expression, which can be a huge source of variation. It's appropriate if the only claim we're trying to make is that the intervention changes CP levels from a baseline, rather than absolutely.**"
   ]
  },
  {
   "cell_type": "markdown",
   "metadata": {},
   "source": [
    "## Loading and Tidying Data"
   ]
  },
  {
   "cell_type": "markdown",
   "metadata": {},
   "source": [
    "We begin by loading the data and taking a look at it. As is common in studies involving primates, the number of organisms used is quite small, so we can view all of the data at once."
   ]
  },
  {
   "cell_type": "code",
   "execution_count": 3,
   "metadata": {
    "collapsed": true
   },
   "outputs": [],
   "source": [
    "cp_data = pd.read_csv(\"./data/3b.csv\",index_col=None)"
   ]
  },
  {
   "cell_type": "code",
   "execution_count": 4,
   "metadata": {},
   "outputs": [
    {
     "data": {
      "text/html": [
       "<div>\n",
       "<style scoped>\n",
       "    .dataframe tbody tr th:only-of-type {\n",
       "        vertical-align: middle;\n",
       "    }\n",
       "\n",
       "    .dataframe tbody tr th {\n",
       "        vertical-align: top;\n",
       "    }\n",
       "\n",
       "    .dataframe thead th {\n",
       "        text-align: right;\n",
       "    }\n",
       "</style>\n",
       "<table border=\"1\" class=\"dataframe\">\n",
       "  <thead>\n",
       "    <tr style=\"text-align: right;\">\n",
       "      <th></th>\n",
       "      <th>cpLevel</th>\n",
       "      <th>side</th>\n",
       "      <th>organismIdx</th>\n",
       "    </tr>\n",
       "  </thead>\n",
       "  <tbody>\n",
       "    <tr>\n",
       "      <th>0</th>\n",
       "      <td>16.3</td>\n",
       "      <td>Control_R</td>\n",
       "      <td>1</td>\n",
       "    </tr>\n",
       "    <tr>\n",
       "      <th>1</th>\n",
       "      <td>4.8</td>\n",
       "      <td>Control_R</td>\n",
       "      <td>2</td>\n",
       "    </tr>\n",
       "    <tr>\n",
       "      <th>2</th>\n",
       "      <td>10.9</td>\n",
       "      <td>Control_R</td>\n",
       "      <td>3</td>\n",
       "    </tr>\n",
       "    <tr>\n",
       "      <th>3</th>\n",
       "      <td>14.2</td>\n",
       "      <td>Control_R</td>\n",
       "      <td>4</td>\n",
       "    </tr>\n",
       "    <tr>\n",
       "      <th>4</th>\n",
       "      <td>16.3</td>\n",
       "      <td>Control_R</td>\n",
       "      <td>5</td>\n",
       "    </tr>\n",
       "    <tr>\n",
       "      <th>5</th>\n",
       "      <td>9.9</td>\n",
       "      <td>Control_R</td>\n",
       "      <td>6</td>\n",
       "    </tr>\n",
       "    <tr>\n",
       "      <th>6</th>\n",
       "      <td>29.2</td>\n",
       "      <td>Control_R</td>\n",
       "      <td>7</td>\n",
       "    </tr>\n",
       "    <tr>\n",
       "      <th>7</th>\n",
       "      <td>22.4</td>\n",
       "      <td>Control_R</td>\n",
       "      <td>8</td>\n",
       "    </tr>\n",
       "    <tr>\n",
       "      <th>8</th>\n",
       "      <td>11.5</td>\n",
       "      <td>Regen_L</td>\n",
       "      <td>1</td>\n",
       "    </tr>\n",
       "    <tr>\n",
       "      <th>9</th>\n",
       "      <td>3.6</td>\n",
       "      <td>Regen_L</td>\n",
       "      <td>2</td>\n",
       "    </tr>\n",
       "    <tr>\n",
       "      <th>10</th>\n",
       "      <td>12.5</td>\n",
       "      <td>Regen_L</td>\n",
       "      <td>3</td>\n",
       "    </tr>\n",
       "    <tr>\n",
       "      <th>11</th>\n",
       "      <td>6.3</td>\n",
       "      <td>Regen_L</td>\n",
       "      <td>4</td>\n",
       "    </tr>\n",
       "    <tr>\n",
       "      <th>12</th>\n",
       "      <td>15.2</td>\n",
       "      <td>Regen_L</td>\n",
       "      <td>5</td>\n",
       "    </tr>\n",
       "    <tr>\n",
       "      <th>13</th>\n",
       "      <td>8.1</td>\n",
       "      <td>Regen_L</td>\n",
       "      <td>6</td>\n",
       "    </tr>\n",
       "    <tr>\n",
       "      <th>14</th>\n",
       "      <td>16.6</td>\n",
       "      <td>Regen_L</td>\n",
       "      <td>7</td>\n",
       "    </tr>\n",
       "    <tr>\n",
       "      <th>15</th>\n",
       "      <td>13.1</td>\n",
       "      <td>Regen_L</td>\n",
       "      <td>8</td>\n",
       "    </tr>\n",
       "  </tbody>\n",
       "</table>\n",
       "</div>"
      ],
      "text/plain": [
       "    cpLevel       side  organismIdx\n",
       "0      16.3  Control_R            1\n",
       "1       4.8  Control_R            2\n",
       "2      10.9  Control_R            3\n",
       "3      14.2  Control_R            4\n",
       "4      16.3  Control_R            5\n",
       "5       9.9  Control_R            6\n",
       "6      29.2  Control_R            7\n",
       "7      22.4  Control_R            8\n",
       "8      11.5    Regen_L            1\n",
       "9       3.6    Regen_L            2\n",
       "10     12.5    Regen_L            3\n",
       "11      6.3    Regen_L            4\n",
       "12     15.2    Regen_L            5\n",
       "13      8.1    Regen_L            6\n",
       "14     16.6    Regen_L            7\n",
       "15     13.1    Regen_L            8"
      ]
     },
     "execution_count": 4,
     "metadata": {},
     "output_type": "execute_result"
    }
   ],
   "source": [
    "cp_data"
   ]
  },
  {
   "cell_type": "markdown",
   "metadata": {},
   "source": [
    "Notice, however, that this time our data is not \"tidy\" -- our \"unit of observation\" is one organism, but each row doesn't correspond to an organism. Instead, it corresponds to a measurement of creatine phosphate levels.\n",
    "\n",
    "Luckily, our collaborator has included enough information that we can tidy this data up. The dataframe that we want to have has rows corresponding to values of `organismIdx` and two new columns, `Control_R` and `Regen_L`, which should be populated with values from `cpLevel`.\n",
    "\n",
    "This operation of \"reorganization\" is common enough that pandas has a function to do it for us: `dataframe.pivot`. We tell is which column gives us the row `index`, which column gives us the new `columns`, and which column gives us the new `values`, like so:"
   ]
  },
  {
   "cell_type": "code",
   "execution_count": 5,
   "metadata": {},
   "outputs": [
    {
     "data": {
      "text/html": [
       "<div>\n",
       "<style scoped>\n",
       "    .dataframe tbody tr th:only-of-type {\n",
       "        vertical-align: middle;\n",
       "    }\n",
       "\n",
       "    .dataframe tbody tr th {\n",
       "        vertical-align: top;\n",
       "    }\n",
       "\n",
       "    .dataframe thead th {\n",
       "        text-align: right;\n",
       "    }\n",
       "</style>\n",
       "<table border=\"1\" class=\"dataframe\">\n",
       "  <thead>\n",
       "    <tr style=\"text-align: right;\">\n",
       "      <th>side</th>\n",
       "      <th>Control_R</th>\n",
       "      <th>Regen_L</th>\n",
       "    </tr>\n",
       "    <tr>\n",
       "      <th>organismIdx</th>\n",
       "      <th></th>\n",
       "      <th></th>\n",
       "    </tr>\n",
       "  </thead>\n",
       "  <tbody>\n",
       "    <tr>\n",
       "      <th>1</th>\n",
       "      <td>16.3</td>\n",
       "      <td>11.5</td>\n",
       "    </tr>\n",
       "    <tr>\n",
       "      <th>2</th>\n",
       "      <td>4.8</td>\n",
       "      <td>3.6</td>\n",
       "    </tr>\n",
       "    <tr>\n",
       "      <th>3</th>\n",
       "      <td>10.9</td>\n",
       "      <td>12.5</td>\n",
       "    </tr>\n",
       "    <tr>\n",
       "      <th>4</th>\n",
       "      <td>14.2</td>\n",
       "      <td>6.3</td>\n",
       "    </tr>\n",
       "    <tr>\n",
       "      <th>5</th>\n",
       "      <td>16.3</td>\n",
       "      <td>15.2</td>\n",
       "    </tr>\n",
       "    <tr>\n",
       "      <th>6</th>\n",
       "      <td>9.9</td>\n",
       "      <td>8.1</td>\n",
       "    </tr>\n",
       "    <tr>\n",
       "      <th>7</th>\n",
       "      <td>29.2</td>\n",
       "      <td>16.6</td>\n",
       "    </tr>\n",
       "    <tr>\n",
       "      <th>8</th>\n",
       "      <td>22.4</td>\n",
       "      <td>13.1</td>\n",
       "    </tr>\n",
       "  </tbody>\n",
       "</table>\n",
       "</div>"
      ],
      "text/plain": [
       "side         Control_R  Regen_L\n",
       "organismIdx                    \n",
       "1                 16.3     11.5\n",
       "2                  4.8      3.6\n",
       "3                 10.9     12.5\n",
       "4                 14.2      6.3\n",
       "5                 16.3     15.2\n",
       "6                  9.9      8.1\n",
       "7                 29.2     16.6\n",
       "8                 22.4     13.1"
      ]
     },
     "execution_count": 5,
     "metadata": {},
     "output_type": "execute_result"
    }
   ],
   "source": [
    "tidy = cp_data.pivot(index=\"organismIdx\", columns=\"side\", values=\"cpLevel\")\n",
    "tidy"
   ]
  },
  {
   "cell_type": "markdown",
   "metadata": {},
   "source": [
    "Because the first format is always longer than the second, it's also called the *long format*, while the tidy format is also called the \"wide format\". As more and more folks get on board the tidy data train, these non-judgmental names for the formats are likely to fall out of favor.\n",
    "\n",
    "For more on the philosophy of tidy data (written from an R perspective), check out this [paper by Hadley Wickham](http://www.jeannicholashould.com/tidy-data-in-python.html), developer of some of the most prominent stats packages for the R programming language. For some more practical examples of cleaning up messy data in Python, check out [this blog post by Jean Nicholas Hould](http://www.jeannicholashould.com/tidy-data-in-python.html)."
   ]
  },
  {
   "cell_type": "markdown",
   "metadata": {},
   "source": [
    "## Visualizing Paired Data"
   ]
  },
  {
   "cell_type": "markdown",
   "metadata": {},
   "source": [
    "If you need more convincing that tidy data formats are better, check out the code cell below. In just one line, it produces a histogram for each column and a scatterplot for each pair of columns -- what seaborn calls a `pairplot`. These can be very useful for exploring lots of pairwise relationships by eye very quickly."
   ]
  },
  {
   "cell_type": "code",
   "execution_count": 6,
   "metadata": {},
   "outputs": [
    {
     "name": "stderr",
     "output_type": "stream",
     "text": [
      "/home/charles/venvs/neur299/lib/python3.6/site-packages/seaborn/axisgrid.py:2065: UserWarning: The `size` parameter has been renamed to `height`; pleaes update your code.\n",
      "  warnings.warn(msg, UserWarning)\n"
     ]
    },
    {
     "data": {
      "image/png": "[encoded data removed]",
      "text/plain": [
       "<Figure size 576x576 with 6 Axes>"
      ]
     },
     "metadata": {},
     "output_type": "display_data"
    }
   ],
   "source": [
    "sns.pairplot(tidy, size=4, aspect=1);"
   ]
  },
  {
   "cell_type": "markdown",
   "metadata": {},
   "source": [
    "As another, simpler, way to visualize the data, compute the differences between the control and regenerating sides and make a stripplot.\n",
    "\n",
    "**Q3** Why do we take the difference? What does this have to do with our choice of the paired t-test?"
   ]
  },
  {
   "cell_type": "markdown",
   "metadata": {},
   "source": [
    "<font color='#1874CD'> **The difference is a new random variable over which our null and alternative hypotheses are more easily stated: our null hypothesis is that the mean of the differences is 0, and our alternative hypothesis are that the mean is at least as far from zero as the value we measured.**"
   ]
  },
  {
   "cell_type": "code",
   "execution_count": 7,
   "metadata": {},
   "outputs": [
    {
     "data": {
      "image/png": "[encoded data removed]",
      "text/plain": [
       "<Figure size 720x720 with 1 Axes>"
      ]
     },
     "metadata": {},
     "output_type": "display_data"
    }
   ],
   "source": [
    "sns.stripplot(tidy.Control_R - tidy.Regen_L,\n",
    "              size=14, alpha=0.45, color='black');"
   ]
  },
  {
   "cell_type": "markdown",
   "metadata": {},
   "source": [
    "**Q4** Based on this visualization, do you expect the result to be statistically significant or not? Why or why not?"
   ]
  },
  {
   "cell_type": "markdown",
   "metadata": {},
   "source": [
    "<font color='#1874CD'> **Yes, because only one of the differences is less than 0, while the majority are greater than 0.**"
   ]
  },
  {
   "cell_type": "markdown",
   "metadata": {},
   "source": [
    "More common than either of these visualizations, at least in the biological literature, is a plot that shows the observations as neighboring stripplots with lines connecting pairs.\n",
    "\n",
    "Run the cell below to generate just such a plot. Check out the `utils` module if you want to see how it's done -- since seaborn doesn't offer this as a basic plot, it requires a bit of matplotlib-fu."
   ]
  },
  {
   "cell_type": "code",
   "execution_count": 8,
   "metadata": {},
   "outputs": [
    {
     "name": "stderr",
     "output_type": "stream",
     "text": [
      "/home/charles/venvs/neur299/lib/python3.6/site-packages/matplotlib/axes/_base.py:380: MatplotlibDeprecationWarning: \n",
      "cycling among columns of inputs with non-matching shapes is deprecated.\n",
      "  cbook.warn_deprecated(\"2.2\", \"cycling among columns of inputs \"\n"
     ]
    },
    {
     "data": {
      "image/png": "[encoded data removed]",
      "text/plain": [
       "<Figure size 720x720 with 1 Axes>"
      ]
     },
     "metadata": {},
     "output_type": "display_data"
    }
   ],
   "source": [
    "utils.difference_plot(tidy, ylabel=\"Creatine Phosphate Levels\")"
   ]
  },
  {
   "cell_type": "markdown",
   "metadata": {},
   "source": [
    "**Q5** What visual aspects of this plot indicate whether an effect is likely to be statistically significant or insignificant? Of the plots we made -- the pairplot scatter plots, the stripplot of differences, or the difference plot -- which do you prefer? Why? Which would you use in a publication?"
   ]
  },
  {
   "cell_type": "markdown",
   "metadata": {},
   "source": [
    "<font color='#1874CD'>  \n",
    "\n",
    "**The slopes of the lines are the salient visual feature. Most of the lines are pointing down, many of them with a much larger slope than the one line pointing up.**\n",
    "\n",
    "**For data exploration, I prefer the scatter plot - it lets me see all of the data in a raw form, and I can easily see, by eye, that there is a strong correlation that indicates I should use a paired test. It's not as easy to tell whether there's a significant effect, however, without equalizing the axes and plotting the line `y=x`, which is a bit more involved.**\n",
    "\n",
    "**For publication, there's a strong pull towards the difference plot, in part because it is standard. It also lets you see, by eye, what the distribution of each group looks like as a scatterplot and the lines provide a quick-and-dirty estimate of the difference distribution.**"
   ]
  },
  {
   "cell_type": "markdown",
   "metadata": {},
   "source": [
    "## Running a Paired t-Test"
   ]
  },
  {
   "cell_type": "markdown",
   "metadata": {},
   "source": [
    "First, run the unpaired version of the t-test, as in the first half of the lab.\n",
    "\n",
    "**Q6** Is the result significant at $\\alpha$ = 0.05? (NB: Future uses of the term \"significant\" imply significant at this level of $\\alpha$)."
   ]
  },
  {
   "cell_type": "code",
   "execution_count": 9,
   "metadata": {},
   "outputs": [
    {
     "data": {
      "text/plain": [
       "Ttest_indResult(statistic=1.484782474432694, pvalue=0.159766872901516)"
      ]
     },
     "execution_count": 9,
     "metadata": {},
     "output_type": "execute_result"
    }
   ],
   "source": [
    "scipy.stats.ttest_ind(tidy.Control_R, tidy.Regen_L)"
   ]
  },
  {
   "cell_type": "markdown",
   "metadata": {},
   "source": [
    "<font color='#1874CD'>  \n",
    "\n",
    "**No, it is not.**"
   ]
  },
  {
   "cell_type": "markdown",
   "metadata": {},
   "source": [
    "Scipy also has a paired version of the t-test: `scipy.stats.ttest_rel`, for `rel`ated measurements `t-test`. Run the paired test (the syntax for the function is much the same as for the unpaired test). \n",
    "\n",
    "**Q ** Is the result significant? If you got different answers for the two tests, explain why this is the case."
   ]
  },
  {
   "cell_type": "code",
   "execution_count": 10,
   "metadata": {},
   "outputs": [
    {
     "data": {
      "text/plain": [
       "Ttest_relResult(statistic=2.6846726320793435, pvalue=0.031326495462755705)"
      ]
     },
     "execution_count": 10,
     "metadata": {},
     "output_type": "execute_result"
    }
   ],
   "source": [
    "scipy.stats.ttest_rel(tidy.Control_R, tidy.Regen_L)"
   ]
  },
  {
   "cell_type": "markdown",
   "metadata": {},
   "source": [
    "<font color='#1874CD'>\n",
    "\n",
    "**Yes, the result is significant. We get different answers because the natural variability of organisms is larger than the variability due to the experimental manipulation, so the unpaired t-test gives us a different answer.**"
   ]
  },
  {
   "cell_type": "markdown",
   "metadata": {},
   "source": [
    "**Q8** Say I gave you one measurement of creatine phosphate from a new organism's spinal cord. Based on your results, would you expect to be able to tell whether this measurement was from a spine undergoing regeneration? Why or why not? Does your answer change if I give you more measurements, all from different organisms in the same group?"
   ]
  },
  {
   "cell_type": "markdown",
   "metadata": {},
   "source": [
    "<font color='#1874CD'>\n",
    "    \n",
    "**I would not expect to tell the difference, because the variability between organisms is so high. If I received many measurements, I might be able to tell the difference, but it's unclear based on the small quantity of data we have. It might require a more sophisticated test.**"
   ]
  },
  {
   "cell_type": "markdown",
   "metadata": {},
   "source": [
    "**Q9** Now say I gave you two measurements of creatine phosphate, both from the same organism, one before and one after severing its spinal cord. Based on your results, do you expect to be able to tell which is which? Why or why not?"
   ]
  },
  {
   "cell_type": "markdown",
   "metadata": {},
   "source": [
    "<font color='#1874CD'>\n",
    "\n",
    "**In this case, I think I have a good change of being able to tell which measurement comes from the regeneration state and which comes from the baseline state -- only one of the observed differences was negative, so I'd expect to be right in guessing that the higher value comes from the baseline state 7/8 times.**"
   ]
  },
  {
   "cell_type": "markdown",
   "metadata": {},
   "source": [
    "## Non-Parametric Test: Wilcoxon"
   ]
  },
  {
   "cell_type": "markdown",
   "metadata": {},
   "source": [
    "**Q9** What would be the argument for using a non-parametric test in this case? Are there any arguments against?"
   ]
  },
  {
   "cell_type": "markdown",
   "metadata": {},
   "source": [
    "<font color='#1874CD'> **We aren't sure that the data was drawn, in both cases, from a normal distribution with the same variance. In fact, it appears that the left, regenerating side has higher variance, as we might expect from biology. Normality is difficult to test with such a small sample size, so a non-parametric test is safer. However, the power of such a test, if those assumptions are actually true, is much smaller, so we're more likely to have a false negative.**"
   ]
  },
  {
   "cell_type": "markdown",
   "metadata": {},
   "source": [
    "Use the wilcoxon signed-rank test to perform a non-parametric paired test. Unfortunately, scipy doesn't implement an exact version of the signed-rank test for small sample sizes, so the p-value you calculate will be incorrect and you should receive a `\"Warning: sample size too small for normal approximation\"`.\n",
    "\n",
    "**Q10** Despite this error, and the weaker power of the non-parametric test, do you report a significant difference based on the Wilcoxon test?"
   ]
  },
  {
   "cell_type": "code",
   "execution_count": 11,
   "metadata": {
    "scrolled": false
   },
   "outputs": [
    {
     "name": "stderr",
     "output_type": "stream",
     "text": [
      "/home/charles/venvs/neur299/lib/python3.6/site-packages/scipy/stats/morestats.py:2778: UserWarning: Warning: sample size too small for normal approximation.\n",
      "  warnings.warn(\"Warning: sample size too small for normal approximation.\")\n"
     ]
    },
    {
     "data": {
      "text/plain": [
       "WilcoxonResult(statistic=3.0, pvalue=0.03569190011680441)"
      ]
     },
     "execution_count": 11,
     "metadata": {},
     "output_type": "execute_result"
    }
   ],
   "source": [
    "scipy.stats.wilcoxon(tidy.Control_R, tidy.Regen_L)"
   ]
  },
  {
   "cell_type": "markdown",
   "metadata": {},
   "source": [
    "<font color='#1874CD'> **Yes, there is still a significant difference in CP levels.**"
   ]
  },
  {
   "cell_type": "markdown",
   "metadata": {},
   "source": [
    "## Non-Parametric Test: Randomization"
   ]
  },
  {
   "cell_type": "markdown",
   "metadata": {},
   "source": [
    "The\n",
    "[tutorial](Tutorial%20-%20Tests%20for%202-Sample%20Data.ipynb)\n",
    "describes the motivation for *randomization tests*,\n",
    "a general class of non-parametric tests that can be used with a wide variety of test statistics,\n",
    "including cases where parametric tests like the $t$-test fail.\n",
    "\n",
    "Unfortunately, randomization tests are not implemented in the major Python statistical libraries.\n",
    "One reason why is that it's pretty easy to write your own!\n",
    "You just need to write\n",
    "\n",
    "- a randomization, or shuffling, method appropriate to your null hypothesis\n",
    "- a function that computes your test statistic\n",
    "- a loop that will randomly shuffle your data and then compute the test statistic\n",
    "- a function to calculate the $p$-value"
   ]
  },
  {
   "cell_type": "markdown",
   "metadata": {},
   "source": [
    "The `util` module contains some code to shuffle dataframes.\n",
    "\n",
    "The function to compute the test statistic appears in the cell below.\n",
    "Notice that we can just change the statistic calculated by this function --\n",
    "from `mean` to `median` or `max` or whatever we want, like `== 5` or `is_even` --\n",
    "and we'll get a new statistical test.\n",
    "Much easier than implementing the Wilcoxon test AND the $t$-test, and we get the ability to do tests with any statistic, any function of our data, that we want."
   ]
  },
  {
   "cell_type": "code",
   "execution_count": 12,
   "metadata": {
    "collapsed": true
   },
   "outputs": [],
   "source": [
    "def compute_test_statistic(tidy_dataframe, statistic='mean'):\n",
    "    \n",
    "    differences = tidy_dataframe.iloc[:,0] - tidy_dataframe.iloc[:,1]\n",
    "    \n",
    "    if statistic == 'mean':\n",
    "        return np.mean(differences)\n",
    "    elif statistic == 'median':\n",
    "        return np.median(differences)\n",
    "    elif statistic == 'max':\n",
    "        return np.max(differences)\n",
    "    else: # randomization can be applied to *any* statistic, which just means any function\n",
    "        assert callable(statistic), \"statistic must be a function\"\n",
    "        return statistic(differences)"
   ]
  },
  {
   "cell_type": "code",
   "execution_count": 13,
   "metadata": {
    "collapsed": true
   },
   "outputs": [],
   "source": [
    "observed_test_statistic = compute_test_statistic(tidy, statistic = 'mean')"
   ]
  },
  {
   "cell_type": "markdown",
   "metadata": {},
   "source": [
    "The loop to draw from the sampling distribution of the test statistic\n",
    "under the null distribution appears in the cell below.\n",
    "We just repeatedly shuffle the original data frame and\n",
    "compute the test statistic,\n",
    "storing the results in the array\n",
    "`null_test_statistics`."
   ]
  },
  {
   "cell_type": "code",
   "execution_count": 14,
   "metadata": {
    "collapsed": true
   },
   "outputs": [
    {
     "name": "stderr",
     "output_type": "stream",
     "text": [
      "/home/charles/courses/AppliedStatisticsForNeuroscience/Part 01 - Statistical Testing/04 - Tests for 2-Sample Data/util/utils.py:46: FutureWarning: Method .as_matrix will be removed in a future version. Use .values instead.\n",
      "  shuffle.iloc[index,:] = tidy_dataframe.iloc[index,::-1].as_matrix()\n"
     ]
    }
   ],
   "source": [
    "num_shuffles = 1000 # how many samples do we draw from the null distribution?\n",
    "\n",
    "null_test_statistics = np.zeros(num_shuffles) # pre-allocate some memory to store the results of these samples\n",
    "\n",
    "for shuffle_idx in range(num_shuffles):\n",
    "    #first we shuffle the dataframe\n",
    "    shuffled_df = utils.make_shuffle(tidy)\n",
    "    #then we compute the test statistic and add it to our array\n",
    "    null_test_statistics[shuffle_idx] = compute_test_statistic(shuffled_df, statistic = 'mean')"
   ]
  },
  {
   "cell_type": "markdown",
   "metadata": {},
   "source": [
    "Lastly, we need to calculate the $p$-value.\n",
    "For a one-tailed test, this is super easy!\n",
    "We just need to calculate the fraction of times\n",
    "that the test statistic after shuffling was at least as high\n",
    "as it was before shuffling.\n",
    "\n",
    "We can do this in one line of Python:\n",
    "first, we get a Boolean array\n",
    "(an array of `True`s and `False`s)\n",
    "using the `>=` operator.\n",
    "This array has a `True` wherever the value in the \n",
    "`null_test_statistic` array\n",
    "was at least as large as the\n",
    "`observed_test_statistic`.\n",
    "\n",
    "We then calculate the mean of that array using\n",
    "`np.mean`.\n",
    "Since `True` is treated as a `1`\n",
    "and `False` is treated as a `0`,\n",
    "taking the average value gives us the fraction\n",
    "of values that were `True` --\n",
    "the fraction of times the test statistic calculated from a shuffled data frame\n",
    "was higher than the one we calculated from our data."
   ]
  },
  {
   "cell_type": "code",
   "execution_count": 15,
   "metadata": {},
   "outputs": [
    {
     "data": {
      "text/plain": [
       "0.016"
      ]
     },
     "execution_count": 15,
     "metadata": {},
     "output_type": "execute_result"
    }
   ],
   "source": [
    "np.mean(null_test_statistics >= observed_test_statistic)"
   ]
  },
  {
   "cell_type": "markdown",
   "metadata": {},
   "source": [
    "#### Q11 Is the result significant according to the randomization test?"
   ]
  },
  {
   "cell_type": "markdown",
   "metadata": {},
   "source": [
    "<font color='#1874CD'>\n",
    "    \n",
    "**Yes, the result is significant at the $\\alpha$=0.05 level.**"
   ]
  },
  {
   "cell_type": "markdown",
   "metadata": {},
   "source": [
    "#### Q12 Change the argument `statistic` to `median` in both cells above. Is the result significant?"
   ]
  },
  {
   "cell_type": "markdown",
   "metadata": {},
   "source": [
    "<font color='#1874CD'>\n",
    "\n",
    "**Yes, the result is significant at the $\\alpha$=0.05 level.**"
   ]
  },
  {
   "cell_type": "markdown",
   "metadata": {},
   "source": [
    "#### Q13 Explain the benefits and drawbacks of the randomization test relative to a) parametric methods and b) test-statistic-specific non-parametric methods like the Wilcoxon test."
   ]
  },
  {
   "cell_type": "markdown",
   "metadata": {},
   "source": [
    "<font color='#1874CD'>\n",
    "    \n",
    "**As a non-parametric test, the randomization test makes fewer assumptions than an equivalent parametric test, but sacrifices some power in the case that those assumptions are correct.**\n",
    "\n",
    "**Compared to other non-parametric tests, randomization tests are easier to implement and easier to understand, but sometimes have less power.**"
   ]
  }
 ],
 "metadata": {
  "anaconda-cloud": {},
  "kernelspec": {
   "display_name": "Python 3",
   "language": "python",
   "name": "python3"
  },
  "language_info": {
   "codemirror_mode": {
    "name": "ipython",
    "version": 3
   },
   "file_extension": ".py",
   "mimetype": "text/x-python",
   "name": "python",
   "nbconvert_exporter": "python",
   "pygments_lexer": "ipython3",
   "version": "3.6.7"
  }
 },
 "nbformat": 4,
 "nbformat_minor": 1
}
