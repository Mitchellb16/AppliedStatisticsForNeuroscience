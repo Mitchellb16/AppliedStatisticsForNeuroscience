{
 "cells": [
  {
   "cell_type": "markdown",
   "metadata": {},
   "source": [
    "<img src=\"./img/HWNI_logo.svg\"/>"
   ]
  },
  {
   "cell_type": "markdown",
   "metadata": {},
   "source": [
    "# Lab A - Two-Way ANOVA"
   ]
  },
  {
   "cell_type": "code",
   "execution_count": null,
   "metadata": {},
   "outputs": [],
   "source": [
    "# makes our plots show up inside Jupyter\n",
    "%matplotlib inline"
   ]
  },
  {
   "cell_type": "code",
   "execution_count": null,
   "metadata": {},
   "outputs": [],
   "source": [
    "import numpy as np\n",
    "import pandas as pd\n",
    "\n",
    "import matplotlib.pyplot as plt\n",
    "import seaborn as sns\n",
    "\n",
    "import scipy.stats\n",
    "\n",
    "import warnings\n",
    "warnings.filterwarnings(\"ignore\", category=FutureWarning)\n",
    "\n",
    "import util.utils as utils\n",
    "import util.shared as shared\n",
    "\n",
    "shared.format_plots()\n",
    "shared.format_dataframes()"
   ]
  },
  {
   "cell_type": "markdown",
   "metadata": {},
   "source": [
    "## About the Lab"
   ]
  },
  {
   "cell_type": "markdown",
   "metadata": {},
   "source": [
    "In part A of the lab for this section, we run ANOVA on a simulated dataset using `statsmodels` and connect ANOVA outputs to features of our data visualizations."
   ]
  },
  {
   "cell_type": "markdown",
   "metadata": {},
   "source": [
    "## About the Dataset"
   ]
  },
  {
   "cell_type": "markdown",
   "metadata": {},
   "source": [
    "The data for this lab is simulated.\n",
    "\n",
    "After learning of [Nemeroff, Heim, et al.](http://www.pnas.org/content/100/24/14293.full)'s finding that psychotherapy is more effective at treating depression in individuals with childhood trauma, you become interested in whether the same might be true for treating anxiety.\n",
    "\n",
    "You run a clinical experiment in which individuals with and without childhood trauma are treated with a placebo, the standard of care for psychotherapy (CBT, or \n",
    "[\"Cognitive Behavioral Therapy\"](https://en.wikipedia.org/wiki/Cognitive_behavioral_therapy)),\n",
    "or the standard of care for pharmacotherapy\n",
    "[(an anxiolytic GABA agonist)](https://en.wikipedia.org/wiki/Anxiolytic).\n",
    "As an aside: in actual clinical studies, treatment with a placebo is considered unethical if there's already a standard of care, and a proper clinical trial compares alternative treatments to standard treatments.\n",
    "\n",
    "The results of your experiment are summarized in the table `anxiety_dataset.csv`."
   ]
  },
  {
   "cell_type": "markdown",
   "metadata": {},
   "source": [
    "## Loading the Data"
   ]
  },
  {
   "cell_type": "code",
   "execution_count": null,
   "metadata": {},
   "outputs": [],
   "source": [
    "df = pd.read_csv('./data/anxiety_dataset.csv',index_col=0)\n",
    "\n",
    "data = df.copy()"
   ]
  },
  {
   "cell_type": "code",
   "execution_count": null,
   "metadata": {},
   "outputs": [],
   "source": [
    "data.sample(10)"
   ]
  },
  {
   "cell_type": "markdown",
   "metadata": {},
   "source": [
    "For the independent variables `treatment` and `trauma`, use the pandas `Series` method `unique` to determine the levels and store these in variables called `treatments` and `traumas`."
   ]
  },
  {
   "cell_type": "code",
   "execution_count": null,
   "metadata": {},
   "outputs": [],
   "source": [
    "treatments = data.treatment.unique()\n",
    "traumas = data.trauma.unique()"
   ]
  },
  {
   "cell_type": "markdown",
   "metadata": {},
   "source": [
    "## Visualizing the Data"
   ]
  },
  {
   "cell_type": "markdown",
   "metadata": {},
   "source": [
    "Visualize the data. Aim for a visualization that makes it possible to see any main effects along with the interaction effect you're interested in. Examples include: histograms, factorial plots (make sure to include error bars), and strip/swarm/violin plots.\n",
    "\n",
    "#### Q1 Discuss the connections between visual aspects of your graph and 1) the assumptions of ANOVA and 2) the outcomes you expect."
   ]
  },
  {
   "cell_type": "markdown",
   "metadata": {},
   "source": [
    "### Running ANOVA"
   ]
  },
  {
   "cell_type": "markdown",
   "metadata": {},
   "source": [
    "Because the ANOVA test is, from one perspective, a test of the goodness-of-fit of a linear model, modeling packages provide the tools in Python for performing ANOVAs more complicated than one-way between-subjects.\n",
    "\n",
    "In this course, we'll be using the `statsmodels` package."
   ]
  },
  {
   "cell_type": "code",
   "execution_count": null,
   "metadata": {},
   "outputs": [],
   "source": [
    "import statsmodels.api as sm\n",
    "import statsmodels.formula.api as smf"
   ]
  },
  {
   "cell_type": "markdown",
   "metadata": {},
   "source": [
    "We specify models by describing them with strings that look like:\n",
    "\n",
    "```\n",
    "    \"outcome ~ factor\"\n",
    "```\n",
    "\n",
    "for one-way ANOVAs,\n",
    "\n",
    "```\n",
    "    \"outcome ~ factor1*factor2*...factorN\"\n",
    "```\n",
    "\n",
    "for N-way ANOVAs where we want to compute all main effects and interactions,\n",
    "and\n",
    "\n",
    "```\n",
    "    \"outcome ~ factor1:randomFactor1:randomFactor2:...randomFactorN\"\n",
    "```\n",
    "\n",
    "for ANOVAs with N factors where we're only interested in interactions (e.g., a subject factor)."
   ]
  },
  {
   "cell_type": "code",
   "execution_count": null,
   "metadata": {},
   "outputs": [],
   "source": [
    "ols_lm = smf.ols('anxiety_reduction ~ treatment*trauma', data=df)\n",
    "\n",
    "fit = ols_lm.fit()\n",
    "\n",
    "table = sm.stats.anova_lm(fit, typ=2)\n",
    "\n",
    "table"
   ]
  },
  {
   "cell_type": "markdown",
   "metadata": {},
   "source": [
    "#### Q2 Interpret the pattern of significant and non-significant results that you see. First, phrase your answer as you would write it in the results section of a paper (e.g. using the [APA guidelines](https://depts.washington.edu/psych/files/writing_center/stats.pdf)), then describe the results less formally, as in a research talk."
   ]
  },
  {
   "cell_type": "markdown",
   "metadata": {},
   "source": [
    "Just as we performed an overall $F$-test before doing $t$-tests in a one-way ANOVA, one can also perform an \"omnibus\" $F$-test before performing the individual $F$-tests of a multi-way ANOVA. In this test, we are essentially checking to see whether the model as a whole has a significant between-groups mean-square.\n",
    "\n",
    "Just as the one-way ANOVA allowed us to perform follow-up $t$-tests without worrying as much about multiple comparisons, the omnibus $F$-test lets us perform an ANOVA with many terms without worrying as much about multiple comparisons. The issue of multiple-comparisons in ANOVA and the role of the omnibus test is explored in more detail in the second half of the lab.\n",
    "\n",
    "We can calculate the model's overall between-groups mean-square by adding up the sums of squares for each component of the model and dividing by the sum of the degrees of freedom of each component of the model. Comparing this to the residual mean square gives us an F for which we can compute a p-value.\n",
    "\n",
    "Implement an omnibus test and run it on the results table above. You'll need the `cdf` method of `scipy.stats.f`. Note that the results table contains all the information you need to run an omnibus test."
   ]
  },
  {
   "cell_type": "code",
   "execution_count": null,
   "metadata": {},
   "outputs": [],
   "source": [
    "#scipy.stats.f?"
   ]
  },
  {
   "cell_type": "markdown",
   "metadata": {},
   "source": [
    "Template:\n",
    "\n",
    "```python\n",
    "def compute_p(f_value, dof_b, dof_w):\n",
    "    cdf = scipy.stats.f.cdf\n",
    "    ...\n",
    "    return p\n",
    "\n",
    "def omnibus_test(result):\n",
    "    \n",
    "    # get residual and model sum of squares from result table\n",
    "    \n",
    "    # calculate residual and model degrees of freedom from result table\n",
    "    \n",
    "    # compute explained and unexplained mean squares from the above\n",
    "    \n",
    "    # compute F from explained and unexplained mean squares\n",
    "    \n",
    "    # compute p from F and the degrees of freedom using compute_p\n",
    "\n",
    "    return (F,p)\n",
    "```"
   ]
  },
  {
   "cell_type": "markdown",
   "metadata": {},
   "source": [
    "#### Q3 Is the omnibus test significant? What does this mean?"
   ]
  }
 ],
 "metadata": {
  "anaconda-cloud": {},
  "kernelspec": {
   "display_name": "Python 3",
   "language": "python",
   "name": "python3"
  },
  "language_info": {
   "codemirror_mode": {
    "name": "ipython",
    "version": 3
   },
   "file_extension": ".py",
   "mimetype": "text/x-python",
   "name": "python",
   "nbconvert_exporter": "python",
   "pygments_lexer": "ipython3",
   "version": "3.7.2"
  }
 },
 "nbformat": 4,
 "nbformat_minor": 1
}
