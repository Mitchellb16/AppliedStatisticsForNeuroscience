{
 "cells": [
  {
   "cell_type": "markdown",
   "metadata": {},
   "source": [
    "<img src=\"./img/HWNI_logo.svg\"/>"
   ]
  },
  {
   "cell_type": "markdown",
   "metadata": {},
   "source": [
    "# Lab B - Error Bars"
   ]
  },
  {
   "cell_type": "code",
   "execution_count": null,
   "metadata": {},
   "outputs": [],
   "source": [
    "# makes our plots show up inside Jupyter\n",
    "%matplotlib inline"
   ]
  },
  {
   "cell_type": "code",
   "execution_count": null,
   "metadata": {},
   "outputs": [],
   "source": [
    "import numpy as np\n",
    "import pandas as pd\n",
    "\n",
    "import matplotlib.pyplot as plt\n",
    "import seaborn as sns\n",
    "\n",
    "import util.utils as utils\n",
    "import util.shared as shared\n",
    "\n",
    "shared.format_plots()\n",
    "shared.format_dataframes()"
   ]
  },
  {
   "cell_type": "markdown",
   "metadata": {},
   "source": [
    "In the last section of the previous lab, we looked at confidence intervals, which are one way of expressing our uncertainty about inferences drawn from the data. When we wish to present this uncertainty visually, we use *error bars*. There are many kinds of error bars, each of which tells you something different about the uncertainty in the data being graphed. For a thorough introduction to error bars, check out [this article from Nature Methods](https://www.nature.com/nmeth/journal/v10/n10/full/nmeth.2659.html). If you're unable to access that article behind Nature's paywall, check out [this article from the Berkeley Science Review](http://berkeleysciencereview.com/errorbars-anyway/).\n",
    "\n",
    "Below, we'll generate a dataset containing two groups, one subjected to a treatment and the other left as a control. After looking at the data with histograms, we'll plot the means of the two groups along with the three most prominent different kinds of error bars."
   ]
  },
  {
   "cell_type": "markdown",
   "metadata": {},
   "source": [
    "## Loading and Visualizing the Data"
   ]
  },
  {
   "cell_type": "code",
   "execution_count": null,
   "metadata": {},
   "outputs": [],
   "source": [
    "test_data = utils.generate_dataset2(N=1000)\n",
    "test_data.sample(10)"
   ]
  },
  {
   "cell_type": "markdown",
   "metadata": {},
   "source": [
    "Use seaborn's `distplot` to plot the histograms of the treatment and control groups. The simplest, but least powerful, way to do this is to just use `distplot` twice. Instructions for making this style of plot using the more complex, but more powerful, `FacetGrids` method are in the tutorial on plotting with seaborn.\n",
    "\n",
    "If you go with the first route, you'll need to separate the groups manually with pandas. The template below shows how to do this. There's information on how this works in [the tutorial on pandas](../../Part%2000%20-%20Setup%20and%20Review/00%20-%20Setup/Tech%20Tools%20Tutorial/Tutorial%20C%20-%20Organizing%20Data%20with%20Pandas.ipynb), in the section on *Indexing into DataFrames*."
   ]
  },
  {
   "cell_type": "markdown",
   "metadata": {},
   "source": [
    "Template:\n",
    "```python\n",
    "sns.distplot(test_data.score[test_data.group == 'control'], kde=False)\n",
    "sns.distplot(test_data.score[?], kde=False)\n",
    "```"
   ]
  },
  {
   "cell_type": "markdown",
   "metadata": {},
   "source": [
    "#### Q1 Do these two data distributions seem different to you? Why or why not?"
   ]
  },
  {
   "cell_type": "markdown",
   "metadata": {},
   "source": [
    "## Confidence Interval Error Bars"
   ]
  },
  {
   "cell_type": "markdown",
   "metadata": {},
   "source": [
    "We begin by plotting one of the most common error bars, the \"95% confidence interval\" error bar. \n",
    "\n",
    "#### Q2 What kind of uncertainty this bar indicate? Relatedly, in what situation is this error bar the right kind of error bar to attach to our data?"
   ]
  },
  {
   "cell_type": "code",
   "execution_count": null,
   "metadata": {},
   "outputs": [],
   "source": [
    "sns.barplot(data=test_data, x='group',y='score',\n",
    "            ci=95,\n",
    "            capsize=.1, linewidth=4,\n",
    "            alpha=0.8, edgecolor='white');\n",
    "\n",
    "utils.add_axis_line(plt.gca())"
   ]
  },
  {
   "cell_type": "markdown",
   "metadata": {},
   "source": [
    "For most samples, the two bars don't quite overlap, or overlap by a small amount.\n",
    "\n",
    "#### Q2 Does this mean that the chance that the means are different is more than 95%?"
   ]
  },
  {
   "cell_type": "markdown",
   "metadata": {},
   "source": [
    "## Standard Error of the Mean Error Bars"
   ]
  },
  {
   "cell_type": "markdown",
   "metadata": {},
   "source": [
    "Another common error bar is the \"standard error of the mean\" error bar. \n",
    "\n",
    "#### Q3 What kind of uncertainty does this error bar indicate, and when is it the appropriate error bar to plot?"
   ]
  },
  {
   "cell_type": "code",
   "execution_count": null,
   "metadata": {},
   "outputs": [],
   "source": [
    "sns.barplot(data=test_data, x='group', y='score', \n",
    "            ci=68,\n",
    "            capsize=.1, linewidth=4, alpha=0.8, edgecolor='white');\n",
    "\n",
    "utils.add_axis_line(plt.gca())"
   ]
  },
  {
   "cell_type": "markdown",
   "metadata": {},
   "source": [
    "## Standard Deviation Error Bars"
   ]
  },
  {
   "cell_type": "markdown",
   "metadata": {},
   "source": [
    "Lastly, we have a rather uncommon error bar, the \"standard deviation of the data\" error bar. \n",
    "\n",
    "#### Q4 How is it related to the \"standard error of the mean\" bar? What happens to each as the number of datapoints collected gets larger?"
   ]
  },
  {
   "cell_type": "code",
   "execution_count": null,
   "metadata": {},
   "outputs": [],
   "source": [
    "sns.barplot(data=test_data, x='group', y='score',\n",
    "            ci=\"sd\", \n",
    "            capsize=.1, linewidth=4, alpha=0.8, edgecolor='white');\n",
    "\n",
    "utils.add_axis_line(plt.gca())"
   ]
  },
  {
   "cell_type": "markdown",
   "metadata": {},
   "source": [
    "Some people would consider the two distributions, of the control group scores and the treatment group scores, to be quite similar. \n",
    "\n",
    "#### Q5 Which error bar or bars capture this intuition? Others might consider them to be quite different. Which error bar or bars capture this intuition, and why?"
   ]
  },
  {
   "cell_type": "markdown",
   "metadata": {},
   "source": [
    "Relatedly, let's consider the use of these error bars in decision-making. Let's say our \"treatment\" was a lifestyle change, like cutting a particular food out of your diet, and our \"score\" was a measure of overall mortality -- higher values meaning higher risk of death.\n",
    "\n",
    "#### Q6 Which error bars would a nation's public health official use to decide whether to recommend that the citizens cut that food from their diet? Which error bars might an informed citizen use to decide how important heeding that recommendation is? Can you explain the difference?\n",
    "\n",
    "Hint: imagine I give you one datapoint, which I took from one of the two distributions. Will it be easy to tell which distribution it came from? What about if I gave you one hundred million datapoints, all from the same distribution? Consider that a public health official is making decisions from the perspective of an entire population, while an individual is making decisions from the perspective of a single sample."
   ]
  },
  {
   "cell_type": "markdown",
   "metadata": {},
   "source": [
    "**Challenge Question**: \n",
    "\n",
    "Seaborn plots error bars using a method called *bootstrapping*. Check out MIT Open CourseWare's lecture notes, [*Bootstrapping Confidence Intervals*](https://ocw.mit.edu/courses/mathematics/18-05-introduction-to-probability-and-statistics-spring-2014/readings/MIT18_05S14_Reading24.pdf), to learn more.\n",
    "\n",
    "In fact, the standard error of the mean bars plotted by seaborn are *also* confidence intervals, with the confidence level determined by the keyword argument `ci`. In addition to making it possible to easily plot the confidence interval error bars, this also makes it possible to easily plot the standard error of the mean for datasets of sufficient size, using, as above, a `ci` of 68. \n",
    "\n",
    "#### Can you explain why?"
   ]
  }
 ],
 "metadata": {
  "anaconda-cloud": {},
  "kernelspec": {
   "display_name": "Python 3",
   "language": "python",
   "name": "python3"
  },
  "language_info": {
   "codemirror_mode": {
    "name": "ipython",
    "version": 3
   },
   "file_extension": ".py",
   "mimetype": "text/x-python",
   "name": "python",
   "nbconvert_exporter": "python",
   "pygments_lexer": "ipython3",
   "version": "3.6.7"
  }
 },
 "nbformat": 4,
 "nbformat_minor": 2
}
