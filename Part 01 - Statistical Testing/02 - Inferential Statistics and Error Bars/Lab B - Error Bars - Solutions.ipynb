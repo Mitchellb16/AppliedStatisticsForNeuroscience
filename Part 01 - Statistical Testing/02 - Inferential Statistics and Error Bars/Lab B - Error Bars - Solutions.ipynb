{
 "cells": [
  {
   "cell_type": "markdown",
   "metadata": {},
   "source": [
    "<img src=\"./img/HWNI_logo.svg\"/>"
   ]
  },
  {
   "cell_type": "markdown",
   "metadata": {},
   "source": [
    "# Lab B - Error Bars"
   ]
  },
  {
   "cell_type": "code",
   "execution_count": 1,
   "metadata": {},
   "outputs": [
    {
     "data": {
      "text/html": [
       "<style>/* Originally by Brandon Rhodes, for use with Pandas*/\n",
       "body {\n",
       "    margin: 0;\n",
       "    font-family: Helvetica;\n",
       "}\n",
       "table.dataframe {\n",
       "    border-collapse: collapse;\n",
       "    border: none;\n",
       "}\n",
       "table.dataframe tr {\n",
       "    border: none;\n",
       "}\n",
       "table.dataframe td, table.dataframe th {\n",
       "    margin: 0;\n",
       "    border: 1px solid white;\n",
       "    padding-left: 0.25em;\n",
       "    padding-right: 0.25em;\n",
       "}\n",
       "table.dataframe th:not(:empty) {\n",
       "    background-color: #fec;\n",
       "    text-align: left;\n",
       "    font-weight: normal;\n",
       "}\n",
       "table.dataframe tr:nth-child(2) th:empty {\n",
       "    border-left: none;\n",
       "    border-right: 1px dashed #888;\n",
       "}\n",
       "table.dataframe td {\n",
       "    border: 2px solid #ccf;\n",
       "    background-color: #f4f4ff;\n",
       "}\n",
       "</style>"
      ],
      "text/plain": [
       "<IPython.core.display.HTML object>"
      ]
     },
     "execution_count": 1,
     "metadata": {},
     "output_type": "execute_result"
    }
   ],
   "source": [
    "# makes our plots show up inside Jupyter\n",
    "%matplotlib inline\n",
    "\n",
    "import numpy as np\n",
    "import pandas as pd\n",
    "\n",
    "import matplotlib.pyplot as plt\n",
    "import seaborn as sns\n",
    "\n",
    "import util.utils as utils\n",
    "import util.shared as shared\n",
    "\n",
    "shared.format_plots()\n",
    "shared.format_dataframes()"
   ]
  },
  {
   "cell_type": "markdown",
   "metadata": {},
   "source": [
    "In the last section of the previous lab, we looked at confidence intervals, which are one way of expressing our uncertainty about inferences drawn from the data. When we wish to present this uncertainty visually, we use *error bars*. There are many kinds of error bars, each of which tells you something different about the uncertainty in the data being graphed. For a thorough introduction to error bars, check out [this article from Nature Methods](https://www.nature.com/nmeth/journal/v10/n10/full/nmeth.2659.html). If you're unable to access that article behind Nature's paywall, check out [this article from the Berkeley Science Review](http://berkeleysciencereview.com/errorbars-anyway/).\n",
    "\n",
    "Below, we'll generate a dataset containing two groups, one subjected to a treatment and the other left as a control. After looking at the data with histograms, we'll plot the means of the two groups along with the three most prominent different kinds of error bars."
   ]
  },
  {
   "cell_type": "markdown",
   "metadata": {},
   "source": [
    "## Loading and Visualizing the Data"
   ]
  },
  {
   "cell_type": "code",
   "execution_count": 2,
   "metadata": {},
   "outputs": [
    {
     "data": {
      "text/html": [
       "<div>\n",
       "<style scoped>\n",
       "    .dataframe tbody tr th:only-of-type {\n",
       "        vertical-align: middle;\n",
       "    }\n",
       "\n",
       "    .dataframe tbody tr th {\n",
       "        vertical-align: top;\n",
       "    }\n",
       "\n",
       "    .dataframe thead th {\n",
       "        text-align: right;\n",
       "    }\n",
       "</style>\n",
       "<table border=\"1\" class=\"dataframe\">\n",
       "  <thead>\n",
       "    <tr style=\"text-align: right;\">\n",
       "      <th></th>\n",
       "      <th>group</th>\n",
       "      <th>score</th>\n",
       "    </tr>\n",
       "  </thead>\n",
       "  <tbody>\n",
       "    <tr>\n",
       "      <th>132</th>\n",
       "      <td>control</td>\n",
       "      <td>-0.250196</td>\n",
       "    </tr>\n",
       "    <tr>\n",
       "      <th>990</th>\n",
       "      <td>control</td>\n",
       "      <td>1.767078</td>\n",
       "    </tr>\n",
       "    <tr>\n",
       "      <th>1873</th>\n",
       "      <td>treatment</td>\n",
       "      <td>-1.832106</td>\n",
       "    </tr>\n",
       "    <tr>\n",
       "      <th>1956</th>\n",
       "      <td>treatment</td>\n",
       "      <td>-1.452955</td>\n",
       "    </tr>\n",
       "    <tr>\n",
       "      <th>1129</th>\n",
       "      <td>treatment</td>\n",
       "      <td>0.940213</td>\n",
       "    </tr>\n",
       "    <tr>\n",
       "      <th>1265</th>\n",
       "      <td>treatment</td>\n",
       "      <td>1.507082</td>\n",
       "    </tr>\n",
       "    <tr>\n",
       "      <th>1114</th>\n",
       "      <td>treatment</td>\n",
       "      <td>1.509679</td>\n",
       "    </tr>\n",
       "    <tr>\n",
       "      <th>1405</th>\n",
       "      <td>treatment</td>\n",
       "      <td>-1.744007</td>\n",
       "    </tr>\n",
       "    <tr>\n",
       "      <th>730</th>\n",
       "      <td>control</td>\n",
       "      <td>-1.294549</td>\n",
       "    </tr>\n",
       "    <tr>\n",
       "      <th>482</th>\n",
       "      <td>control</td>\n",
       "      <td>-1.062470</td>\n",
       "    </tr>\n",
       "  </tbody>\n",
       "</table>\n",
       "</div>"
      ],
      "text/plain": [
       "          group     score\n",
       "132     control -0.250196\n",
       "990     control  1.767078\n",
       "1873  treatment -1.832106\n",
       "1956  treatment -1.452955\n",
       "1129  treatment  0.940213\n",
       "1265  treatment  1.507082\n",
       "1114  treatment  1.509679\n",
       "1405  treatment -1.744007\n",
       "730     control -1.294549\n",
       "482     control -1.062470"
      ]
     },
     "execution_count": 2,
     "metadata": {},
     "output_type": "execute_result"
    }
   ],
   "source": [
    "test_data = utils.generate_dataset2(N=1000)\n",
    "test_data.sample(10)"
   ]
  },
  {
   "cell_type": "markdown",
   "metadata": {},
   "source": [
    "Use seaborn's `distplot` to plot the histograms of the treatment and control groups. The simplest, but least powerful, way to do this is to just use `distplot` twice. Instructions for making this style of plot using the more complex, but more powerful, `FacetGrids` method are in the tutorial on plotting with seaborn.\n",
    "\n",
    "If you go with the first route, you'll need to separate the groups manually with pandas. The template below shows how to do this. There's information on how this works in [the tutorial on pandas](../../Part 00 - Setup and Review/00 - Setup/Tech Tools Tutorial/Tutorial C - Organizing Data with Pandas.ipynb), in the section on *Indexing into DataFrames*."
   ]
  },
  {
   "cell_type": "markdown",
   "metadata": {},
   "source": [
    "Template:\n",
    "```python\n",
    "sns.distplot(test_data.score[test_data.group == 'control'], kde=False)\n",
    "sns.distplot(test_data.score[?], kde=False)\n",
    "```"
   ]
  },
  {
   "cell_type": "code",
   "execution_count": 3,
   "metadata": {},
   "outputs": [
    {
     "data": {
      "image/png": "[encoded data removed]",
      "text/plain": [
       "<matplotlib.figure.Figure at 0x1a16dedcc0>"
      ]
     },
     "metadata": {},
     "output_type": "display_data"
    }
   ],
   "source": [
    "# answer\n",
    "## check out this function, in util/utils.py for the more general approach\n",
    "#utils.plot_groups(test_data,x=\"score\",by=\"group\");\n",
    "\n",
    "sns.distplot(test_data.score[test_data.group == 'control'], kde = False);\n",
    "sns.distplot(test_data.score[test_data.group == 'treatment'], kde = False);"
   ]
  },
  {
   "cell_type": "markdown",
   "metadata": {},
   "source": [
    "#### Q1 Do these two data distributions seem different to you? Why or why not?"
   ]
  },
  {
   "cell_type": "markdown",
   "metadata": {},
   "source": [
    "<font color='#1874CD'> ** There's no right answer here. They are very similar indeed, but there are some slight differences that become especially obvious if you increase N. **"
   ]
  },
  {
   "cell_type": "markdown",
   "metadata": {},
   "source": [
    "## Confidence Interval Error Bars"
   ]
  },
  {
   "cell_type": "markdown",
   "metadata": {},
   "source": [
    "We begin by plotting one of the most common error bars, the \"95% confidence interval\" error bar. \n",
    "\n",
    "#### Q2 What kind of uncertainty this bar indicate? Relatedly, in what situation is this error bar the right kind of error bar to attach to our data?"
   ]
  },
  {
   "cell_type": "markdown",
   "metadata": {},
   "source": [
    "<font color='#1874CD'> ** It reflects our uncertainty about the location of the mean. It's best for indicating whether a difference in means is likely due to chance or not.**"
   ]
  },
  {
   "cell_type": "code",
   "execution_count": 4,
   "metadata": {},
   "outputs": [
    {
     "data": {
      "image/png": "[encoded data removed]",
      "text/plain": [
       "<matplotlib.figure.Figure at 0x1a16d17da0>"
      ]
     },
     "metadata": {},
     "output_type": "display_data"
    }
   ],
   "source": [
    "sns.barplot(data=test_data, x='group',y='score',\n",
    "            ci=95,\n",
    "            capsize=.1, linewidth=4,\n",
    "            alpha=0.8, edgecolor='white');\n",
    "\n",
    "utils.add_axis_line(plt.gca())"
   ]
  },
  {
   "cell_type": "markdown",
   "metadata": {},
   "source": [
    "For most samples, the two bars overlap a small amount.\n",
    "\n",
    "#### Q2 Does this mean that the chance that the means are different is more than 95%?"
   ]
  },
  {
   "cell_type": "markdown",
   "metadata": {},
   "source": [
    "<font color='#1874CD'>  ** No. In fact, if the bars were just touching, the chance that the means are different is much higher than 95%! **"
   ]
  },
  {
   "cell_type": "markdown",
   "metadata": {},
   "source": [
    "## Standard Error of the Mean Error Bars"
   ]
  },
  {
   "cell_type": "markdown",
   "metadata": {},
   "source": [
    "Another common error bar is the \"standard error of the mean\" error bar. \n",
    "\n",
    "#### Q3 What kind of uncertainty does this error bar indicate, and when is it the appropriate error bar to plot?"
   ]
  },
  {
   "cell_type": "markdown",
   "metadata": {},
   "source": [
    "<font color='#1874CD'>  ** It shows the estimated standard deviation of the sampling distribution of the mean. For datasets whose means have a Gaussian sampling distribution and whose standard deviation is known, this corresponds to a 68% confidence interval. If the standard deviation is not known but is intead estimated from the data, as is usually the case, then the level of confidence is lower, but approaches 68% as the sample size goes up. There are very few situations in which this error bar is appropriate, as the standard deviation of the sampling distribution isn't very useful on its own, especially as a visual cue. **"
   ]
  },
  {
   "cell_type": "code",
   "execution_count": 5,
   "metadata": {},
   "outputs": [
    {
     "data": {
      "image/png": "[encoded data removed]",
      "text/plain": [
       "<matplotlib.figure.Figure at 0x1a1f023b38>"
      ]
     },
     "metadata": {},
     "output_type": "display_data"
    }
   ],
   "source": [
    "sns.barplot(data=test_data, x='group', y='score', \n",
    "            ci=68,\n",
    "            capsize=.1, linewidth=4, alpha=0.8, edgecolor='white');\n",
    "\n",
    "utils.add_axis_line(plt.gca())"
   ]
  },
  {
   "cell_type": "markdown",
   "metadata": {},
   "source": [
    "## Standard Deviation Error Bars"
   ]
  },
  {
   "cell_type": "markdown",
   "metadata": {},
   "source": [
    "Lastly, we have a rather uncommon error bar, the \"standard deviation of the data\" error bar. \n",
    "\n",
    "#### Q4 How is it related to the \"standard error of the mean\" bar? What happens to each as the number of datapoints collected gets larger?"
   ]
  },
  {
   "cell_type": "markdown",
   "metadata": {},
   "source": [
    "<font color='#1874CD'>  ** The standard deviation of the dataset is an estimator of the standard deviation of the population. The SEM is equal to the standard deviation divided by the square root of the size of the dataset, and it is the standard deviation of a sampling distribution, that of the mean.  While the standard error gets smaller as the size of the dataset gets bigger, the standard deviation does not -- it instead converges to the true value. **"
   ]
  },
  {
   "cell_type": "code",
   "execution_count": 6,
   "metadata": {},
   "outputs": [
    {
     "data": {
      "image/png": "[encoded data removed]",
      "text/plain": [
       "<matplotlib.figure.Figure at 0x1a1f0e1550>"
      ]
     },
     "metadata": {},
     "output_type": "display_data"
    }
   ],
   "source": [
    "sns.barplot(data=test_data, x='group', y='score',\n",
    "            ci=\"sd\", \n",
    "            capsize=.1, linewidth=4, alpha=0.8, edgecolor='white');\n",
    "\n",
    "utils.add_axis_line(plt.gca())"
   ]
  },
  {
   "cell_type": "markdown",
   "metadata": {},
   "source": [
    "Some people would consider the two distributions, of the control group scores and the treatment group scores, to be quite similar. \n",
    "\n",
    "#### Q5 Which error bar or bars capture this intuition? Others might consider them to be quite different. Which error bar or bars capture this intuition, and why?"
   ]
  },
  {
   "cell_type": "markdown",
   "metadata": {},
   "source": [
    "<font color='#1874CD'> ** Those who consider the distributions similar would point to the standard deviation bars, which show that the datasets overlap substantially. Those who consider the distributions different would point to either the standard error of the mean bars, or, more reliably, the confidence interval bars, and note that the difference is not one you would expect to see by chance. **\n",
    "\n",
    "** This difference in deciding whether a difference between distributions is important or notable is a contrast of the definitions of \"scientific\" or \"practical\" significance versus the definition of significance as \"statistical\". We'll cover this more in later sections. **"
   ]
  },
  {
   "cell_type": "markdown",
   "metadata": {},
   "source": [
    "Relatedly, let's consider the use of these error bars in decision-making. Let's say our \"treatment\" was a lifestyle change, like cutting a particular food out of your diet, and our \"score\" was a measure of overall mortality -- higher values meaning higher risk of death.\n",
    "\n",
    "#### Q6 Which error bars would a nation's public health official use to decide whether to recommend that the citizens cut that food from their diet? Which error bars might an informed citizen use to decide how important heeding that recommendation is? Can you explain the difference?\n",
    "\n",
    "Hint: imagine I give you one datapoint, which I took from one of the two distributions. Will it be easy to tell which distribution it came from? What about if I gave you one hundred million datapoints, all from the same distribution? Consider that a public health official is making decisions from the perspective of an entire population, while an individual is making decisions from the perspective of a single sample."
   ]
  },
  {
   "cell_type": "markdown",
   "metadata": {},
   "source": [
    "<font color='#1874CD'> ** A public health official cares very deeply about even small effects -- when applied to a large population, their aggregate effect is substantial. Put another way, even if an effect is only reliably detectable in large datasets, it's relevant for public health. A confidence interval from a large dataset tells you exactly whether an effect was detected in a large population.**\n",
    "\n",
    "** An individual, however, only lives one life, not several million, so far as we can tell. If the difference caused by a lifestyle change is so small that it takes the observation of thousands of individuals to detect, it may be not worth the effort, from the individual's perspective.**"
   ]
  },
  {
   "cell_type": "markdown",
   "metadata": {},
   "source": [
    "** Challenge Question**: \n",
    "\n",
    "Seaborn plots error bars using a method called *bootstrapping*. Check out MIT Open CourseWare's lecture notes, [*Bootstrapping Confidence Intervals*](https://ocw.mit.edu/courses/mathematics/18-05-introduction-to-probability-and-statistics-spring-2014/readings/MIT18_05S14_Reading24.pdf), to learn more.\n",
    "\n",
    "In fact, the standard error of the mean bars plotted by seaborn are *also* confidence intervals, with the confidence level determined by the keyword argument `ci`. In addition to making it possible to easily plot the confidence interval error bars, this also makes it possible to easily plot the standard error of the mean for datasets of sufficient size, using, as above, a `ci` of 68. \n",
    "\n",
    "#### Can you explain why?"
   ]
  },
  {
   "cell_type": "markdown",
   "metadata": {},
   "source": [
    "<font color='#1874CD'>\n",
    "** The ± one SEM interval around the mean is, for data with a Gaussian sampling distribution, also approximately a 68% confidence interval.**"
   ]
  }
 ],
 "metadata": {
  "anaconda-cloud": {},
  "kernelspec": {
   "display_name": "neur299",
   "language": "python",
   "name": "neur299"
  },
  "language_info": {
   "codemirror_mode": {
    "name": "ipython",
    "version": 3
   },
   "file_extension": ".py",
   "mimetype": "text/x-python",
   "name": "python",
   "nbconvert_exporter": "python",
   "pygments_lexer": "ipython3",
   "version": "3.6.4"
  }
 },
 "nbformat": 4,
 "nbformat_minor": 2
}
