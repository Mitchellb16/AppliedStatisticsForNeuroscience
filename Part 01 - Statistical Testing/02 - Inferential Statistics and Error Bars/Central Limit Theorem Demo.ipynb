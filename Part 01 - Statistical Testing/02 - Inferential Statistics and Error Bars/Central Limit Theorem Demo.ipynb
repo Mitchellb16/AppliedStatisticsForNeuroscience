{
 "cells": [
  {
   "cell_type": "markdown",
   "metadata": {},
   "source": [
    "<img src=\"./img/HWNI_logo.svg\"/>"
   ]
  },
  {
   "cell_type": "markdown",
   "metadata": {},
   "source": [
    "# Demo - Central Limit Theorem"
   ]
  },
  {
   "cell_type": "markdown",
   "metadata": {},
   "source": [
    "This demo let's you see the Central Limit Theorem in action on a variety of probability mass functions (PMFs).\n",
    "\n",
    "The PMFs suggested below are a good place to start, but you can use any PMF that works on numbers from 0 on up. In order to get the labelling right and avoid errors, your PMF should be written as a list, where `PMF[x]` gives the probability of `x`. Note that this means you need to start at 0, even if that probability is 0."
   ]
  },
  {
   "cell_type": "code",
   "execution_count": null,
   "metadata": {},
   "outputs": [],
   "source": [
    "import matplotlib.pyplot as plt\n",
    "import numpy as np\n",
    "\n",
    "%matplotlib notebook\n",
    "\n",
    "import seaborn as sns\n",
    "\n",
    "sns.set(color_codes=True)\n",
    "sns.set_style(\"dark\")\n",
    "\n",
    "import util.demo as utils"
   ]
  },
  {
   "cell_type": "markdown",
   "metadata": {},
   "source": [
    "## Suggested PMFs"
   ]
  },
  {
   "cell_type": "code",
   "execution_count": null,
   "metadata": {},
   "outputs": [],
   "source": [
    "coin_flip = [0.5,0.5] # heads, tails. \"adding up\" means counting how many tails you get\n",
    "d6_roll = [0]+[1/6]*6 # a six-sided die.\n",
    "d20_roll = [0]+[1/20]*20 # roll for initiative!\n",
    "wonky_PMF = [1/2, 1/4, 0, 0, 0, 2/8] # even very uneven distributions work"
   ]
  },
  {
   "cell_type": "markdown",
   "metadata": {},
   "source": [
    "## Demo"
   ]
  },
  {
   "cell_type": "code",
   "execution_count": null,
   "metadata": {},
   "outputs": [],
   "source": [
    "utils.central_limit_demo(coin_flip, 5)"
   ]
  }
 ],
 "metadata": {
  "anaconda-cloud": {},
  "kernelspec": {
   "display_name": "neur299",
   "language": "python",
   "name": "neur299"
  },
  "language_info": {
   "codemirror_mode": {
    "name": "ipython",
    "version": 3
   },
   "file_extension": ".py",
   "mimetype": "text/x-python",
   "name": "python",
   "nbconvert_exporter": "python",
   "pygments_lexer": "ipython3",
   "version": "3.6.4"
  }
 },
 "nbformat": 4,
 "nbformat_minor": 1
}
