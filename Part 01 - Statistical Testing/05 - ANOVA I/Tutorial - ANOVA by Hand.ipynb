{
 "cells": [
  {
   "cell_type": "markdown",
   "metadata": {},
   "source": [
    "<img src=\"./img/HWNI_logo.svg\"/>"
   ]
  },
  {
   "cell_type": "markdown",
   "metadata": {},
   "source": [
    "# Tutorial - ANOVA by Hand"
   ]
  },
  {
   "cell_type": "code",
   "execution_count": 1,
   "metadata": {},
   "outputs": [
    {
     "data": {
      "text/html": [
       "<style>/* Originally by Brandon Rhodes, for use with Pandas*/\n",
       "body {\n",
       "    margin: 0;\n",
       "    font-family: Helvetica;\n",
       "}\n",
       "table.dataframe {\n",
       "    border-collapse: collapse;\n",
       "    border: none;\n",
       "}\n",
       "table.dataframe tr {\n",
       "    border: none;\n",
       "}\n",
       "table.dataframe td, table.dataframe th {\n",
       "    margin: 0;\n",
       "    border: 1px solid white;\n",
       "    padding-left: 0.25em;\n",
       "    padding-right: 0.25em;\n",
       "}\n",
       "table.dataframe th:not(:empty) {\n",
       "    background-color: #fec;\n",
       "    text-align: left;\n",
       "    font-weight: normal;\n",
       "}\n",
       "table.dataframe tr:nth-child(2) th:empty {\n",
       "    border-left: none;\n",
       "    border-right: 1px dashed #888;\n",
       "}\n",
       "table.dataframe td {\n",
       "    border: 2px solid #ccf;\n",
       "    background-color: #f4f4ff;\n",
       "}\n",
       "</style>"
      ],
      "text/plain": [
       "<IPython.core.display.HTML object>"
      ]
     },
     "execution_count": 1,
     "metadata": {},
     "output_type": "execute_result"
    }
   ],
   "source": [
    "# makes our plots show up inside Jupyter\n",
    "%matplotlib inline\n",
    "\n",
    "import numpy as np\n",
    "import pandas as pd\n",
    "\n",
    "import matplotlib.pyplot as plt\n",
    "import seaborn as sns\n",
    "\n",
    "import scipy.stats\n",
    "\n",
    "import util.utils as utils\n",
    "import util.shared as shared\n",
    "\n",
    "shared.format_plots()\n",
    "shared.format_dataframes()"
   ]
  },
  {
   "cell_type": "markdown",
   "metadata": {},
   "source": [
    "In this tutorial, we will learn about the\n",
    "[ANalysis Of VAriance](https://en.wikipedia.org/wiki/Analysis_of_variance)\n",
    "model by walking through a by-hand implementation of it\n",
    "in its simplest form:\n",
    "the one-way ANOVA.\n",
    "\n",
    "In all of its forms,\n",
    "ANOVA works by \"partitioning\" the variance in an observation\n",
    "into different components.\n",
    "According to our null hypothesis,\n",
    "most partitions of the data don't reduce the variance very much,\n",
    "so if,\n",
    "once we've partitioned data according to the factors we're interested in,\n",
    "the variance is greatly decreased,\n",
    "then something unlikely has occurred under our null hypothesis\n",
    "and we may have found an effect.\n",
    "\n",
    "Below, we make these statements rigorous on a toy dataset\n",
    "and then apply a one-way ANOVA to a real neuroscience dataset."
   ]
  },
  {
   "cell_type": "markdown",
   "metadata": {},
   "source": [
    "# Introducing Analysis of Variance"
   ]
  },
  {
   "cell_type": "markdown",
   "metadata": {},
   "source": [
    "Following Wikipedia's\n",
    "[motivating example](https://en.wikipedia.org/wiki/Analysis_of_variance#Motivating_example),\n",
    "we consider what might happen if we were to gather some data\n",
    "about a collection of dogs.\n",
    "\n",
    "This collection of dogs has two breeds,\n",
    "each of which comes in a long-haired and a short-haired variety.\n",
    "We measure the weight of each dog,\n",
    "taking care to note its breed and hair length,\n",
    "and organize that information into a dataframe."
   ]
  },
  {
   "cell_type": "code",
   "execution_count": 2,
   "metadata": {},
   "outputs": [
    {
     "data": {
      "text/html": [
       "<div>\n",
       "<style>\n",
       "    .dataframe thead tr:only-child th {\n",
       "        text-align: right;\n",
       "    }\n",
       "\n",
       "    .dataframe thead th {\n",
       "        text-align: left;\n",
       "    }\n",
       "\n",
       "    .dataframe tbody tr th {\n",
       "        vertical-align: top;\n",
       "    }\n",
       "</style>\n",
       "<table border=\"1\" class=\"dataframe\">\n",
       "  <thead>\n",
       "    <tr style=\"text-align: right;\">\n",
       "      <th></th>\n",
       "      <th>breed</th>\n",
       "      <th>weight</th>\n",
       "      <th>hair_length</th>\n",
       "    </tr>\n",
       "  </thead>\n",
       "  <tbody>\n",
       "    <tr>\n",
       "      <th>147</th>\n",
       "      <td>1</td>\n",
       "      <td>15.685661</td>\n",
       "      <td>0</td>\n",
       "    </tr>\n",
       "    <tr>\n",
       "      <th>142</th>\n",
       "      <td>1</td>\n",
       "      <td>16.312708</td>\n",
       "      <td>1</td>\n",
       "    </tr>\n",
       "    <tr>\n",
       "      <th>58</th>\n",
       "      <td>0</td>\n",
       "      <td>9.411230</td>\n",
       "      <td>1</td>\n",
       "    </tr>\n",
       "    <tr>\n",
       "      <th>74</th>\n",
       "      <td>0</td>\n",
       "      <td>10.865227</td>\n",
       "      <td>0</td>\n",
       "    </tr>\n",
       "    <tr>\n",
       "      <th>11</th>\n",
       "      <td>0</td>\n",
       "      <td>11.277450</td>\n",
       "      <td>0</td>\n",
       "    </tr>\n",
       "  </tbody>\n",
       "</table>\n",
       "</div>"
      ],
      "text/plain": [
       "     breed     weight  hair_length\n",
       "147      1  15.685661            0\n",
       "142      1  16.312708            1\n",
       "58       0   9.411230            1\n",
       "74       0  10.865227            0\n",
       "11       0  11.277450            0"
      ]
     },
     "execution_count": 2,
     "metadata": {},
     "output_type": "execute_result"
    }
   ],
   "source": [
    "N = 75\n",
    "\n",
    "dogs = utils.produce_dog_dataframe(N, weight_effect = 6)\n",
    "dogs.sample(5)"
   ]
  },
  {
   "cell_type": "markdown",
   "metadata": {},
   "source": [
    "As always,\n",
    "we begin by visualizing our data.\n",
    "Here, we choose a histogram.\n",
    "We also calculate a summary statistic --\n",
    "since we'll need it later,\n",
    "we look at the variance,\n",
    "or mean squared difference from the mean."
   ]
  },
  {
   "cell_type": "code",
   "execution_count": 3,
   "metadata": {},
   "outputs": [
    {
     "name": "stdout",
     "output_type": "stream",
     "text": [
      "For all observations, mean squared difference is 9.12\n"
     ]
    },
    {
     "data": {
      "image/png": "[encoded data removed]",
      "text/plain": [
       "<matplotlib.figure.Figure at 0x111e54630>"
      ]
     },
     "metadata": {},
     "output_type": "display_data"
    }
   ],
   "source": [
    "utils.plot_data(dogs, \"weight\")"
   ]
  },
  {
   "cell_type": "markdown",
   "metadata": {},
   "source": [
    "It appears that,\n",
    "as far as weight is concerned,\n",
    "there are only two kinds of dogs,\n",
    "not four:\n",
    "the histogram has two \"clusters\"\n",
    "and the kernel density estimate has two peaks.\n",
    "\n",
    "Intuitively,\n",
    "we might guess that breed is more likely\n",
    "to have a large effect on weight\n",
    "than is hair length.\n",
    "\n",
    "To determine whether this is the case,\n",
    "we split our data up,\n",
    "first by breed and then by hair length,\n",
    "and make the same plots as before.\n",
    "In addition to calculating the overall mean squared difference,\n",
    "we calculate the mean squared difference within each group\n",
    "and the mean squared difference of the group means from the overall mean."
   ]
  },
  {
   "cell_type": "code",
   "execution_count": 4,
   "metadata": {},
   "outputs": [
    {
     "name": "stdout",
     "output_type": "stream",
     "text": [
      "For all data, mean squared difference is 9.12\n"
     ]
    },
    {
     "name": "stdout",
     "output_type": "stream",
     "text": [
      "For Breed 0, mean squared difference is 0.64\n",
      "For Breed 1, mean squared difference is 0.89\n",
      "For group means, mean squared difference is 8.36\n"
     ]
    },
    {
     "data": {
      "image/png": "[encoded data removed]",
      "text/plain": [
       "<matplotlib.figure.Figure at 0x1a1e79d9b0>"
      ]
     },
     "metadata": {},
     "output_type": "display_data"
    }
   ],
   "source": [
    "utils.plot_partition(dogs, \"breed\", \"weight\" )"
   ]
  },
  {
   "cell_type": "code",
   "execution_count": 5,
   "metadata": {},
   "outputs": [
    {
     "name": "stdout",
     "output_type": "stream",
     "text": [
      "For all data, mean squared difference is 9.12\n",
      "For Hair Length 0, mean squared difference is 9.07\n",
      "For Hair Length 1, mean squared difference is 9.09\n",
      "For group means, mean squared difference is 0.04\n"
     ]
    },
    {
     "data": {
      "image/png": "[encoded data removed]",
      "text/plain": [
       "<matplotlib.figure.Figure at 0x1a1e7e1a58>"
      ]
     },
     "metadata": {},
     "output_type": "display_data"
    }
   ],
   "source": [
    "utils.plot_partition(dogs, \"hair_length\", \"weight\" )"
   ]
  },
  {
   "cell_type": "markdown",
   "metadata": {},
   "source": [
    "Color indicates from which group\n",
    "the data in the plot was drawn.\n",
    "\n",
    "Notice how much less\n",
    "\"spread out\"\n",
    "the data in the groups based on breed is\n",
    "than the data in groups based on hair length is?\n",
    "Notice also how much further apart the means\n",
    "of the two breeds are,\n",
    "and how much further they are from the\n",
    "mean of the weights of all of the dogs?\n",
    "\n",
    "We can quantify this \"spread\",\n",
    "as usual, using the variance,\n",
    "or the mean squared difference\n",
    "from the mean.\n",
    "\n",
    "Though the exact values are random,\n",
    "we in general see that the variance in the groups based on breed\n",
    "is substantially smaller than the original variance,\n",
    "while the variance in the groups based on hair length\n",
    "is around the same size.\n",
    "Additionally,\n",
    "we see that the mean squared difference of the group means\n",
    "from *their* mean, which is the mean weight of all dogs,\n",
    "is much larger when we group by breed than when we group by hair length.\n",
    "\n",
    "You can also vary how much of an effect the breed has on weight\n",
    "by changing the value of the `weight_effect`\n",
    "argument to `produce_dog_dataframe`.\n",
    "Try some different effect sizes\n",
    "and see if you can predict the changes in spread."
   ]
  },
  {
   "cell_type": "markdown",
   "metadata": {},
   "source": [
    "This is the idea at the core of ANOVA:\n",
    "if group membership has a strong effect on an observed variable,\n",
    "then splitting the data up by group should\n",
    "reduce the variance substantially,\n",
    "while the mean squared difference of the groups should go up.\n",
    "This isn't true of every possible way that an observed variable might\n",
    "depend on group membership, but it is true in many cases,\n",
    "as described below in \"When to Use ANOVA\".\n",
    "\n",
    "What does it mean to reduce the variance \"substantially\"?\n",
    "We define \"substantially\" as\n",
    "\"more than when splitting the data up by a labeling unrelated to the observation\".\n",
    "For the data above, our unrelated labeling was the hair length.\n",
    "We can, however, also create random labels and use those.\n",
    "\n",
    "We firm up this intuition with the section below on the\n",
    "data model underlying ANOVA."
   ]
  },
  {
   "cell_type": "markdown",
   "metadata": {},
   "source": [
    "## The Implicit Model in ANOVA\n",
    "\n",
    "When we use a one-way ANOVA to model our data,\n",
    "we are implicitly choosing to model the dependent variable\n",
    "as the sum of three things:\n",
    "1. the **grand mean**,\n",
    "or the average value of all observations,\n",
    "1. the **group effect**, or the change in the average value due to being in that group,\n",
    "which is the difference between that grand mean and the average of observations in a particular group,\n",
    "1. and the sum of any **unknown effects**,\n",
    "or changes to the observed variable due to things we didn't measure,\n",
    "which is just the difference between the sum of the first two terms and the value that was observed.\n",
    "\n",
    "Below, we take this English-language description and convert it into math."
   ]
  },
  {
   "cell_type": "markdown",
   "metadata": {},
   "source": [
    "$$\\begin{align}\n",
    "    &\\text{Observation}\\ j\\ \\text{in Group}\\ i\\ &= \\ &\\text{Grand Mean}\\ &+\\ &\\text{Group Effect}_i\\ &+ \\ &\\text{Unknown Effects}_{ij} \\\\\n",
    "    &Y_{ij} &= \\ &\\mu_\\text{grand} \\ &+\\ &A_i\\ &+ \\ &\\epsilon_{ij}\n",
    "\\end{align}$$"
   ]
  },
  {
   "cell_type": "markdown",
   "metadata": {},
   "source": [
    "where the variable $A$ is the independent variable, the index $i$ indicates which group or level of this variable the individual was in and the index $j$ tells us which individual within the group they were.\n",
    "\n",
    "In our dog example, $A$ would be either \"hair length\" or \"breed\" and $i$ would be the index, $0$ or $1$, for the groups within those variables. $j$ would index dogs within a group. To pick out a particular dog, we need both which group it's in, $i$, and which dog in that group it is, $j$.\n",
    "\n",
    "This notation may seem like over-kill, but it will be necessary for more complicated ANOVAs."
   ]
  },
  {
   "cell_type": "markdown",
   "metadata": {},
   "source": [
    "## The ANOVA Statistical Test"
   ]
  },
  {
   "cell_type": "markdown",
   "metadata": {},
   "source": [
    "As established above,\n",
    "we'd like to break our data into groups and then calculate\n",
    "the variance in each group.\n",
    "We'd like this to be small\n",
    "and we'd like the differences between groups to be large.\n",
    "\n",
    "The appropriate statistic is a ratio of the variance of the group effects\n",
    "to the variance of the unknown effects.\n",
    "This statistic is called the\n",
    "$F$-statistic,\n",
    "named in honor of its inventor,\n",
    "[Sir Ronald Fisher](https://en.wikipedia.org/wiki/Ronald_Fisher).\n",
    "\n",
    "Large values of $F$ are unlikely under the null hypothesis\n",
    "that the true size of the group effect is $0$."
   ]
  },
  {
   "cell_type": "markdown",
   "metadata": {},
   "source": [
    "To make this model tractable,\n",
    "we have to assume something about these \"unknown effects\".\n",
    "Into this category we lump everything that we did not measure,\n",
    "everything that does not correspond to a group in our study,\n",
    "but which can conceivably impact the observed value.\n",
    "Appealing to the\n",
    "[Central Limit Theorem](https://www.khanacademy.org/math/statistics-probability/sampling-distributions-library/sample-means/v/central-limit-theorem),\n",
    "we say that the things we aren't measuring are\n",
    "independent from each other and our groups,\n",
    "large in number,\n",
    "and individually have small effects on our observed variable,\n",
    "and therefore the distribution of their impacts on the observed variable\n",
    "is a Gaussian."
   ]
  },
  {
   "cell_type": "markdown",
   "metadata": {},
   "source": [
    "## When to Use ANOVA"
   ]
  },
  {
   "cell_type": "markdown",
   "metadata": {},
   "source": [
    "The discussion above,\n",
    "full of comparisons of means to baselines\n",
    "and calculations of variances as yardsticks\n",
    "reminds us of the $t$-test.\n",
    "\n",
    "And indeed, the $t$-test is a particularly simple one-way ANOVA,\n",
    "with only two groups.\n",
    "Running the $t$-test on our dog-breeds data\n",
    "would give the same result as running an ANOVA.\n",
    "\n",
    "One might then imagine that we don't need an ANOVA:\n",
    "we simply use the $t$-test for data from each group\n",
    "versus the rest of the data.\n",
    "\n",
    "However, in the case that we have more than two groups\n",
    "(more than two dog breeds)\n",
    "this requires us to perform multiple hypothesis tests.\n",
    "Each time we perform a hypothesis test,\n",
    "there is a chance of a false positive.\n",
    "As we perform more and more hypothesis tests,\n",
    "the chance that at least one of them fails goes up very quickly.\n",
    "This chance is called the *familywise error rate*,\n",
    "since its the rate at which an entire family of tests has an error.\n",
    "Issues with rising familywise error rates are called issues of *multiple comparisons*,\n",
    "since they arise from comparing multiple test statistics to their critical values.\n",
    "\n",
    "The utility of ANOVA comes from the fact that it lets us test\n",
    "the hypothesis that the mean of at least one\n",
    "of the levels of the variable we are using\n",
    "to group our observations\n",
    "is different from the overall mean\n",
    "without specifying which level it is.\n",
    "\n",
    "Once we've verified that this over-all null hypothesis is false,\n",
    "we can more confidently perform additional $t$-tests\n",
    "to narrow down just which level is different.\n",
    "\n",
    "This approach works well to control familywise error rates\n",
    "for the simple experiments we are analyzing in this section.\n",
    "For more complex experiments,\n",
    "which require more complex ANOVAs,\n",
    "multiple comparison issues can still arise.\n",
    "We will cover these issues in more depth\n",
    "in the second ANOVA section,\n",
    "when we cover multi-way ANOVAs."
   ]
  },
  {
   "cell_type": "markdown",
   "metadata": {},
   "source": [
    "## When Not to Use ANOVA"
   ]
  },
  {
   "cell_type": "markdown",
   "metadata": {},
   "source": [
    "Our assumption about the distribution of the unobserved effects is frequently incorrect:\n",
    "for example,\n",
    "whether the participant is hungover or not\n",
    "can have a very strong impact on their performance and\n",
    "it is not independent of the age variable.\n",
    "When we have rare effects that cause big changes in the observed value,\n",
    "the result is *outliers*.\n",
    "ANOVA is not robust to violations of the assumption\n",
    "that there are no outliers,\n",
    "but we won't be discussing alternatives in this course.\n",
    "\n",
    "We also assume that the expected magnitude of the unknown effects\n",
    "is the same for each group --\n",
    "that the variance of the unknown effects\n",
    "doesn't depend on the group.\n",
    "The Greek term for \"spread\" is\n",
    "*skedasis*, so if we assume that the spread,\n",
    "or variance,\n",
    "is the same across groups, we are assuming\n",
    "*homoscedasticity*,\n",
    "as opposed to\n",
    "*heteroscedasticity*.\n",
    "If your groups are all the same size,\n",
    "then ANOVA is actually quite robust\n",
    "to violations of this assumption.\n",
    "See\n",
    "[this discussion on CrossValidated](https://stats.stackexchange.com/questions/97098/practically-speaking-how-do-people-handle-anova-when-the-data-doesnt-quite-mee)\n",
    "for more."
   ]
  },
  {
   "cell_type": "markdown",
   "metadata": {},
   "source": [
    "# Implementing ANOVA"
   ]
  },
  {
   "cell_type": "markdown",
   "metadata": {},
   "source": [
    "## Example Dataset\n",
    "\n",
    "For the rest of this section's tutorial and lab, we'll be using some EEG data graciously provided by the [Voytek lab](http://voyteklab.com/about-us/) of UCSD. Participants of varying ages were asked to perform a working memory task with varying levels of difficulty. The raw EEG signal has been summarized into the following two measures:\n",
    "\n",
    "* [Contralateral Delay Activity](https://www.ncbi.nlm.nih.gov/pubmed/26802451), or CDA, is used to measure the engagement of visual working memory.\n",
    "\n",
    "* [Frontal Midline Theta](https://www.ncbi.nlm.nih.gov/pubmed/9895201) oscillation amplitude has been correlated with sustained, internally-directed cognitive activity.\n",
    "\n",
    "The performance of the subjects has also been summarized using the measure\n",
    "[d'](https://en.wikipedia.org/wiki/Sensitivity_index) (pronounced \"d-prime\"), also known as the *sensitivity index*. D' is a measure of the subject's performance in  a task. It's based on comparing the true positive rate and false positive rate."
   ]
  },
  {
   "cell_type": "markdown",
   "metadata": {},
   "source": [
    "## Loading the Data"
   ]
  },
  {
   "cell_type": "code",
   "execution_count": 6,
   "metadata": {},
   "outputs": [
    {
     "data": {
      "text/html": [
       "<div>\n",
       "<style>\n",
       "    .dataframe thead tr:only-child th {\n",
       "        text-align: right;\n",
       "    }\n",
       "\n",
       "    .dataframe thead th {\n",
       "        text-align: left;\n",
       "    }\n",
       "\n",
       "    .dataframe tbody tr th {\n",
       "        vertical-align: top;\n",
       "    }\n",
       "</style>\n",
       "<table border=\"1\" class=\"dataframe\">\n",
       "  <thead>\n",
       "    <tr style=\"text-align: right;\">\n",
       "      <th></th>\n",
       "      <th>idx</th>\n",
       "      <th>id</th>\n",
       "      <th>age_split</th>\n",
       "      <th>group</th>\n",
       "      <th>age</th>\n",
       "      <th>difficulty</th>\n",
       "      <th>d</th>\n",
       "      <th>cda</th>\n",
       "      <th>fmt</th>\n",
       "    </tr>\n",
       "  </thead>\n",
       "  <tbody>\n",
       "    <tr>\n",
       "      <th>26</th>\n",
       "      <td>2</td>\n",
       "      <td>3</td>\n",
       "      <td>2</td>\n",
       "      <td>1</td>\n",
       "      <td>27</td>\n",
       "      <td>2</td>\n",
       "      <td>4.29</td>\n",
       "      <td>1.36</td>\n",
       "      <td>0.22</td>\n",
       "    </tr>\n",
       "    <tr>\n",
       "      <th>21</th>\n",
       "      <td>21</td>\n",
       "      <td>22</td>\n",
       "      <td>3</td>\n",
       "      <td>2</td>\n",
       "      <td>58</td>\n",
       "      <td>1</td>\n",
       "      <td>4.87</td>\n",
       "      <td>-0.32</td>\n",
       "      <td>0.49</td>\n",
       "    </tr>\n",
       "    <tr>\n",
       "      <th>71</th>\n",
       "      <td>23</td>\n",
       "      <td>24</td>\n",
       "      <td>4</td>\n",
       "      <td>2</td>\n",
       "      <td>68</td>\n",
       "      <td>3</td>\n",
       "      <td>1.56</td>\n",
       "      <td>0.81</td>\n",
       "      <td>-0.46</td>\n",
       "    </tr>\n",
       "    <tr>\n",
       "      <th>50</th>\n",
       "      <td>2</td>\n",
       "      <td>3</td>\n",
       "      <td>2</td>\n",
       "      <td>1</td>\n",
       "      <td>27</td>\n",
       "      <td>3</td>\n",
       "      <td>2.92</td>\n",
       "      <td>1.18</td>\n",
       "      <td>-0.07</td>\n",
       "    </tr>\n",
       "    <tr>\n",
       "      <th>59</th>\n",
       "      <td>11</td>\n",
       "      <td>12</td>\n",
       "      <td>4</td>\n",
       "      <td>2</td>\n",
       "      <td>62</td>\n",
       "      <td>3</td>\n",
       "      <td>3.15</td>\n",
       "      <td>1.01</td>\n",
       "      <td>-0.55</td>\n",
       "    </tr>\n",
       "  </tbody>\n",
       "</table>\n",
       "</div>"
      ],
      "text/plain": [
       "    idx  id  age_split  group  age  difficulty     d   cda   fmt\n",
       "26    2   3          2      1   27           2  4.29  1.36  0.22\n",
       "21   21  22          3      2   58           1  4.87 -0.32  0.49\n",
       "71   23  24          4      2   68           3  1.56  0.81 -0.46\n",
       "50    2   3          2      1   27           3  2.92  1.18 -0.07\n",
       "59   11  12          4      2   62           3  3.15  1.01 -0.55"
      ]
     },
     "execution_count": 6,
     "metadata": {},
     "output_type": "execute_result"
    }
   ],
   "source": [
    "df = pd.read_csv('./data/voytek_working_memory_aging_split.csv',index_col=None)\n",
    "\n",
    "df.sample(5)"
   ]
  },
  {
   "cell_type": "markdown",
   "metadata": {},
   "source": [
    "For the purposes of this lab, we're interested only in how task difficulty affects our three measures. We're uninterested in the subject's metadata -- `age_split`, `group`, `age`, and `idx`. Let's begin by dropping those columns from our dataframe using the DataFrame method `drop`."
   ]
  },
  {
   "cell_type": "code",
   "execution_count": 7,
   "metadata": {},
   "outputs": [
    {
     "data": {
      "text/html": [
       "<div>\n",
       "<style>\n",
       "    .dataframe thead tr:only-child th {\n",
       "        text-align: right;\n",
       "    }\n",
       "\n",
       "    .dataframe thead th {\n",
       "        text-align: left;\n",
       "    }\n",
       "\n",
       "    .dataframe tbody tr th {\n",
       "        vertical-align: top;\n",
       "    }\n",
       "</style>\n",
       "<table border=\"1\" class=\"dataframe\">\n",
       "  <thead>\n",
       "    <tr style=\"text-align: right;\">\n",
       "      <th></th>\n",
       "      <th>id</th>\n",
       "      <th>difficulty</th>\n",
       "      <th>d</th>\n",
       "      <th>cda</th>\n",
       "      <th>fmt</th>\n",
       "    </tr>\n",
       "  </thead>\n",
       "  <tbody>\n",
       "    <tr>\n",
       "      <th>12</th>\n",
       "      <td>13</td>\n",
       "      <td>1</td>\n",
       "      <td>3.78</td>\n",
       "      <td>0.46</td>\n",
       "      <td>0.65</td>\n",
       "    </tr>\n",
       "    <tr>\n",
       "      <th>36</th>\n",
       "      <td>13</td>\n",
       "      <td>2</td>\n",
       "      <td>3.50</td>\n",
       "      <td>0.96</td>\n",
       "      <td>0.39</td>\n",
       "    </tr>\n",
       "    <tr>\n",
       "      <th>61</th>\n",
       "      <td>14</td>\n",
       "      <td>3</td>\n",
       "      <td>2.75</td>\n",
       "      <td>1.00</td>\n",
       "      <td>0.45</td>\n",
       "    </tr>\n",
       "    <tr>\n",
       "      <th>57</th>\n",
       "      <td>10</td>\n",
       "      <td>3</td>\n",
       "      <td>4.65</td>\n",
       "      <td>1.84</td>\n",
       "      <td>1.57</td>\n",
       "    </tr>\n",
       "    <tr>\n",
       "      <th>35</th>\n",
       "      <td>12</td>\n",
       "      <td>2</td>\n",
       "      <td>3.91</td>\n",
       "      <td>0.44</td>\n",
       "      <td>-0.51</td>\n",
       "    </tr>\n",
       "  </tbody>\n",
       "</table>\n",
       "</div>"
      ],
      "text/plain": [
       "    id  difficulty     d   cda   fmt\n",
       "12  13           1  3.78  0.46  0.65\n",
       "36  13           2  3.50  0.96  0.39\n",
       "61  14           3  2.75  1.00  0.45\n",
       "57  10           3  4.65  1.84  1.57\n",
       "35  12           2  3.91  0.44 -0.51"
      ]
     },
     "execution_count": 7,
     "metadata": {},
     "output_type": "execute_result"
    }
   ],
   "source": [
    "data = df.drop(['age_split','group','age','idx'], axis=1)\n",
    "data.sample(5)"
   ]
  },
  {
   "cell_type": "markdown",
   "metadata": {},
   "source": [
    "It's good practice to keep an original copy of your dataframe around (here, named `df`) so you can undo irreversible changes, like dropping columns."
   ]
  },
  {
   "cell_type": "markdown",
   "metadata": {},
   "source": [
    "## ANOVA by Hand"
   ]
  },
  {
   "cell_type": "markdown",
   "metadata": {},
   "source": [
    "To get a better understanding of ANOVA,\n",
    "we'll now implement it from scratch.\n",
    "\n",
    "To get started,\n",
    "you'll need the total number of observations $N$,\n",
    "the group sizes\n",
    "(here, each group is the same size),\n",
    "and the keys for each group\n",
    "(here, 1, 2, and 3, and they're the `unique` values of the `difficulty` variable).\n",
    "\n",
    "The first cell picks a measure to run ANOVA on.\n",
    "We'll want to write all of our code that follows in such a way\n",
    "that we can run ANOVA on the other measures\n",
    "just by changing this one cell."
   ]
  },
  {
   "cell_type": "code",
   "execution_count": 8,
   "metadata": {
    "collapsed": true
   },
   "outputs": [],
   "source": [
    "measure = \"cda\""
   ]
  },
  {
   "cell_type": "code",
   "execution_count": 9,
   "metadata": {
    "collapsed": true
   },
   "outputs": [],
   "source": [
    "N = len(data[measure])\n",
    "\n",
    "groups = data[\"difficulty\"].unique()"
   ]
  },
  {
   "cell_type": "code",
   "execution_count": 10,
   "metadata": {},
   "outputs": [
    {
     "data": {
      "text/plain": [
       "array([1, 2, 3])"
      ]
     },
     "execution_count": 10,
     "metadata": {},
     "output_type": "execute_result"
    }
   ],
   "source": [
    "groups"
   ]
  },
  {
   "cell_type": "markdown",
   "metadata": {},
   "source": [
    "We'll proceed by generating a new data frame\n",
    "that contains all the information we need to perform an ANOVA\n",
    "-- each row will contain the grand mean and the group mean,\n",
    "the group effect,\n",
    "and the residual for that observation.\n",
    "We will call this our `anova_frame`.\n",
    "\n",
    "We also drop the other measures from this frame, to keep down on clutter."
   ]
  },
  {
   "cell_type": "code",
   "execution_count": 11,
   "metadata": {
    "collapsed": true
   },
   "outputs": [],
   "source": [
    "anova_frame = data.copy().drop([unused_measure for unused_measure in [\"cda\", \"d\", \"fmt\"]\n",
    "                                if measure != unused_measure], axis=1)"
   ]
  },
  {
   "cell_type": "markdown",
   "metadata": {},
   "source": [
    "### Computing the Grand and Group Means"
   ]
  },
  {
   "cell_type": "markdown",
   "metadata": {},
   "source": [
    "The cell below computes the grand mean\n",
    "and the group mean for each difficulty level\n",
    "and stores them in the `anova_frame`.\n",
    "\n",
    "The precise defintions of the grand and group means appear below."
   ]
  },
  {
   "cell_type": "markdown",
   "metadata": {},
   "source": [
    "$$\\begin{align}\n",
    "\\mu_\\text{grand} &= \\frac{1}{N}\\sum_\\text{dataset} Y_{ij} \\\\\n",
    "\\mu_{\\text{group}_i} &= \\frac{1}{N_{\\text{group}_i}}\\sum_{\\text{group}_i} Y_{ij}\n",
    "\\end{align}$$"
   ]
  },
  {
   "cell_type": "markdown",
   "metadata": {},
   "source": [
    "Note that $\\mu_{\\text{group}_i}$, the group *mean*, is not the same as $A_i$, the group *effect*!\n",
    "\n",
    "The group effect is the difference between the group mean and the grand mean. We must compute the group and grand mean first, before we can compute the group effect."
   ]
  },
  {
   "cell_type": "code",
   "execution_count": 12,
   "metadata": {
    "collapsed": true
   },
   "outputs": [],
   "source": [
    "anova_frame[\"grand_mean\"] = anova_frame[measure].mean()\n",
    "\n",
    "group_means = anova_frame.groupby(\"difficulty\")[measure].mean()\n",
    "\n",
    "for group in groups:\n",
    "    anova_frame.loc[anova_frame.difficulty==group,\"group_mean\"] = group_means[group]"
   ]
  },
  {
   "cell_type": "markdown",
   "metadata": {},
   "source": [
    "### Aside on Degrees of Freedom"
   ]
  },
  {
   "cell_type": "markdown",
   "metadata": {},
   "source": [
    "Let's take a look at the resulting data frame."
   ]
  },
  {
   "cell_type": "code",
   "execution_count": 13,
   "metadata": {},
   "outputs": [
    {
     "data": {
      "text/html": [
       "<div>\n",
       "<style>\n",
       "    .dataframe thead tr:only-child th {\n",
       "        text-align: right;\n",
       "    }\n",
       "\n",
       "    .dataframe thead th {\n",
       "        text-align: left;\n",
       "    }\n",
       "\n",
       "    .dataframe tbody tr th {\n",
       "        vertical-align: top;\n",
       "    }\n",
       "</style>\n",
       "<table border=\"1\" class=\"dataframe\">\n",
       "  <thead>\n",
       "    <tr style=\"text-align: right;\">\n",
       "      <th></th>\n",
       "      <th>id</th>\n",
       "      <th>difficulty</th>\n",
       "      <th>cda</th>\n",
       "      <th>grand_mean</th>\n",
       "      <th>group_mean</th>\n",
       "    </tr>\n",
       "  </thead>\n",
       "  <tbody>\n",
       "    <tr>\n",
       "      <th>58</th>\n",
       "      <td>11</td>\n",
       "      <td>3</td>\n",
       "      <td>1.45</td>\n",
       "      <td>1.474444</td>\n",
       "      <td>1.836250</td>\n",
       "    </tr>\n",
       "    <tr>\n",
       "      <th>42</th>\n",
       "      <td>19</td>\n",
       "      <td>2</td>\n",
       "      <td>1.13</td>\n",
       "      <td>1.474444</td>\n",
       "      <td>1.484167</td>\n",
       "    </tr>\n",
       "    <tr>\n",
       "      <th>34</th>\n",
       "      <td>11</td>\n",
       "      <td>2</td>\n",
       "      <td>2.09</td>\n",
       "      <td>1.474444</td>\n",
       "      <td>1.484167</td>\n",
       "    </tr>\n",
       "    <tr>\n",
       "      <th>65</th>\n",
       "      <td>18</td>\n",
       "      <td>3</td>\n",
       "      <td>1.55</td>\n",
       "      <td>1.474444</td>\n",
       "      <td>1.836250</td>\n",
       "    </tr>\n",
       "    <tr>\n",
       "      <th>2</th>\n",
       "      <td>3</td>\n",
       "      <td>1</td>\n",
       "      <td>0.84</td>\n",
       "      <td>1.474444</td>\n",
       "      <td>1.102917</td>\n",
       "    </tr>\n",
       "    <tr>\n",
       "      <th>71</th>\n",
       "      <td>24</td>\n",
       "      <td>3</td>\n",
       "      <td>0.81</td>\n",
       "      <td>1.474444</td>\n",
       "      <td>1.836250</td>\n",
       "    </tr>\n",
       "    <tr>\n",
       "      <th>47</th>\n",
       "      <td>24</td>\n",
       "      <td>2</td>\n",
       "      <td>1.00</td>\n",
       "      <td>1.474444</td>\n",
       "      <td>1.484167</td>\n",
       "    </tr>\n",
       "    <tr>\n",
       "      <th>64</th>\n",
       "      <td>17</td>\n",
       "      <td>3</td>\n",
       "      <td>1.46</td>\n",
       "      <td>1.474444</td>\n",
       "      <td>1.836250</td>\n",
       "    </tr>\n",
       "    <tr>\n",
       "      <th>13</th>\n",
       "      <td>14</td>\n",
       "      <td>1</td>\n",
       "      <td>1.17</td>\n",
       "      <td>1.474444</td>\n",
       "      <td>1.102917</td>\n",
       "    </tr>\n",
       "    <tr>\n",
       "      <th>11</th>\n",
       "      <td>12</td>\n",
       "      <td>1</td>\n",
       "      <td>0.15</td>\n",
       "      <td>1.474444</td>\n",
       "      <td>1.102917</td>\n",
       "    </tr>\n",
       "  </tbody>\n",
       "</table>\n",
       "</div>"
      ],
      "text/plain": [
       "    id  difficulty   cda  grand_mean  group_mean\n",
       "58  11           3  1.45    1.474444    1.836250\n",
       "42  19           2  1.13    1.474444    1.484167\n",
       "34  11           2  2.09    1.474444    1.484167\n",
       "65  18           3  1.55    1.474444    1.836250\n",
       "2    3           1  0.84    1.474444    1.102917\n",
       "71  24           3  0.81    1.474444    1.836250\n",
       "47  24           2  1.00    1.474444    1.484167\n",
       "64  17           3  1.46    1.474444    1.836250\n",
       "13  14           1  1.17    1.474444    1.102917\n",
       "11  12           1  0.15    1.474444    1.102917"
      ]
     },
     "execution_count": 13,
     "metadata": {},
     "output_type": "execute_result"
    }
   ],
   "source": [
    "anova_frame.sample(10)"
   ]
  },
  {
   "cell_type": "markdown",
   "metadata": {},
   "source": [
    "There are only three unique values in the `group_mean` column, corresponding to the three group means. If we calculate their average value, we'll find that it is equal to the grand mean."
   ]
  },
  {
   "cell_type": "code",
   "execution_count": 14,
   "metadata": {},
   "outputs": [
    {
     "name": "stdout",
     "output_type": "stream",
     "text": [
      "[ 1.10291667  1.48416667  1.83625   ]\n"
     ]
    },
    {
     "data": {
      "text/plain": [
       "True"
      ]
     },
     "execution_count": 14,
     "metadata": {},
     "output_type": "execute_result"
    }
   ],
   "source": [
    "group_means = anova_frame[\"group_mean\"].unique()\n",
    "\n",
    "print(group_means)\n",
    "\n",
    "np.mean(group_means) - anova_frame[measure].mean() < 1e-4"
   ]
  },
  {
   "cell_type": "markdown",
   "metadata": {},
   "source": [
    "This value is equal to the grand mean.\n",
    "If we know the grand mean,\n",
    "we only need two of the group means to know the other.\n",
    "\n",
    "Put another way, though we have three numbers here in the form of our three group means,\n",
    "the value of the third is constrained by the values of the other two (and the grand mean).\n",
    "There are only two \"free parameters\" here,\n",
    "rather than three.\n",
    "The number of free parameters is also known as the number of\n",
    "*degrees of freedom*,\n",
    "terminology that is borrowed from physics.\n",
    "\n",
    "When we are computing inferential statistics,\n",
    "we need to use the number of degrees of freedom,\n",
    "rather than the total number of observations.\n",
    "\n",
    "For the mean, this doesn't cause an issue,\n",
    "because the mean is computed independently\n",
    "from all of the datapoints.\n",
    "\n",
    "However, the variance is computed\n",
    "using the value of the mean,\n",
    "which is calculated from the same data.\n",
    "Therefore if we know the mean, the variance,\n",
    "and all but one of the data values,\n",
    "then we can calculate the missing value.\n",
    "Therefore the variance has one less degree of freedom,\n",
    "so the proper formula for the variance\n",
    "as an inferential statistic of the data is\n",
    "\n",
    "$$ \\frac{1}{N-1} \\sum_\\text{dataset} \\left(\\text{observation}\\ -\\ \\text{average of observations} \\right)^2 $$"
   ]
  },
  {
   "cell_type": "markdown",
   "metadata": {},
   "source": [
    "This will become important later when we calculate the variances."
   ]
  },
  {
   "cell_type": "markdown",
   "metadata": {},
   "source": [
    "### Computing the Group and Unknown Effects"
   ]
  },
  {
   "cell_type": "markdown",
   "metadata": {},
   "source": [
    "Now, we compute the explained and unexplained, or residual, components for each observation.\n",
    "The explained differences are the differences between the group average and the overall average.\n",
    "The unexplained difference is the difference between the individual score and the group average.\n",
    "\n",
    "Above, these were called the \"group effect\" and the \"unknown effect\", respectively.\n",
    "Terminology differs between authors.\n",
    "Different terms correspond to different particular intuitions about ANOVA,\n",
    "and we should be familiar with all of them."
   ]
  },
  {
   "cell_type": "markdown",
   "metadata": {},
   "source": [
    "$$\\begin{align}\n",
    "\\text{Group Effect}_i &= \\text{Explained Component}_i \\\\\n",
    "            &= \\mu_{\\text{group}_i} - \\mu_\\text{grand}  \\\\\n",
    "            \\\\\n",
    "\\text{Unknown Effects}_{ij} &= \\text{Unexplained Component}_{ij} = \\text{Residual}_{ij} \\\\\n",
    "            &= Y_{ij} - \\left(\\text{Grand Mean}\\ +\\ \\text{Group Effect}_i \\right) \\\\\n",
    "            &= Y_{ij} - \\mu_{\\text{group}_i}\n",
    "\\end{align}$$"
   ]
  },
  {
   "cell_type": "code",
   "execution_count": 15,
   "metadata": {
    "collapsed": true
   },
   "outputs": [],
   "source": [
    "anova_frame[\"explained\"] = anova_frame[\"group_mean\"]-anova_frame[\"grand_mean\"]\n",
    "\n",
    "anova_frame[\"residual\"] = anova_frame[measure]-anova_frame[\"group_mean\"]"
   ]
  },
  {
   "cell_type": "code",
   "execution_count": 16,
   "metadata": {},
   "outputs": [
    {
     "data": {
      "text/html": [
       "<div>\n",
       "<style>\n",
       "    .dataframe thead tr:only-child th {\n",
       "        text-align: right;\n",
       "    }\n",
       "\n",
       "    .dataframe thead th {\n",
       "        text-align: left;\n",
       "    }\n",
       "\n",
       "    .dataframe tbody tr th {\n",
       "        vertical-align: top;\n",
       "    }\n",
       "</style>\n",
       "<table border=\"1\" class=\"dataframe\">\n",
       "  <thead>\n",
       "    <tr style=\"text-align: right;\">\n",
       "      <th></th>\n",
       "      <th>id</th>\n",
       "      <th>difficulty</th>\n",
       "      <th>cda</th>\n",
       "      <th>grand_mean</th>\n",
       "      <th>group_mean</th>\n",
       "      <th>explained</th>\n",
       "      <th>residual</th>\n",
       "    </tr>\n",
       "  </thead>\n",
       "  <tbody>\n",
       "    <tr>\n",
       "      <th>51</th>\n",
       "      <td>4</td>\n",
       "      <td>3</td>\n",
       "      <td>2.25</td>\n",
       "      <td>1.474444</td>\n",
       "      <td>1.836250</td>\n",
       "      <td>0.361806</td>\n",
       "      <td>0.413750</td>\n",
       "    </tr>\n",
       "    <tr>\n",
       "      <th>71</th>\n",
       "      <td>24</td>\n",
       "      <td>3</td>\n",
       "      <td>0.81</td>\n",
       "      <td>1.474444</td>\n",
       "      <td>1.836250</td>\n",
       "      <td>0.361806</td>\n",
       "      <td>-1.026250</td>\n",
       "    </tr>\n",
       "    <tr>\n",
       "      <th>9</th>\n",
       "      <td>10</td>\n",
       "      <td>1</td>\n",
       "      <td>2.15</td>\n",
       "      <td>1.474444</td>\n",
       "      <td>1.102917</td>\n",
       "      <td>-0.371528</td>\n",
       "      <td>1.047083</td>\n",
       "    </tr>\n",
       "    <tr>\n",
       "      <th>68</th>\n",
       "      <td>21</td>\n",
       "      <td>3</td>\n",
       "      <td>3.91</td>\n",
       "      <td>1.474444</td>\n",
       "      <td>1.836250</td>\n",
       "      <td>0.361806</td>\n",
       "      <td>2.073750</td>\n",
       "    </tr>\n",
       "    <tr>\n",
       "      <th>64</th>\n",
       "      <td>17</td>\n",
       "      <td>3</td>\n",
       "      <td>1.46</td>\n",
       "      <td>1.474444</td>\n",
       "      <td>1.836250</td>\n",
       "      <td>0.361806</td>\n",
       "      <td>-0.376250</td>\n",
       "    </tr>\n",
       "    <tr>\n",
       "      <th>56</th>\n",
       "      <td>9</td>\n",
       "      <td>3</td>\n",
       "      <td>3.12</td>\n",
       "      <td>1.474444</td>\n",
       "      <td>1.836250</td>\n",
       "      <td>0.361806</td>\n",
       "      <td>1.283750</td>\n",
       "    </tr>\n",
       "    <tr>\n",
       "      <th>21</th>\n",
       "      <td>22</td>\n",
       "      <td>1</td>\n",
       "      <td>-0.32</td>\n",
       "      <td>1.474444</td>\n",
       "      <td>1.102917</td>\n",
       "      <td>-0.371528</td>\n",
       "      <td>-1.422917</td>\n",
       "    </tr>\n",
       "    <tr>\n",
       "      <th>25</th>\n",
       "      <td>2</td>\n",
       "      <td>2</td>\n",
       "      <td>0.73</td>\n",
       "      <td>1.474444</td>\n",
       "      <td>1.484167</td>\n",
       "      <td>0.009722</td>\n",
       "      <td>-0.754167</td>\n",
       "    </tr>\n",
       "    <tr>\n",
       "      <th>30</th>\n",
       "      <td>7</td>\n",
       "      <td>2</td>\n",
       "      <td>2.26</td>\n",
       "      <td>1.474444</td>\n",
       "      <td>1.484167</td>\n",
       "      <td>0.009722</td>\n",
       "      <td>0.775833</td>\n",
       "    </tr>\n",
       "    <tr>\n",
       "      <th>34</th>\n",
       "      <td>11</td>\n",
       "      <td>2</td>\n",
       "      <td>2.09</td>\n",
       "      <td>1.474444</td>\n",
       "      <td>1.484167</td>\n",
       "      <td>0.009722</td>\n",
       "      <td>0.605833</td>\n",
       "    </tr>\n",
       "  </tbody>\n",
       "</table>\n",
       "</div>"
      ],
      "text/plain": [
       "    id  difficulty   cda  grand_mean  group_mean  explained  residual\n",
       "51   4           3  2.25    1.474444    1.836250   0.361806  0.413750\n",
       "71  24           3  0.81    1.474444    1.836250   0.361806 -1.026250\n",
       "9   10           1  2.15    1.474444    1.102917  -0.371528  1.047083\n",
       "68  21           3  3.91    1.474444    1.836250   0.361806  2.073750\n",
       "64  17           3  1.46    1.474444    1.836250   0.361806 -0.376250\n",
       "56   9           3  3.12    1.474444    1.836250   0.361806  1.283750\n",
       "21  22           1 -0.32    1.474444    1.102917  -0.371528 -1.422917\n",
       "25   2           2  0.73    1.474444    1.484167   0.009722 -0.754167\n",
       "30   7           2  2.26    1.474444    1.484167   0.009722  0.775833\n",
       "34  11           2  2.09    1.474444    1.484167   0.009722  0.605833"
      ]
     },
     "execution_count": 16,
     "metadata": {},
     "output_type": "execute_result"
    }
   ],
   "source": [
    "anova_frame.sample(10)"
   ]
  },
  {
   "cell_type": "markdown",
   "metadata": {},
   "source": [
    "To check our work, we confirm that the total value for each observation is equal to the sum of the grand mean, the explained component, and the residual."
   ]
  },
  {
   "cell_type": "code",
   "execution_count": 17,
   "metadata": {},
   "outputs": [
    {
     "data": {
      "text/plain": [
       "True"
      ]
     },
     "execution_count": 17,
     "metadata": {},
     "output_type": "execute_result"
    }
   ],
   "source": [
    "np.isclose(anova_frame[measure], anova_frame[\"grand_mean\"] \n",
    "                                + anova_frame[\"explained\"]\n",
    "                                  + anova_frame[\"residual\"]).all()"
   ]
  },
  {
   "cell_type": "markdown",
   "metadata": {},
   "source": [
    "This is a condition that is guaranteed by our model,\n",
    "which states that any component of our observation that isn't explainable\n",
    "as a deviation in group mean from the grand mean\n",
    "is due to an unknown effect and is\n",
    "to be left unexplained, or residual.\n",
    "\n",
    "Review the implicit ANOVA model below and compare it to the `anova_frame` above.\n",
    "Where is each component in this dataframe? How are they related to each other?"
   ]
  },
  {
   "cell_type": "markdown",
   "metadata": {},
   "source": [
    "$$\\begin{align}\n",
    "    &\\text{Observation}\\ j\\ \\text{in Group}\\ i\\ &= \\ &\\text{Grand Mean}\\ &+\\ &\\text{Group Effect}_i\\ &+ \\ &\\text{Unknown Effects}_{ij} \\\\\n",
    "    &Y_{ij} &= \\ &\\mu_\\text{grand} \\ &+\\ &A_i\\ &+ \\ &\\epsilon_{ij}\n",
    "\\end{align}$$"
   ]
  },
  {
   "cell_type": "markdown",
   "metadata": {},
   "source": [
    "### Computing Sums of Squares"
   ]
  },
  {
   "cell_type": "markdown",
   "metadata": {},
   "source": [
    "Now that we have all of our components,\n",
    "we need to compute their mean squares.\n",
    "The general formula for computing the mean squared difference from the mean is"
   ]
  },
  {
   "cell_type": "markdown",
   "metadata": {},
   "source": [
    "$$\n",
    "\\text{Variance of Observed Variable} = \\frac{1}{\\text{degrees of freedom}} \\sum_\\text{observations} \\left(\\text{observation}\\ -\\ \\text{average of observations}\\right)^2\n",
    "$$"
   ]
  },
  {
   "cell_type": "markdown",
   "metadata": {},
   "source": [
    "where everything except the inverse degrees of freedom\n",
    "is called a\n",
    "*sum of squares*,\n",
    "for the obvious reason."
   ]
  },
  {
   "cell_type": "markdown",
   "metadata": {},
   "source": [
    "As a first step to calculating each mean square,\n",
    "we calculate several sums of squares.\n",
    "\n",
    "Using the symbol $SS$ to stand for \"sum of squares\",\n",
    "we define the following:"
   ]
  },
  {
   "cell_type": "markdown",
   "metadata": {},
   "source": [
    "$$\\begin{align}\n",
    "SS_\\text{Total} &= \\sum_\\text{dataset} Y_{ij}^2 \\\\\n",
    "SS_\\text{Grand Mean} &= \\sum_\\text{dataset} \\mu_\\text{grand}^2 \\\\\n",
    "SS_\\text{Explainable} = SS_\\text{Total} - SS_\\text{Grand Mean} \n",
    "                     &= \\sum_\\text{dataset} \\left(Y_{ij} - \\mu_\\text{grand}\\right)^2 \\\\\n",
    "SS_{\\text{Explained}} = \\sum_\\text{groups} SS_{\\text{Group Effect}_i}\n",
    "                     &= \\sum_\\text{groups} \\sum_{\\text{group}_i} A_i^2 \\\\\n",
    "SS_{\\text{Residual}} = SS_\\text{Explainable} - SS_\\text{Explained}\n",
    "                     &= \\sum_\\text{dataset} \\left(Y_{ij} - A_i - \\mu_{grand}\\right)^2\n",
    "\\end{align}$$"
   ]
  },
  {
   "cell_type": "markdown",
   "metadata": {},
   "source": [
    "also known as the total sum of squares, sum of the grand mean squared,\n",
    "the sum of squares that can be explained by a model,\n",
    "the sum of squares that were explained by the model,\n",
    "and the residual sum of squares.\n",
    "\n",
    "Several of the equations above, like the one relating\n",
    "the explainable sum of squares to the total and grand mean sums of squares,\n",
    "can be used to determine whether we've done our calculations correctly.\n",
    "The assertion statements in the code cell under the next check this.\n",
    "\n",
    "We'll store the sums of squares in a dictionary, `sum_of_squares`, using the column name as the key."
   ]
  },
  {
   "cell_type": "code",
   "execution_count": 18,
   "metadata": {
    "collapsed": true
   },
   "outputs": [],
   "source": [
    "sum_of_squares = {}\n",
    "\n",
    "keys = [measure,\"grand_mean\",\"explained\",\"residual\"]\n",
    "\n",
    "for key in keys:\n",
    "    sum_of_squares[key] = np.sum(np.square((anova_frame[key])))\n",
    "    \n",
    "sum_of_squares[\"explainable\"] = sum_of_squares[measure] - sum_of_squares[\"grand_mean\"]"
   ]
  },
  {
   "cell_type": "code",
   "execution_count": 19,
   "metadata": {
    "collapsed": true
   },
   "outputs": [],
   "source": [
    "# these should be the same, except for computer rounding error\n",
    "\n",
    "assert( sum_of_squares[measure] - (sum_of_squares[\"grand_mean\"] + \n",
    "                                 sum_of_squares[\"explainable\"]) <= 1e-4 )\n",
    "\n",
    "assert( sum_of_squares[\"explainable\"] - (sum_of_squares[\"explained\"] +\n",
    "                                       sum_of_squares[\"residual\"]) <= 1e-4 )"
   ]
  },
  {
   "cell_type": "code",
   "execution_count": 20,
   "metadata": {},
   "outputs": [
    {
     "data": {
      "text/plain": [
       "{'cda': 204.53820000000002,\n",
       " 'explainable': 48.011177777777817,\n",
       " 'explained': 6.4567361111111206,\n",
       " 'grand_mean': 156.5270222222222,\n",
       " 'residual': 41.554441666666669}"
      ]
     },
     "execution_count": 20,
     "metadata": {},
     "output_type": "execute_result"
    }
   ],
   "source": [
    "sum_of_squares"
   ]
  },
  {
   "cell_type": "markdown",
   "metadata": {},
   "source": [
    "### Computing Mean Squares"
   ]
  },
  {
   "cell_type": "markdown",
   "metadata": {},
   "source": [
    "If we use an alternative formula for variance:"
   ]
  },
  {
   "cell_type": "markdown",
   "metadata": {},
   "source": [
    "$$\\begin{align}\n",
    "\\text{Variance}(X) = \\frac{1}{\\text{degrees of freedom}} \\left( SS(X) - SS(\\mu_X) \\right)\n",
    "\\end{align}$$"
   ]
  },
  {
   "cell_type": "markdown",
   "metadata": {},
   "source": [
    "where $\\mu_X$ is the mean of $X$,\n",
    "we see that our explained sum of squares, \n",
    "$$\n",
    "\\ \\\\\n",
    "SS_\\text{Explained} = SS_\\text{Group Means} - SS_\\text{Grand Mean}\\\\\n",
    "$$\n",
    "is ready to be turned into a variance:\n",
    "the average of the group means is the grand mean,\n",
    "so dividing the explained sum of squares\n",
    "by its degrees of freedom tells us\n",
    "the variance of our predictions,\n",
    "aka the spread of the group means."
   ]
  },
  {
   "cell_type": "markdown",
   "metadata": {},
   "source": [
    "In addition, the mean of the residuals is by definition $0$,\n",
    "so the mean squared difference of the residuals from their mean is just\n",
    "$$\n",
    "\\ \\\\ \n",
    "\\frac{1}{\\text{degrees of freedom}}SS_{\\text{Residual}} \\\\\n",
    "$$\n",
    "and so we also only need to divide by degrees of freedom to get the variance."
   ]
  },
  {
   "cell_type": "markdown",
   "metadata": {},
   "source": [
    "Because we are simply dividing a sum of squares,\n",
    "these quantities are often \"mean squares\"\n",
    "rather than \"mean squared differences from the mean\"\n",
    "or \"variances\"."
   ]
  },
  {
   "cell_type": "markdown",
   "metadata": {},
   "source": [
    "The total degrees of freedom is the number of observations, $N$.\n",
    "\n",
    "Each time we use a degree of freedom, we subtract from our total available.\n",
    "When we are done, we have no degrees of freedom left.\n",
    "\n",
    "Calculating the grand mean takes away one degree of freedom:\n",
    "if we know the grand mean AND $N-1$ of the data values,\n",
    "then we know the missing value.\n",
    "\n",
    "Calculating the $k$ different group means,\n",
    "which gave us our explained components,\n",
    "takes away $k-1$ degrees of freedom.\n",
    "If we know the grand mean AND $k-1$ of the group means,\n",
    "then we know the missing group mean.\n",
    "\n",
    "The remaining degrees of freedom are used by the residuals.\n",
    "If we write the process of subtraction out,\n",
    "we get\n",
    "\n",
    "$$\n",
    "\\text{residual degrees of freedom} = N - 1 - (k-1) = N - 1 - k + 1 = N - k\n",
    "$$\n",
    "\n",
    "The cell below calculates these degrees of freedom\n",
    "and places them in a dictionary\n",
    "called `dof`.\n",
    "\n",
    "As a sanity check, the assert statement below\n",
    "checks that the sum of the other degrees of freedom\n",
    "is equal to the total degrees of freedom."
   ]
  },
  {
   "cell_type": "code",
   "execution_count": 21,
   "metadata": {
    "collapsed": true
   },
   "outputs": [],
   "source": [
    "# k is the number of groups\n",
    "k = len(groups)\n",
    "\n",
    "dof = {}\n",
    "vals = [N,1,k-1,N-k]\n",
    "\n",
    "for key,val in zip(keys,vals):\n",
    "    dof[key] = val"
   ]
  },
  {
   "cell_type": "code",
   "execution_count": 22,
   "metadata": {},
   "outputs": [
    {
     "data": {
      "text/plain": [
       "{'cda': 72, 'explained': 2, 'grand_mean': 1, 'residual': 69}"
      ]
     },
     "execution_count": 22,
     "metadata": {},
     "output_type": "execute_result"
    }
   ],
   "source": [
    "dof"
   ]
  },
  {
   "cell_type": "code",
   "execution_count": 23,
   "metadata": {
    "collapsed": true
   },
   "outputs": [],
   "source": [
    "assert(sum([dof[key] for key in dof.keys()\n",
    "                       if key is not measure]) == dof[measure])"
   ]
  },
  {
   "cell_type": "markdown",
   "metadata": {},
   "source": [
    "Now, we calculate our estimate for the mean square of the explained and unexplained components."
   ]
  },
  {
   "cell_type": "code",
   "execution_count": 24,
   "metadata": {
    "collapsed": true
   },
   "outputs": [],
   "source": [
    "mean_square = {}\n",
    "\n",
    "for key in [\"explained\",\"residual\"]:\n",
    "    mean_square[key] = sum_of_squares[key]/dof[key]"
   ]
  },
  {
   "cell_type": "code",
   "execution_count": 25,
   "metadata": {},
   "outputs": [
    {
     "data": {
      "text/plain": [
       "{'explained': 3.2283680555555603, 'residual': 0.60223828502415466}"
      ]
     },
     "execution_count": 25,
     "metadata": {},
     "output_type": "execute_result"
    }
   ],
   "source": [
    "mean_square"
   ]
  },
  {
   "cell_type": "markdown",
   "metadata": {},
   "source": [
    "The variance of the explained component tells us how much\n",
    "the groups differ from one another:\n",
    "the larger the spread in group means,\n",
    "the large the variance of the explained component.\n",
    "This is also sometimes referred to as the\n",
    "*variance in our predictions*.\n",
    "\n",
    "We'd like our predictions to,\n",
    "in addition to having small squared error,\n",
    "aka small variance *within* groups,\n",
    "have large variance *between* groups,\n",
    "since that means that the prediction\n",
    "is actually different for different groups.\n",
    "For this reason,\n",
    "these mean squares are sometimes called\n",
    "the within group mean squares\n",
    "and the between group mean squares,\n",
    "rather than residual and explained,\n",
    "respecitvely.\n",
    "\n",
    "Note that the bigger the explained mean square is,\n",
    "the more supported the hypothesis is,\n",
    "and the less likely we are to have observed such a result if the null hypothesis were true.\n",
    "(Why?)"
   ]
  },
  {
   "cell_type": "markdown",
   "metadata": {},
   "source": [
    "### Computing the $F$-Statistic"
   ]
  },
  {
   "cell_type": "markdown",
   "metadata": {},
   "source": [
    "However,\n",
    "the explained mean square by itself isn't sufficient to make decisions\n",
    "about the validity of hypotheses\n",
    "-- is a variance of `3.23` \"big enough\" to not be due to chance?\n",
    "For our data, it seems like it is,\n",
    "but for data with units in the billions and spread in the millions,\n",
    "it would not be.\n",
    "Therefore,\n",
    "if we want a statistic that tells us how good our hypothesis is,\n",
    "we need to somehow take into account the total variance.\n",
    "\n",
    "To do so,\n",
    "we divide the explained variance\n",
    "not by the total variance,\n",
    "but by the unexplained variance.\n",
    "The ratio of the explained variance\n",
    "to the unexplained variance\n",
    "is called the $F$-statistic."
   ]
  },
  {
   "cell_type": "markdown",
   "metadata": {},
   "source": [
    "Why do we divide by the unexplained,\n",
    "residual variance\n",
    "instead of by the total variance?\n",
    "\n",
    "The reasons for choosing $F$ are technical,\n",
    "relating to which ratio is easier\n",
    "to get a handle on mathematically.\n",
    "The upshot is that the $F$ statistic\n",
    "has a nice distribution that can be written down mathematically,\n",
    "without the aid of computers,\n",
    "as [Sir Ronald Fisher](https://en.wikipedia.org/wiki/Ronald_Fisher)\n",
    "did in the early 20th century.\n",
    "Ratios of other variances are not as amenable\n",
    "to mathematical analysis,\n",
    "and so the only way to test hypotheses\n",
    "using those ratios as the test statistic is by using\n",
    "randomization tests,\n",
    "which require substantial computing power.\n",
    "\n",
    "We'll discuss other statistics for ANOVA\n",
    "in greater detail in the lab for this ection.\n",
    "\n",
    "We compute the value of $F$ for this data below."
   ]
  },
  {
   "cell_type": "code",
   "execution_count": 26,
   "metadata": {},
   "outputs": [
    {
     "data": {
      "text/plain": [
       "5.3606157825487237"
      ]
     },
     "execution_count": 26,
     "metadata": {},
     "output_type": "execute_result"
    }
   ],
   "source": [
    "F = mean_square[\"explained\"]/mean_square[\"residual\"]\n",
    "\n",
    "F"
   ]
  },
  {
   "cell_type": "markdown",
   "metadata": {},
   "source": [
    "In\n",
    "[the lab for this section](./Lab - One-Way ANOVA.ipynb),\n",
    "we will first walk through the versions of ANOVA\n",
    "provided by the `scipy` and `statsmodels`\n",
    "packages,\n",
    "then extend the \"homemade\" approach above\n",
    "to calculating $p$ values and effect sizes."
   ]
  }
 ],
 "metadata": {
  "anaconda-cloud": {},
  "kernelspec": {
   "display_name": "neur299",
   "language": "python",
   "name": "neur299"
  },
  "language_info": {
   "codemirror_mode": {
    "name": "ipython",
    "version": 3
   },
   "file_extension": ".py",
   "mimetype": "text/x-python",
   "name": "python",
   "nbconvert_exporter": "python",
   "pygments_lexer": "ipython3",
   "version": "3.6.3"
  }
 },
 "nbformat": 4,
 "nbformat_minor": 1
}
